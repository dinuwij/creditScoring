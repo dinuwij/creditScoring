{
 "cells": [
  {
   "cell_type": "code",
   "execution_count": 39,
   "metadata": {},
   "outputs": [],
   "source": [
    "#######################################################\n",
    "#********** ASSIGNMENT :CREDIT SCORING ***************#\n",
    "#*********** ST: NAME: DINU WIJAYAWEERA *************#\n",
    "#*********** PROF: Prof Dr. Wouter Verbeke  *********#\n",
    "######################################################"
   ]
  },
  {
   "cell_type": "markdown",
   "metadata": {},
   "source": [
    "#### References : \n",
    "* Statistics and Machine Learning for marketing notes\n",
    "* Blue courses Basic Credit Risk Modeling for Basel/IFRS 9 using R/Python/SAS: https://www.bluecourses.com/courses/\n",
    "* Introduction to Credit scoring and scorecard : https://rpubs.com/chidungkt/442168\n",
    "* Survival Analysis : https://www.r-bloggers.com/steps-to-perform-survival-analysis-in-r/\n",
    "* Score card Module : https://cran.r-project.org/web/packages/scorecard/scorecard.pdf\n"
   ]
  },
  {
   "cell_type": "markdown",
   "metadata": {},
   "source": [
    "### Import libraries"
   ]
  },
  {
   "cell_type": "code",
   "execution_count": 1,
   "metadata": {},
   "outputs": [
    {
     "name": "stderr",
     "output_type": "stream",
     "text": [
      "Warning message:\n",
      "\"package 'data.table' was built under R version 3.6.1\"Warning message:\n",
      "\"package 'readxl' was built under R version 3.6.1\"Warning message:\n",
      "\"package 'plyr' was built under R version 3.6.1\"Warning message:\n",
      "\"package 'dataPreparation' was built under R version 3.6.3\"Loading required package: lubridate\n",
      "Warning message:\n",
      "\"package 'lubridate' was built under R version 3.6.1\"\n",
      "Attaching package: 'lubridate'\n",
      "\n",
      "The following object is masked from 'package:plyr':\n",
      "\n",
      "    here\n",
      "\n",
      "The following objects are masked from 'package:data.table':\n",
      "\n",
      "    hour, isoweek, mday, minute, month, quarter, second, wday, week,\n",
      "    yday, year\n",
      "\n",
      "The following object is masked from 'package:base':\n",
      "\n",
      "    date\n",
      "\n",
      "Loading required package: stringr\n",
      "Warning message:\n",
      "\"package 'stringr' was built under R version 3.6.1\"Loading required package: Matrix\n",
      "Warning message:\n",
      "\"package 'Matrix' was built under R version 3.6.2\"Loading required package: progress\n",
      "Warning message:\n",
      "\"package 'progress' was built under R version 3.6.1\"Error: package or namespace load failed for 'progress' in loadNamespace(i, c(lib.loc, .libPaths()), versionCheck = vI[[i]]):\n",
      " namespace 'rlang' 0.3.4 is already loaded, but >= 0.4.5 is required\n"
     ]
    },
    {
     "ename": "ERROR",
     "evalue": "Error: package 'progress' could not be loaded\n",
     "output_type": "error",
     "traceback": [
      "Error: package 'progress' could not be loaded\nTraceback:\n",
      "1. library(dataPreparation)",
      "2. .getRequiredPackages2(pkgInfo, quietly = quietly)",
      "3. stop(gettextf(\"package %s could not be loaded\", sQuote(pkg)), \n .     call. = FALSE, domain = NA)"
     ]
    }
   ],
   "source": [
    "# Data processing library\n",
    "library(data.table)       # Data manipulation\n",
    "library(readxl)             #Excel \n",
    "library(plyr)             # Data manipulation\n",
    "library(dataPreparation)  # Data preparation library\n",
    "library(woeBinning)       # Decision tree–based binning for numerical and categorical variables\n",
    "library(dplyr)            # Data Manipulation\n",
    "library(scorecard)       # Specific for score card creation\n",
    "\n",
    "# Machine learning library\n",
    "library(mlr)          # Machine learning framework\n",
    "library(caret)         # Data processing and machine learning framework"
   ]
  },
  {
   "cell_type": "code",
   "execution_count": null,
   "metadata": {},
   "outputs": [],
   "source": [
    "#install.packages(\"devtools\", dependencies = TRUE)\n",
    "#library(devtools)\n",
    "#remotes::update_packages(\"rlang\")\n",
    "#devtools::install_github(\"ayhandis/creditR\")\n",
    "#library(creditR)"
   ]
  },
  {
   "cell_type": "code",
   "execution_count": null,
   "metadata": {},
   "outputs": [],
   "source": [
    "#remotes::update_packages(\"rlang\")\n"
   ]
  },
  {
   "cell_type": "markdown",
   "metadata": {},
   "source": [
    "### Data Exploration and Preprocessing"
   ]
  },
  {
   "cell_type": "markdown",
   "metadata": {},
   "source": [
    "Read in the data\n"
   ]
  },
  {
   "cell_type": "code",
   "execution_count": 2,
   "metadata": {},
   "outputs": [],
   "source": [
    "#Set working directory\n",
    "setwd(\"C:/Users/dwijayaweera/Documents/2nd-Credit Scoring\") \n"
   ]
  },
  {
   "cell_type": "code",
   "execution_count": 3,
   "metadata": {},
   "outputs": [],
   "source": [
    "#Read in the two data files\n",
    "accepts <- read_excel(\"ACCEPTS.xlsx\") \n",
    "rejects <- read_excel(\"REJECTS.xlsx\") "
   ]
  },
  {
   "cell_type": "markdown",
   "metadata": {},
   "source": [
    "Check the structure and explore the Accepts data set"
   ]
  },
  {
   "cell_type": "code",
   "execution_count": 4,
   "metadata": {},
   "outputs": [
    {
     "name": "stdout",
     "output_type": "stream",
     "text": [
      "Classes 'tbl_df', 'tbl' and 'data.frame':\t10000 obs. of  19 variables:\n",
      " $ ID                 : num  250263 250290 250249 249516 249827 ...\n",
      " $ V1                 : num  1 1 2 3 1 1 2 1 2 3 ...\n",
      " $ V2                 : num  1 2 3 3 3 3 4 3 5 3 ...\n",
      " $ V3                 : num  11 6 11 10 5 11 11 12 11 14 ...\n",
      " $ V4                 : num  5 4 5 4 2 2 5 3 5 1 ...\n",
      " $ V5                 : num  6 5 7 2 4 5 7 3 1 4 ...\n",
      " $ V6                 : num  7 1 7 4 4 4 7 5 7 4 ...\n",
      " $ V7                 : num  1 1 1 1 1 3 3 1 1 3 ...\n",
      " $ V8                 : chr  \"2\" \"2\" \"2\" \"2\" ...\n",
      " $ Has_FICO           : num  0 1 1 0 0 0 1 0 0 0 ...\n",
      " $ Business_channel   : num  1 1 1 1 1 2 1 2 1 1 ...\n",
      " $ Days_late          : num  0 0 0 168 0 0 0 0 336 0 ...\n",
      " $ FICO_Score         : num  NA 1.498 -0.242 NA NA ...\n",
      " $ Loan_amount        : num  1.439 0.205 -0.853 -0.676 -0.412 ...\n",
      " $ Monthly_income     : num  -0.2591 0.3833 -0.7324 -0.0573 -0.5746 ...\n",
      " $ Age                : num  1.781 1.107 1.407 0.957 -0.39 ...\n",
      " $ Gearing_coefficient: num  0.86 -0.718 1.123 -1.702 0.91 ...\n",
      " $ Max_gearing_ratio  : num  0.514 1.797 -0.769 0.514 -0.769 ...\n",
      " $ Default_45         : num  0 0 0 1 0 0 0 0 1 0 ...\n"
     ]
    }
   ],
   "source": [
    "str(accepts)"
   ]
  },
  {
   "cell_type": "code",
   "execution_count": 5,
   "metadata": {},
   "outputs": [
    {
     "data": {
      "text/html": [
       "<ol class=list-inline>\n",
       "\t<li>'ID'</li>\n",
       "\t<li>'V1'</li>\n",
       "\t<li>'V2'</li>\n",
       "\t<li>'V3'</li>\n",
       "\t<li>'V4'</li>\n",
       "\t<li>'V5'</li>\n",
       "\t<li>'V6'</li>\n",
       "\t<li>'V7'</li>\n",
       "\t<li>'V8'</li>\n",
       "\t<li>'Has_FICO'</li>\n",
       "\t<li>'Business_channel'</li>\n",
       "\t<li>'Days_late'</li>\n",
       "\t<li>'FICO_Score'</li>\n",
       "\t<li>'Loan_amount'</li>\n",
       "\t<li>'Monthly_income'</li>\n",
       "\t<li>'Age'</li>\n",
       "\t<li>'Gearing_coefficient'</li>\n",
       "\t<li>'Max_gearing_ratio'</li>\n",
       "\t<li>'Bad_creditability'</li>\n",
       "</ol>\n"
      ],
      "text/latex": [
       "\\begin{enumerate*}\n",
       "\\item 'ID'\n",
       "\\item 'V1'\n",
       "\\item 'V2'\n",
       "\\item 'V3'\n",
       "\\item 'V4'\n",
       "\\item 'V5'\n",
       "\\item 'V6'\n",
       "\\item 'V7'\n",
       "\\item 'V8'\n",
       "\\item 'Has\\_FICO'\n",
       "\\item 'Business\\_channel'\n",
       "\\item 'Days\\_late'\n",
       "\\item 'FICO\\_Score'\n",
       "\\item 'Loan\\_amount'\n",
       "\\item 'Monthly\\_income'\n",
       "\\item 'Age'\n",
       "\\item 'Gearing\\_coefficient'\n",
       "\\item 'Max\\_gearing\\_ratio'\n",
       "\\item 'Bad\\_creditability'\n",
       "\\end{enumerate*}\n"
      ],
      "text/markdown": [
       "1. 'ID'\n",
       "2. 'V1'\n",
       "3. 'V2'\n",
       "4. 'V3'\n",
       "5. 'V4'\n",
       "6. 'V5'\n",
       "7. 'V6'\n",
       "8. 'V7'\n",
       "9. 'V8'\n",
       "10. 'Has_FICO'\n",
       "11. 'Business_channel'\n",
       "12. 'Days_late'\n",
       "13. 'FICO_Score'\n",
       "14. 'Loan_amount'\n",
       "15. 'Monthly_income'\n",
       "16. 'Age'\n",
       "17. 'Gearing_coefficient'\n",
       "18. 'Max_gearing_ratio'\n",
       "19. 'Bad_creditability'\n",
       "\n",
       "\n"
      ],
      "text/plain": [
       " [1] \"ID\"                  \"V1\"                  \"V2\"                 \n",
       " [4] \"V3\"                  \"V4\"                  \"V5\"                 \n",
       " [7] \"V6\"                  \"V7\"                  \"V8\"                 \n",
       "[10] \"Has_FICO\"            \"Business_channel\"    \"Days_late\"          \n",
       "[13] \"FICO_Score\"          \"Loan_amount\"         \"Monthly_income\"     \n",
       "[16] \"Age\"                 \"Gearing_coefficient\" \"Max_gearing_ratio\"  \n",
       "[19] \"Bad_creditability\"  "
      ]
     },
     "metadata": {},
     "output_type": "display_data"
    }
   ],
   "source": [
    "#Change name of Default\n",
    "names(accepts)[19] <- \"Bad_creditability\"\n",
    "colnames(accepts)"
   ]
  },
  {
   "cell_type": "code",
   "execution_count": 6,
   "metadata": {},
   "outputs": [
    {
     "data": {
      "text/html": [
       "<dl class=dl-horizontal>\n",
       "\t<dt>ID</dt>\n",
       "\t\t<dd>0</dd>\n",
       "\t<dt>V1</dt>\n",
       "\t\t<dd>0</dd>\n",
       "\t<dt>V2</dt>\n",
       "\t\t<dd>0</dd>\n",
       "\t<dt>V3</dt>\n",
       "\t\t<dd>0</dd>\n",
       "\t<dt>V4</dt>\n",
       "\t\t<dd>0</dd>\n",
       "\t<dt>V5</dt>\n",
       "\t\t<dd>0</dd>\n",
       "\t<dt>V6</dt>\n",
       "\t\t<dd>0</dd>\n",
       "\t<dt>V7</dt>\n",
       "\t\t<dd>0</dd>\n",
       "\t<dt>V8</dt>\n",
       "\t\t<dd>0</dd>\n",
       "\t<dt>Has_FICO</dt>\n",
       "\t\t<dd>0</dd>\n",
       "\t<dt>Business_channel</dt>\n",
       "\t\t<dd>0</dd>\n",
       "\t<dt>Days_late</dt>\n",
       "\t\t<dd>0</dd>\n",
       "\t<dt>FICO_Score</dt>\n",
       "\t\t<dd>4472</dd>\n",
       "\t<dt>Loan_amount</dt>\n",
       "\t\t<dd>0</dd>\n",
       "\t<dt>Monthly_income</dt>\n",
       "\t\t<dd>0</dd>\n",
       "\t<dt>Age</dt>\n",
       "\t\t<dd>0</dd>\n",
       "\t<dt>Gearing_coefficient</dt>\n",
       "\t\t<dd>0</dd>\n",
       "\t<dt>Max_gearing_ratio</dt>\n",
       "\t\t<dd>0</dd>\n",
       "\t<dt>Bad_creditability</dt>\n",
       "\t\t<dd>0</dd>\n",
       "</dl>\n"
      ],
      "text/latex": [
       "\\begin{description*}\n",
       "\\item[ID] 0\n",
       "\\item[V1] 0\n",
       "\\item[V2] 0\n",
       "\\item[V3] 0\n",
       "\\item[V4] 0\n",
       "\\item[V5] 0\n",
       "\\item[V6] 0\n",
       "\\item[V7] 0\n",
       "\\item[V8] 0\n",
       "\\item[Has\\textbackslash{}\\_FICO] 0\n",
       "\\item[Business\\textbackslash{}\\_channel] 0\n",
       "\\item[Days\\textbackslash{}\\_late] 0\n",
       "\\item[FICO\\textbackslash{}\\_Score] 4472\n",
       "\\item[Loan\\textbackslash{}\\_amount] 0\n",
       "\\item[Monthly\\textbackslash{}\\_income] 0\n",
       "\\item[Age] 0\n",
       "\\item[Gearing\\textbackslash{}\\_coefficient] 0\n",
       "\\item[Max\\textbackslash{}\\_gearing\\textbackslash{}\\_ratio] 0\n",
       "\\item[Bad\\textbackslash{}\\_creditability] 0\n",
       "\\end{description*}\n"
      ],
      "text/markdown": [
       "ID\n",
       ":   0V1\n",
       ":   0V2\n",
       ":   0V3\n",
       ":   0V4\n",
       ":   0V5\n",
       ":   0V6\n",
       ":   0V7\n",
       ":   0V8\n",
       ":   0Has_FICO\n",
       ":   0Business_channel\n",
       ":   0Days_late\n",
       ":   0FICO_Score\n",
       ":   4472Loan_amount\n",
       ":   0Monthly_income\n",
       ":   0Age\n",
       ":   0Gearing_coefficient\n",
       ":   0Max_gearing_ratio\n",
       ":   0Bad_creditability\n",
       ":   0\n",
       "\n"
      ],
      "text/plain": [
       "                 ID                  V1                  V2                  V3 \n",
       "                  0                   0                   0                   0 \n",
       "                 V4                  V5                  V6                  V7 \n",
       "                  0                   0                   0                   0 \n",
       "                 V8            Has_FICO    Business_channel           Days_late \n",
       "                  0                   0                   0                   0 \n",
       "         FICO_Score         Loan_amount      Monthly_income                 Age \n",
       "               4472                   0                   0                   0 \n",
       "Gearing_coefficient   Max_gearing_ratio   Bad_creditability \n",
       "                  0                   0                   0 "
      ]
     },
     "metadata": {},
     "output_type": "display_data"
    }
   ],
   "source": [
    "# Check missing value\n",
    "apply(is.na(accepts), 2, sum)"
   ]
  },
  {
   "cell_type": "code",
   "execution_count": 25,
   "metadata": {},
   "outputs": [],
   "source": [
    "# Apply zero for missing values FICO Score assuming there is no scoring given for the particular customer\n",
    "accepts$FICO_Score[is.na(accepts$FICO_Score)] <- 0\n",
    "\n",
    "# check if there are missing values with Has_FICO condition: subset(accepts, Has_FICO==1 & FICO_Score==0)"
   ]
  },
  {
   "cell_type": "code",
   "execution_count": 26,
   "metadata": {},
   "outputs": [],
   "source": [
    "#Convert to appropriate data types for better performance of the model\n",
    "accepts$V8<-as.factor(accepts$V8)\n",
    "accepts$Business_channel<-as.factor(accepts$Business_channel)\n",
    "accepts$Bad_creditability<-as.factor(accepts$Bad_creditability)\n",
    "\n",
    "accepts$FICO_Score<-as.double(accepts$FICO_Score)\n",
    "accepts$Loan_amount<-as.double(accepts$Loan_amount)\n",
    "accepts$Monthly_income<-as.double(accepts$Monthly_income)\n",
    "accepts$Age<-as.double(accepts$Age)\n",
    "accepts$Gearing_coefficient<-as.double(accepts$Gearing_coefficient)\n",
    "accepts$Max_gearing_ratio<-as.double(accepts$Max_gearing_ratio)"
   ]
  },
  {
   "cell_type": "code",
   "execution_count": 27,
   "metadata": {},
   "outputs": [
    {
     "name": "stdout",
     "output_type": "stream",
     "text": [
      "Classes 'tbl_df', 'tbl' and 'data.frame':\t10000 obs. of  19 variables:\n",
      " $ ID                 : num  250263 250290 250249 249516 249827 ...\n",
      " $ V1                 : num  1 1 2 3 1 1 2 1 2 3 ...\n",
      " $ V2                 : num  1 2 3 3 3 3 4 3 5 3 ...\n",
      " $ V3                 : num  11 6 11 10 5 11 11 12 11 14 ...\n",
      " $ V4                 : num  5 4 5 4 2 2 5 3 5 1 ...\n",
      " $ V5                 : num  6 5 7 2 4 5 7 3 1 4 ...\n",
      " $ V6                 : num  7 1 7 4 4 4 7 5 7 4 ...\n",
      " $ V7                 : num  1 1 1 1 1 3 3 1 1 3 ...\n",
      " $ V8                 : Factor w/ 5 levels \">4\",\"1\",\"2\",\"3\",..: 3 3 3 3 4 5 2 4 2 2 ...\n",
      " $ Has_FICO           : num  0 1 1 0 0 0 1 0 0 0 ...\n",
      " $ Business_channel   : Factor w/ 3 levels \"1\",\"2\",\"3\": 1 1 1 1 1 2 1 2 1 1 ...\n",
      " $ Days_late          : num  0 0 0 168 0 0 0 0 336 0 ...\n",
      " $ FICO_Score         : num  0 1.498 -0.242 0 0 ...\n",
      " $ Loan_amount        : num  1.439 0.205 -0.853 -0.676 -0.412 ...\n",
      " $ Monthly_income     : num  -0.2591 0.3833 -0.7324 -0.0573 -0.5746 ...\n",
      " $ Age                : num  1.781 1.107 1.407 0.957 -0.39 ...\n",
      " $ Gearing_coefficient: num  0.86 -0.718 1.123 -1.702 0.91 ...\n",
      " $ Max_gearing_ratio  : num  0.514 1.797 -0.769 0.514 -0.769 ...\n",
      " $ Bad_creditability  : num  0 0 0 1 0 0 0 0 1 0 ...\n"
     ]
    },
    {
     "data": {
      "text/html": [
       "<table>\n",
       "<thead><tr><th scope=col>ID</th><th scope=col>V1</th><th scope=col>V2</th><th scope=col>V3</th><th scope=col>V4</th><th scope=col>V5</th><th scope=col>V6</th><th scope=col>V7</th><th scope=col>V8</th><th scope=col>Has_FICO</th><th scope=col>Business_channel</th><th scope=col>Days_late</th><th scope=col>FICO_Score</th><th scope=col>Loan_amount</th><th scope=col>Monthly_income</th><th scope=col>Age</th><th scope=col>Gearing_coefficient</th><th scope=col>Max_gearing_ratio</th><th scope=col>Bad_creditability</th></tr></thead>\n",
       "<tbody>\n",
       "\t<tr><td>305925     </td><td>1          </td><td>5          </td><td> 1         </td><td>3          </td><td>2          </td><td>4          </td><td>1          </td><td>4          </td><td>1          </td><td>1          </td><td> 0         </td><td>-0.4654338 </td><td>-0.3239198 </td><td>-0.09003297</td><td>-0.3154671 </td><td>-1.4266242 </td><td> 0.5139798 </td><td>0          </td></tr>\n",
       "\t<tr><td>305892     </td><td>4          </td><td>4          </td><td>10         </td><td>4          </td><td>3          </td><td>4          </td><td>3          </td><td>2          </td><td>1          </td><td>1          </td><td> 0         </td><td> 0.7649334 </td><td>-0.5001636 </td><td>-0.18019389</td><td>-0.6898434 </td><td>-0.9591988 </td><td> 0.5139798 </td><td>0          </td></tr>\n",
       "\t<tr><td>302908     </td><td>3          </td><td>3          </td><td> 2         </td><td>4          </td><td>1          </td><td>4          </td><td>3          </td><td>1          </td><td>0          </td><td>1          </td><td>76         </td><td> 0.0000000 </td><td> 0.5572989 </td><td>-0.08665193</td><td>-1.0642196 </td><td>-0.7165464 </td><td> 0.5139798 </td><td>1          </td></tr>\n",
       "\t<tr><td>305940     </td><td>1          </td><td>5          </td><td>11         </td><td>5          </td><td>7          </td><td>7          </td><td>1          </td><td>2          </td><td>1          </td><td>1          </td><td> 0         </td><td>-0.3908661 </td><td> 0.1695627 </td><td>-0.53182147</td><td> 1.6312894 </td><td> 1.0931303 </td><td>-0.7686307 </td><td>0          </td></tr>\n",
       "\t<tr><td>305957     </td><td>2          </td><td>1          </td><td> 2         </td><td>1          </td><td>4          </td><td>4          </td><td>1          </td><td>1          </td><td>1          </td><td>2          </td><td> 0         </td><td>-1.0246916 </td><td>-0.5882855 </td><td> 0.61547622</td><td> 1.5564142 </td><td> 1.1172536 </td><td> 1.7965902 </td><td>0          </td></tr>\n",
       "\t<tr><td>305891     </td><td>3          </td><td>4          </td><td>11         </td><td>2          </td><td>4          </td><td>5          </td><td>1          </td><td>1          </td><td>0          </td><td>1          </td><td> 0         </td><td> 0.0000000 </td><td>-0.3239198 </td><td>-0.60507722</td><td> 1.3317884 </td><td>-0.1776024 </td><td>-0.7686307 </td><td>0          </td></tr>\n",
       "</tbody>\n",
       "</table>\n"
      ],
      "text/latex": [
       "\\begin{tabular}{r|lllllllllllllllllll}\n",
       " ID & V1 & V2 & V3 & V4 & V5 & V6 & V7 & V8 & Has\\_FICO & Business\\_channel & Days\\_late & FICO\\_Score & Loan\\_amount & Monthly\\_income & Age & Gearing\\_coefficient & Max\\_gearing\\_ratio & Bad\\_creditability\\\\\n",
       "\\hline\n",
       "\t 305925      & 1           & 5           &  1          & 3           & 2           & 4           & 1           & 4           & 1           & 1           &  0          & -0.4654338  & -0.3239198  & -0.09003297 & -0.3154671  & -1.4266242  &  0.5139798  & 0          \\\\\n",
       "\t 305892      & 4           & 4           & 10          & 4           & 3           & 4           & 3           & 2           & 1           & 1           &  0          &  0.7649334  & -0.5001636  & -0.18019389 & -0.6898434  & -0.9591988  &  0.5139798  & 0          \\\\\n",
       "\t 302908      & 3           & 3           &  2          & 4           & 1           & 4           & 3           & 1           & 0           & 1           & 76          &  0.0000000  &  0.5572989  & -0.08665193 & -1.0642196  & -0.7165464  &  0.5139798  & 1          \\\\\n",
       "\t 305940      & 1           & 5           & 11          & 5           & 7           & 7           & 1           & 2           & 1           & 1           &  0          & -0.3908661  &  0.1695627  & -0.53182147 &  1.6312894  &  1.0931303  & -0.7686307  & 0          \\\\\n",
       "\t 305957      & 2           & 1           &  2          & 1           & 4           & 4           & 1           & 1           & 1           & 2           &  0          & -1.0246916  & -0.5882855  &  0.61547622 &  1.5564142  &  1.1172536  &  1.7965902  & 0          \\\\\n",
       "\t 305891      & 3           & 4           & 11          & 2           & 4           & 5           & 1           & 1           & 0           & 1           &  0          &  0.0000000  & -0.3239198  & -0.60507722 &  1.3317884  & -0.1776024  & -0.7686307  & 0          \\\\\n",
       "\\end{tabular}\n"
      ],
      "text/markdown": [
       "\n",
       "| ID | V1 | V2 | V3 | V4 | V5 | V6 | V7 | V8 | Has_FICO | Business_channel | Days_late | FICO_Score | Loan_amount | Monthly_income | Age | Gearing_coefficient | Max_gearing_ratio | Bad_creditability |\n",
       "|---|---|---|---|---|---|---|---|---|---|---|---|---|---|---|---|---|---|---|\n",
       "| 305925      | 1           | 5           |  1          | 3           | 2           | 4           | 1           | 4           | 1           | 1           |  0          | -0.4654338  | -0.3239198  | -0.09003297 | -0.3154671  | -1.4266242  |  0.5139798  | 0           |\n",
       "| 305892      | 4           | 4           | 10          | 4           | 3           | 4           | 3           | 2           | 1           | 1           |  0          |  0.7649334  | -0.5001636  | -0.18019389 | -0.6898434  | -0.9591988  |  0.5139798  | 0           |\n",
       "| 302908      | 3           | 3           |  2          | 4           | 1           | 4           | 3           | 1           | 0           | 1           | 76          |  0.0000000  |  0.5572989  | -0.08665193 | -1.0642196  | -0.7165464  |  0.5139798  | 1           |\n",
       "| 305940      | 1           | 5           | 11          | 5           | 7           | 7           | 1           | 2           | 1           | 1           |  0          | -0.3908661  |  0.1695627  | -0.53182147 |  1.6312894  |  1.0931303  | -0.7686307  | 0           |\n",
       "| 305957      | 2           | 1           |  2          | 1           | 4           | 4           | 1           | 1           | 1           | 2           |  0          | -1.0246916  | -0.5882855  |  0.61547622 |  1.5564142  |  1.1172536  |  1.7965902  | 0           |\n",
       "| 305891      | 3           | 4           | 11          | 2           | 4           | 5           | 1           | 1           | 0           | 1           |  0          |  0.0000000  | -0.3239198  | -0.60507722 |  1.3317884  | -0.1776024  | -0.7686307  | 0           |\n",
       "\n"
      ],
      "text/plain": [
       "  ID     V1 V2 V3 V4 V5 V6 V7 V8 Has_FICO Business_channel Days_late FICO_Score\n",
       "1 305925 1  5   1 3  2  4  1  4  1        1                 0        -0.4654338\n",
       "2 305892 4  4  10 4  3  4  3  2  1        1                 0         0.7649334\n",
       "3 302908 3  3   2 4  1  4  3  1  0        1                76         0.0000000\n",
       "4 305940 1  5  11 5  7  7  1  2  1        1                 0        -0.3908661\n",
       "5 305957 2  1   2 1  4  4  1  1  1        2                 0        -1.0246916\n",
       "6 305891 3  4  11 2  4  5  1  1  0        1                 0         0.0000000\n",
       "  Loan_amount Monthly_income Age        Gearing_coefficient Max_gearing_ratio\n",
       "1 -0.3239198  -0.09003297    -0.3154671 -1.4266242           0.5139798       \n",
       "2 -0.5001636  -0.18019389    -0.6898434 -0.9591988           0.5139798       \n",
       "3  0.5572989  -0.08665193    -1.0642196 -0.7165464           0.5139798       \n",
       "4  0.1695627  -0.53182147     1.6312894  1.0931303          -0.7686307       \n",
       "5 -0.5882855   0.61547622     1.5564142  1.1172536           1.7965902       \n",
       "6 -0.3239198  -0.60507722     1.3317884 -0.1776024          -0.7686307       \n",
       "  Bad_creditability\n",
       "1 0                \n",
       "2 0                \n",
       "3 1                \n",
       "4 0                \n",
       "5 0                \n",
       "6 0                "
      ]
     },
     "metadata": {},
     "output_type": "display_data"
    }
   ],
   "source": [
    "#checking the changes\n",
    "accepts$Business_channel<-as.factor(accepts$Business_channel)\n",
    "str(accepts)\n",
    "tail(accepts)\n"
   ]
  },
  {
   "cell_type": "markdown",
   "metadata": {},
   "source": [
    "Drop the column Days_late and as it is not available initially when a customer applies for a loan.\n",
    "The Gearing_coefficient shall not be removed assuming it could be calculated prior to getting the loan (loan installment calculation vs the income of the customer).\n"
   ]
  },
  {
   "cell_type": "code",
   "execution_count": 30,
   "metadata": {},
   "outputs": [
    {
     "data": {
      "text/html": [
       "<table>\n",
       "<thead><tr><th scope=col>ID</th><th scope=col>V1</th><th scope=col>V2</th><th scope=col>V3</th><th scope=col>V4</th><th scope=col>V5</th><th scope=col>V6</th><th scope=col>V7</th><th scope=col>V8</th><th scope=col>Has_FICO</th><th scope=col>Business_channel</th><th scope=col>FICO_Score</th><th scope=col>Loan_amount</th><th scope=col>Monthly_income</th><th scope=col>Age</th><th scope=col>Gearing_coefficient</th><th scope=col>Max_gearing_ratio</th><th scope=col>Bad_creditability</th></tr></thead>\n",
       "<tbody>\n",
       "\t<tr><td>250263     </td><td>1          </td><td>1          </td><td>11         </td><td>5          </td><td>6          </td><td>7          </td><td>1          </td><td>2          </td><td>0          </td><td>1          </td><td> 0.0000000 </td><td> 1.4385177 </td><td>-0.25908469</td><td> 1.7810399 </td><td> 0.8602691 </td><td> 0.5139798 </td><td>0          </td></tr>\n",
       "\t<tr><td>250290     </td><td>1          </td><td>2          </td><td> 6         </td><td>4          </td><td>5          </td><td>1          </td><td>1          </td><td>2          </td><td>1          </td><td>1          </td><td> 1.4981826 </td><td> 0.2048114 </td><td> 0.38331185</td><td> 1.1071627 </td><td>-0.7182492 </td><td> 1.7965902 </td><td>0          </td></tr>\n",
       "\t<tr><td>250249     </td><td>2          </td><td>3          </td><td>11         </td><td>5          </td><td>7          </td><td>7          </td><td>1          </td><td>2          </td><td>1          </td><td>1          </td><td>-0.2417306 </td><td>-0.8526511 </td><td>-0.73242952</td><td> 1.4066637 </td><td> 1.1229297 </td><td>-0.7686307 </td><td>0          </td></tr>\n",
       "\t<tr><td>249516     </td><td>3          </td><td>3          </td><td>10         </td><td>4          </td><td>2          </td><td>4          </td><td>1          </td><td>2          </td><td>0          </td><td>1          </td><td> 0.0000000 </td><td>-0.6764074 </td><td>-0.05734964</td><td> 0.9574122 </td><td>-1.7024817 </td><td> 0.5139798 </td><td>1          </td></tr>\n",
       "\t<tr><td>249827     </td><td>1          </td><td>3          </td><td> 5         </td><td>2          </td><td>4          </td><td>4          </td><td>1          </td><td>3          </td><td>0          </td><td>1          </td><td> 0.0000000 </td><td>-0.4120417 </td><td>-0.57464791</td><td>-0.3903424 </td><td> 0.9100767 </td><td>-0.7686307 </td><td>0          </td></tr>\n",
       "\t<tr><td>250329     </td><td>1          </td><td>3          </td><td>11         </td><td>2          </td><td>5          </td><td>4          </td><td>3          </td><td>4          </td><td>0          </td><td>2          </td><td> 0.0000000 </td><td> 0.5572989 </td><td>-0.21062320</td><td>-0.3903424 </td><td>-0.3844956 </td><td> 0.5139798 </td><td>0          </td></tr>\n",
       "</tbody>\n",
       "</table>\n"
      ],
      "text/latex": [
       "\\begin{tabular}{r|llllllllllllllllll}\n",
       " ID & V1 & V2 & V3 & V4 & V5 & V6 & V7 & V8 & Has\\_FICO & Business\\_channel & FICO\\_Score & Loan\\_amount & Monthly\\_income & Age & Gearing\\_coefficient & Max\\_gearing\\_ratio & Bad\\_creditability\\\\\n",
       "\\hline\n",
       "\t 250263      & 1           & 1           & 11          & 5           & 6           & 7           & 1           & 2           & 0           & 1           &  0.0000000  &  1.4385177  & -0.25908469 &  1.7810399  &  0.8602691  &  0.5139798  & 0          \\\\\n",
       "\t 250290      & 1           & 2           &  6          & 4           & 5           & 1           & 1           & 2           & 1           & 1           &  1.4981826  &  0.2048114  &  0.38331185 &  1.1071627  & -0.7182492  &  1.7965902  & 0          \\\\\n",
       "\t 250249      & 2           & 3           & 11          & 5           & 7           & 7           & 1           & 2           & 1           & 1           & -0.2417306  & -0.8526511  & -0.73242952 &  1.4066637  &  1.1229297  & -0.7686307  & 0          \\\\\n",
       "\t 249516      & 3           & 3           & 10          & 4           & 2           & 4           & 1           & 2           & 0           & 1           &  0.0000000  & -0.6764074  & -0.05734964 &  0.9574122  & -1.7024817  &  0.5139798  & 1          \\\\\n",
       "\t 249827      & 1           & 3           &  5          & 2           & 4           & 4           & 1           & 3           & 0           & 1           &  0.0000000  & -0.4120417  & -0.57464791 & -0.3903424  &  0.9100767  & -0.7686307  & 0          \\\\\n",
       "\t 250329      & 1           & 3           & 11          & 2           & 5           & 4           & 3           & 4           & 0           & 2           &  0.0000000  &  0.5572989  & -0.21062320 & -0.3903424  & -0.3844956  &  0.5139798  & 0          \\\\\n",
       "\\end{tabular}\n"
      ],
      "text/markdown": [
       "\n",
       "| ID | V1 | V2 | V3 | V4 | V5 | V6 | V7 | V8 | Has_FICO | Business_channel | FICO_Score | Loan_amount | Monthly_income | Age | Gearing_coefficient | Max_gearing_ratio | Bad_creditability |\n",
       "|---|---|---|---|---|---|---|---|---|---|---|---|---|---|---|---|---|---|\n",
       "| 250263      | 1           | 1           | 11          | 5           | 6           | 7           | 1           | 2           | 0           | 1           |  0.0000000  |  1.4385177  | -0.25908469 |  1.7810399  |  0.8602691  |  0.5139798  | 0           |\n",
       "| 250290      | 1           | 2           |  6          | 4           | 5           | 1           | 1           | 2           | 1           | 1           |  1.4981826  |  0.2048114  |  0.38331185 |  1.1071627  | -0.7182492  |  1.7965902  | 0           |\n",
       "| 250249      | 2           | 3           | 11          | 5           | 7           | 7           | 1           | 2           | 1           | 1           | -0.2417306  | -0.8526511  | -0.73242952 |  1.4066637  |  1.1229297  | -0.7686307  | 0           |\n",
       "| 249516      | 3           | 3           | 10          | 4           | 2           | 4           | 1           | 2           | 0           | 1           |  0.0000000  | -0.6764074  | -0.05734964 |  0.9574122  | -1.7024817  |  0.5139798  | 1           |\n",
       "| 249827      | 1           | 3           |  5          | 2           | 4           | 4           | 1           | 3           | 0           | 1           |  0.0000000  | -0.4120417  | -0.57464791 | -0.3903424  |  0.9100767  | -0.7686307  | 0           |\n",
       "| 250329      | 1           | 3           | 11          | 2           | 5           | 4           | 3           | 4           | 0           | 2           |  0.0000000  |  0.5572989  | -0.21062320 | -0.3903424  | -0.3844956  |  0.5139798  | 0           |\n",
       "\n"
      ],
      "text/plain": [
       "  ID     V1 V2 V3 V4 V5 V6 V7 V8 Has_FICO Business_channel FICO_Score\n",
       "1 250263 1  1  11 5  6  7  1  2  0        1                 0.0000000\n",
       "2 250290 1  2   6 4  5  1  1  2  1        1                 1.4981826\n",
       "3 250249 2  3  11 5  7  7  1  2  1        1                -0.2417306\n",
       "4 249516 3  3  10 4  2  4  1  2  0        1                 0.0000000\n",
       "5 249827 1  3   5 2  4  4  1  3  0        1                 0.0000000\n",
       "6 250329 1  3  11 2  5  4  3  4  0        2                 0.0000000\n",
       "  Loan_amount Monthly_income Age        Gearing_coefficient Max_gearing_ratio\n",
       "1  1.4385177  -0.25908469     1.7810399  0.8602691           0.5139798       \n",
       "2  0.2048114   0.38331185     1.1071627 -0.7182492           1.7965902       \n",
       "3 -0.8526511  -0.73242952     1.4066637  1.1229297          -0.7686307       \n",
       "4 -0.6764074  -0.05734964     0.9574122 -1.7024817           0.5139798       \n",
       "5 -0.4120417  -0.57464791    -0.3903424  0.9100767          -0.7686307       \n",
       "6  0.5572989  -0.21062320    -0.3903424 -0.3844956           0.5139798       \n",
       "  Bad_creditability\n",
       "1 0                \n",
       "2 0                \n",
       "3 0                \n",
       "4 1                \n",
       "5 0                \n",
       "6 0                "
      ]
     },
     "metadata": {},
     "output_type": "display_data"
    }
   ],
   "source": [
    "#Drop Days_late\n",
    "\n",
    "accepts<-accepts[-c(12)]\n",
    "head(accepts)"
   ]
  },
  {
   "cell_type": "code",
   "execution_count": 145,
   "metadata": {},
   "outputs": [
    {
     "data": {
      "image/png": "[encoded data removed]",
      "text/plain": [
       "Plot with title \"Histogram of accepts$FICO_Score\""
      ]
     },
     "metadata": {},
     "output_type": "display_data"
    }
   ],
   "source": [
    "#Investigate distribution of the FICO Score\n",
    "hist(accepts$FICO_Score)"
   ]
  },
  {
   "cell_type": "code",
   "execution_count": 146,
   "metadata": {},
   "outputs": [
    {
     "data": {
      "image/png": "[encoded data removed]",
      "text/plain": [
       "Plot with title \"Histogram of accepts$Loan_amount\""
      ]
     },
     "metadata": {},
     "output_type": "display_data"
    }
   ],
   "source": [
    "#Investigate distribution of loan amount\n",
    "hist(accepts$Loan_amount)"
   ]
  },
  {
   "cell_type": "code",
   "execution_count": 147,
   "metadata": {},
   "outputs": [
    {
     "data": {
      "image/png": "[encoded data removed]",
      "text/plain": [
       "plot without title"
      ]
     },
     "metadata": {},
     "output_type": "display_data"
    }
   ],
   "source": [
    "#Check the popular business channels 1 = via branch of financial institution, 2 = via partner retailer, 3 = broker\n",
    "plot(accepts$Business_channel)"
   ]
  },
  {
   "cell_type": "code",
   "execution_count": 148,
   "metadata": {},
   "outputs": [
    {
     "data": {
      "image/png": "[encoded data removed]",
      "text/plain": [
       "plot without title"
      ]
     },
     "metadata": {},
     "output_type": "display_data"
    }
   ],
   "source": [
    "#Compare channels with creditability where 1 = bad\n",
    "\n",
    "plot(accepts$Business_channel, accepts$Bad_creditability)"
   ]
  },
  {
   "cell_type": "code",
   "execution_count": 156,
   "metadata": {},
   "outputs": [
    {
     "data": {
      "image/png": "[encoded data removed]",
      "text/plain": [
       "plot without title"
      ]
     },
     "metadata": {},
     "output_type": "display_data"
    }
   ],
   "source": [
    "#There are outliers in FICO Score yet we assume that they are correct as it is provided by responsible instituitions\n",
    "boxplot(accepts$FICO_Score)"
   ]
  },
  {
   "cell_type": "code",
   "execution_count": 31,
   "metadata": {},
   "outputs": [
    {
     "data": {
      "image/png": "[encoded data removed]",
      "text/plain": [
       "plot without title"
      ]
     },
     "metadata": {},
     "output_type": "display_data"
    }
   ],
   "source": [
    "# Check if there are outliers in age\n",
    "boxplot(accepts$Age)"
   ]
  },
  {
   "cell_type": "code",
   "execution_count": 141,
   "metadata": {},
   "outputs": [
    {
     "data": {
      "image/png": "[encoded data removed]",
      "text/plain": [
       "plot without title"
      ]
     },
     "metadata": {},
     "output_type": "display_data"
    }
   ],
   "source": [
    "#Plot the data to explore the pattern of the data\n",
    "plot(accepts,\n",
    "  main=\"Loan accepts\",\n",
    "  col=\"dark green\")"
   ]
  },
  {
   "cell_type": "code",
   "execution_count": 142,
   "metadata": {},
   "outputs": [
    {
     "name": "stderr",
     "output_type": "stream",
     "text": [
      "Warning message in plot.window(xlim, ylim, log = log, ...):\n",
      "\"\"breaks\" is not a graphical parameter\"Warning message in axis(if (horiz) 2 else 1, at = at.l, labels = names.arg, lty = axis.lty, :\n",
      "\"\"breaks\" is not a graphical parameter\"Warning message in title(main = main, sub = sub, xlab = xlab, ylab = ylab, ...):\n",
      "\"\"breaks\" is not a graphical parameter\"Warning message in axis(if (horiz) 1 else 2, cex.axis = cex.axis, ...):\n",
      "\"\"breaks\" is not a graphical parameter\""
     ]
    },
    {
     "data": {
      "image/png": "[encoded data removed]",
      "text/plain": [
       "plot without title"
      ]
     },
     "metadata": {},
     "output_type": "display_data"
    }
   ],
   "source": [
    "# Plot the target variable of bad creditability \n",
    "plot(as.factor(accepts$Bad_creditability), breaks=2, \n",
    "     xlab=\"Good (0) and Bad (1)\", col=\"blue\")"
   ]
  },
  {
   "cell_type": "code",
   "execution_count": 88,
   "metadata": {},
   "outputs": [],
   "source": [
    "accepts$Default<-as.numeric(accepts$Default)"
   ]
  },
  {
   "cell_type": "markdown",
   "metadata": {},
   "source": [
    "### Exploring Rejects data set"
   ]
  },
  {
   "cell_type": "code",
   "execution_count": 32,
   "metadata": {},
   "outputs": [
    {
     "name": "stdout",
     "output_type": "stream",
     "text": [
      "Classes 'tbl_df', 'tbl' and 'data.frame':\t5000 obs. of  17 variables:\n",
      " $ ID                 : num  305932 305764 305971 305664 305639 ...\n",
      " $ V1                 : num  3 1 1 1 1 3 1 1 1 1 ...\n",
      " $ V2                 : num  3 4 4 5 4 3 5 3 4 3 ...\n",
      " $ V3                 : num  14 7 10 14 15 10 10 10 2 10 ...\n",
      " $ V4                 : num  2 1 4 2 1 1 4 4 2 4 ...\n",
      " $ V5                 : num  1 6 5 2 5 4 2 3 6 5 ...\n",
      " $ V6                 : num  5 4 4 5 4 5 4 4 4 4 ...\n",
      " $ V7                 : num  1 1 1 3 1 3 3 3 1 1 ...\n",
      " $ V8                 : chr  \"1\" \"2\" \"4\" \"3\" ...\n",
      " $ Has_FICO           : num  1 1 1 1 1 1 1 1 0 1 ...\n",
      " $ Business_channel   : num  1 1 3 1 2 1 1 1 1 3 ...\n",
      " $ FICO_Score         : num  -0.0305 0.7152 0.7649 -1.3478 1.6349 ...\n",
      " $ Loan_amount        : num  -0.324 5.668 -0.751 -0.853 3.201 ...\n",
      " $ Monthly_income     : num  -0.605 1.3 0.434 -0.49 0.561 ...\n",
      " $ Age                : num  -1.064 0.808 -0.39 -0.989 0.583 ...\n",
      " $ Gearing_coefficient: num  1.0282 1.0818 -0.9694 1.0463 0.0885 ...\n",
      " $ Max_gearing_ratio  : num  -0.769 1.797 1.797 -0.769 1.797 ...\n"
     ]
    }
   ],
   "source": [
    "str(rejects)"
   ]
  },
  {
   "cell_type": "code",
   "execution_count": 33,
   "metadata": {},
   "outputs": [
    {
     "data": {
      "text/html": [
       "<dl class=dl-horizontal>\n",
       "\t<dt>ID</dt>\n",
       "\t\t<dd>0</dd>\n",
       "\t<dt>V1</dt>\n",
       "\t\t<dd>0</dd>\n",
       "\t<dt>V2</dt>\n",
       "\t\t<dd>0</dd>\n",
       "\t<dt>V3</dt>\n",
       "\t\t<dd>0</dd>\n",
       "\t<dt>V4</dt>\n",
       "\t\t<dd>0</dd>\n",
       "\t<dt>V5</dt>\n",
       "\t\t<dd>0</dd>\n",
       "\t<dt>V6</dt>\n",
       "\t\t<dd>0</dd>\n",
       "\t<dt>V7</dt>\n",
       "\t\t<dd>0</dd>\n",
       "\t<dt>V8</dt>\n",
       "\t\t<dd>0</dd>\n",
       "\t<dt>Has_FICO</dt>\n",
       "\t\t<dd>0</dd>\n",
       "\t<dt>Business_channel</dt>\n",
       "\t\t<dd>0</dd>\n",
       "\t<dt>FICO_Score</dt>\n",
       "\t\t<dd>2086</dd>\n",
       "\t<dt>Loan_amount</dt>\n",
       "\t\t<dd>0</dd>\n",
       "\t<dt>Monthly_income</dt>\n",
       "\t\t<dd>0</dd>\n",
       "\t<dt>Age</dt>\n",
       "\t\t<dd>0</dd>\n",
       "\t<dt>Gearing_coefficient</dt>\n",
       "\t\t<dd>0</dd>\n",
       "\t<dt>Max_gearing_ratio</dt>\n",
       "\t\t<dd>0</dd>\n",
       "</dl>\n"
      ],
      "text/latex": [
       "\\begin{description*}\n",
       "\\item[ID] 0\n",
       "\\item[V1] 0\n",
       "\\item[V2] 0\n",
       "\\item[V3] 0\n",
       "\\item[V4] 0\n",
       "\\item[V5] 0\n",
       "\\item[V6] 0\n",
       "\\item[V7] 0\n",
       "\\item[V8] 0\n",
       "\\item[Has\\textbackslash{}\\_FICO] 0\n",
       "\\item[Business\\textbackslash{}\\_channel] 0\n",
       "\\item[FICO\\textbackslash{}\\_Score] 2086\n",
       "\\item[Loan\\textbackslash{}\\_amount] 0\n",
       "\\item[Monthly\\textbackslash{}\\_income] 0\n",
       "\\item[Age] 0\n",
       "\\item[Gearing\\textbackslash{}\\_coefficient] 0\n",
       "\\item[Max\\textbackslash{}\\_gearing\\textbackslash{}\\_ratio] 0\n",
       "\\end{description*}\n"
      ],
      "text/markdown": [
       "ID\n",
       ":   0V1\n",
       ":   0V2\n",
       ":   0V3\n",
       ":   0V4\n",
       ":   0V5\n",
       ":   0V6\n",
       ":   0V7\n",
       ":   0V8\n",
       ":   0Has_FICO\n",
       ":   0Business_channel\n",
       ":   0FICO_Score\n",
       ":   2086Loan_amount\n",
       ":   0Monthly_income\n",
       ":   0Age\n",
       ":   0Gearing_coefficient\n",
       ":   0Max_gearing_ratio\n",
       ":   0\n",
       "\n"
      ],
      "text/plain": [
       "                 ID                  V1                  V2                  V3 \n",
       "                  0                   0                   0                   0 \n",
       "                 V4                  V5                  V6                  V7 \n",
       "                  0                   0                   0                   0 \n",
       "                 V8            Has_FICO    Business_channel          FICO_Score \n",
       "                  0                   0                   0                2086 \n",
       "        Loan_amount      Monthly_income                 Age Gearing_coefficient \n",
       "                  0                   0                   0                   0 \n",
       "  Max_gearing_ratio \n",
       "                  0 "
      ]
     },
     "metadata": {},
     "output_type": "display_data"
    }
   ],
   "source": [
    "# Check missing value\n",
    "apply(is.na(rejects), 2, sum)"
   ]
  },
  {
   "cell_type": "code",
   "execution_count": 34,
   "metadata": {},
   "outputs": [],
   "source": [
    "# Apply zero for missing values FICO Score assuming there is no scoring given for the particular customer\n",
    "rejects$FICO_Score[is.na(rejects$FICO_Score)] <- 0"
   ]
  },
  {
   "cell_type": "code",
   "execution_count": 35,
   "metadata": {},
   "outputs": [],
   "source": [
    "#Convert to appropriate data types for better performance of the model\n",
    "rejects$V8<-as.factor(rejects$V8)\n",
    "rejects$FICO_Score<-as.double(rejects$FICO_Score)\n",
    "rejects$Loan_amount<-as.double(rejects$Loan_amount)\n",
    "rejects$Monthly_income<-as.double(rejects$Monthly_income)\n",
    "rejects$Age<-as.double(rejects$Age)\n",
    "rejects$Gearing_coefficient<-as.double(rejects$Gearing_coefficient)\n",
    "rejects$Max_gearing_ratio<-as.double(rejects$Max_gearing_ratio)"
   ]
  },
  {
   "cell_type": "markdown",
   "metadata": {},
   "source": [
    "Seperate in to train and valid(test) sets"
   ]
  },
  {
   "cell_type": "code",
   "execution_count": 36,
   "metadata": {},
   "outputs": [
    {
     "ename": "ERROR",
     "evalue": "Error in loadNamespace(i, c(lib.loc, .libPaths()), versionCheck = vI[[i]]): namespace 'rlang' 0.3.4 is already loaded, but >= 0.4.0 is required\n",
     "output_type": "error",
     "traceback": [
      "Error in loadNamespace(i, c(lib.loc, .libPaths()), versionCheck = vI[[i]]): namespace 'rlang' 0.3.4 is already loaded, but >= 0.4.0 is required\nTraceback:\n",
      "1. caret::createDataPartition",
      "2. getExportedValue(pkg, name)",
      "3. asNamespace(ns)",
      "4. getNamespace(ns)",
      "5. loadNamespace(name)",
      "6. namespaceImport(ns, loadNamespace(i, c(lib.loc, .libPaths()), \n .     versionCheck = vI[[i]]), from = package)",
      "7. loadNamespace(i, c(lib.loc, .libPaths()), versionCheck = vI[[i]])",
      "8. namespaceImport(ns, loadNamespace(i, c(lib.loc, .libPaths()), \n .     versionCheck = vI[[i]]), from = package)",
      "9. loadNamespace(i, c(lib.loc, .libPaths()), versionCheck = vI[[i]])",
      "10. stop(gettextf(\"namespace %s %s is already loaded, but %s %s is required\", \n  .     sQuote(package), current, zop, zversion), domain = NA)"
     ]
    }
   ],
   "source": [
    "\n",
    "set.seed(1001)\n",
    "train_idx <- caret::createDataPartition(y=accepts$Bad_creditability, p=.7, list=F)\n",
    "train <- accepts[train_idx, ]  # Train 70%\n",
    "valid <- accepts[-train_idx, ] # Valid (holdout) 30%\n",
    "\n",
    "\n"
   ]
  },
  {
   "cell_type": "code",
   "execution_count": 37,
   "metadata": {},
   "outputs": [
    {
     "name": "stderr",
     "output_type": "stream",
     "text": [
      "Installing package into 'C:/Users/dwijayaweera/Documents/R/win-library/3.6'\n",
      "(as 'lib' is unspecified)\n",
      "Warning message:\n",
      "\"package 'rlang' is in use and will not be installed\""
     ]
    }
   ],
   "source": [
    "install.packages(\"rlang\", dependencies = TRUE)"
   ]
  },
  {
   "cell_type": "code",
   "execution_count": 241,
   "metadata": {},
   "outputs": [
    {
     "data": {
      "text/plain": [
       "\n",
       "        0         1 \n",
       "0.7611429 0.2388571 "
      ]
     },
     "metadata": {},
     "output_type": "display_data"
    },
    {
     "data": {
      "text/plain": [
       "\n",
       "        0         1 \n",
       "0.7693333 0.2306667 "
      ]
     },
     "metadata": {},
     "output_type": "display_data"
    }
   ],
   "source": [
    "# Checking the percentage distribution of target variable in each set\n",
    "table(train$Bad_creditability)/nrow(train)\n",
    "\n",
    "table(valid$Bad_creditability)/nrow(valid)"
   ]
  },
  {
   "cell_type": "code",
   "execution_count": 260,
   "metadata": {},
   "outputs": [
    {
     "data": {
      "text/html": [
       "'data.frame'"
      ],
      "text/latex": [
       "'data.frame'"
      ],
      "text/markdown": [
       "'data.frame'"
      ],
      "text/plain": [
       "[1] \"data.frame\""
      ]
     },
     "metadata": {},
     "output_type": "display_data"
    }
   ],
   "source": [
    "# Train and Valid sets are assigned with multiple classes hence need to bring them both to data.frame class\n",
    "train<-as.data.frame(train)\n",
    "valid<-as.data.frame(valid)\n",
    "rejects<-as.data.frame(rejects)\n",
    "class(valid)"
   ]
  },
  {
   "cell_type": "code",
   "execution_count": 171,
   "metadata": {},
   "outputs": [],
   "source": [
    "library(woeBinning)"
   ]
  },
  {
   "cell_type": "markdown",
   "metadata": {},
   "source": [
    "### Binning categorical data"
   ]
  },
  {
   "cell_type": "code",
   "execution_count": 175,
   "metadata": {},
   "outputs": [],
   "source": [
    "# Grouping \n",
    "#binning_cat <- woe.binning(train, 'Bad_creditability','Business_channel')"
   ]
  },
  {
   "cell_type": "code",
   "execution_count": 177,
   "metadata": {},
   "outputs": [
    {
     "data": {
      "text/html": [
       "<ol>\n",
       "\t<li>'Business_channel'</li>\n",
       "\t<li><table>\n",
       "<thead><tr><th></th><th scope=col>Group.2</th><th scope=col>Group.1</th><th scope=col>woe</th><th scope=col>iv.total.final</th><th scope=col>1</th><th scope=col>0</th><th scope=col>col.perc.a</th><th scope=col>col.perc.b</th><th scope=col>iv.bins</th></tr></thead>\n",
       "<tbody>\n",
       "\t<tr><th scope=row>3</th><td>3         </td><td>3         </td><td>-103.15124</td><td>0.2308481 </td><td>  66      </td><td> 590      </td><td>0.03947368</td><td>0.1107357 </td><td>0.07350769</td></tr>\n",
       "\t<tr><th scope=row>1</th><td>1         </td><td>1         </td><td> -16.74588</td><td>0.2308481 </td><td>1028      </td><td>3873      </td><td>0.61483254</td><td>0.7269144 </td><td>0.01876910</td></tr>\n",
       "\t<tr><th scope=row>2</th><td>2         </td><td>2         </td><td>  75.57998</td><td>0.2308481 </td><td> 578      </td><td> 865      </td><td>0.34569378</td><td>0.1623498 </td><td>0.13857130</td></tr>\n",
       "</tbody>\n",
       "</table>\n",
       "</li>\n",
       "\t<li><strong>iv.total.final:</strong> 0.230848088719037</li>\n",
       "</ol>\n"
      ],
      "text/latex": [
       "\\begin{enumerate}\n",
       "\\item 'Business\\_channel'\n",
       "\\item \\begin{tabular}{r|lllllllll}\n",
       "  & Group.2 & Group.1 & woe & iv.total.final & 1 & 0 & col.perc.a & col.perc.b & iv.bins\\\\\n",
       "\\hline\n",
       "\t3 & 3          & 3          & -103.15124 & 0.2308481  &   66       &  590       & 0.03947368 & 0.1107357  & 0.07350769\\\\\n",
       "\t1 & 1          & 1          &  -16.74588 & 0.2308481  & 1028       & 3873       & 0.61483254 & 0.7269144  & 0.01876910\\\\\n",
       "\t2 & 2          & 2          &   75.57998 & 0.2308481  &  578       &  865       & 0.34569378 & 0.1623498  & 0.13857130\\\\\n",
       "\\end{tabular}\n",
       "\n",
       "\\item \\textbf{iv.total.final:} 0.230848088719037\n",
       "\\end{enumerate}\n"
      ],
      "text/markdown": [
       "1. 'Business_channel'\n",
       "2. \n",
       "| <!--/--> | Group.2 | Group.1 | woe | iv.total.final | 1 | 0 | col.perc.a | col.perc.b | iv.bins |\n",
       "|---|---|---|---|---|---|---|---|---|---|\n",
       "| 3 | 3          | 3          | -103.15124 | 0.2308481  |   66       |  590       | 0.03947368 | 0.1107357  | 0.07350769 |\n",
       "| 1 | 1          | 1          |  -16.74588 | 0.2308481  | 1028       | 3873       | 0.61483254 | 0.7269144  | 0.01876910 |\n",
       "| 2 | 2          | 2          |   75.57998 | 0.2308481  |  578       |  865       | 0.34569378 | 0.1623498  | 0.13857130 |\n",
       "\n",
       "\n",
       "3. **iv.total.final:** 0.230848088719037\n",
       "\n",
       "\n"
      ],
      "text/plain": [
       "[[1]]\n",
       "[1] \"Business_channel\"\n",
       "\n",
       "[[2]]\n",
       "  Group.2 Group.1        woe iv.total.final    1    0 col.perc.a col.perc.b\n",
       "3       3       3 -103.15124      0.2308481   66  590 0.03947368  0.1107357\n",
       "1       1       1  -16.74588      0.2308481 1028 3873 0.61483254  0.7269144\n",
       "2       2       2   75.57998      0.2308481  578  865 0.34569378  0.1623498\n",
       "     iv.bins\n",
       "3 0.07350769\n",
       "1 0.01876910\n",
       "2 0.13857130\n",
       "\n",
       "[[3]]\n",
       "iv.total.final \n",
       "     0.2308481 \n"
      ]
     },
     "metadata": {},
     "output_type": "display_data"
    }
   ],
   "source": [
    "#binning_cat"
   ]
  },
  {
   "cell_type": "code",
   "execution_count": null,
   "metadata": {},
   "outputs": [],
   "source": [
    "# Apply the binning to data\n",
    "#tmp <- woe.binning.deploy(train, binning_cat, add.woe.or.dum.var='woe')\n",
    "#head(tmp[, c('Business_channel', 'Business_channel.binned', 'woe.Business_channel.binned')])"
   ]
  },
  {
   "cell_type": "code",
   "execution_count": 243,
   "metadata": {},
   "outputs": [],
   "source": [
    "subset=select(train,-c(Bad_creditability,ID))\n",
    "tempbin<-woe.binning(train, 'Bad_creditability',subset)\n",
    "\n"
   ]
  },
  {
   "cell_type": "code",
   "execution_count": 247,
   "metadata": {
    "scrolled": true
   },
   "outputs": [
    {
     "data": {
      "text/html": [
       "<table>\n",
       "<tbody>\n",
       "\t<tr><td>FICO_Score                                                                                                                                                                                                                                                                                                                                                                                                                                                                                                                                                                                                                                                                                                                                                                                                            </td><td>111.767375960227    , 0.883598732077406   , -196.243837820688   , NA                  , -Inf                , -0.813416415348776  , 0.292671282103493   , Inf                 , -0.813416415348776  , 0.292671282103493   , Inf                 , Missing             , 0.658443522222339   , 0.658443522222339   , 0.658443522222339   , 0.658443522222339   , 522                 , 1091                , 59                  , 0                   , 544                 , 3446                , 1338                , 0                   , 0.312200956937799   , 0.652511961722488   , 0.0352870813397129  , 0                   , 0.102102102102102   , 0.646771771771772   , 0.251126126126126   , 0                   , 0.234821976972346   , 5.07202456233633e-05, 0.42357082500437    , NA                  </td><td>0.6584435                                                                                                                                                                                                                                                                                                                                                                                                                                                                                                                                                                                                                                                                                                                                                                                                             </td></tr>\n",
       "\t<tr><td>V5                                                                                                                                                                                                                                                                                                                                                                                                                                                                                                                                                                                                                                                                                                                                                                                </td><td>66.0182578767961   , -12.3321610432954  , -85.0806202466268  , NA                 , -Inf               , 2                  , 5                  , Inf                , 2                  , 5                  , Inf                , Missing            , 0.321821014219708  , 0.321821014219708  , 0.321821014219708  , 0.321821014219708  , 818                , 620                , 234                , 0                  , 1347               , 2235               , 1746               , 0                  , 0.489234449760766  , 0.370813397129187  , 0.139952153110048  , 0                  , 0.252815315315315  , 0.419481981981982  , 0.327702702702703  , 0                  , 0.156079793848287  , 0.00600188826153959, 0.159739332109881  , NA                 </td><td>0.321821                                                                                                                                                                                                                                                                                                                                                                                                                                                                                                                                                                                                                                                                                                                                                                          </td></tr>\n",
       "\t<tr><td>Age                                                                                                                                                                                                                                                                                                                                                                                                                                                                                                                                                                                                                                                                                                                                           </td><td>90.3534208342019  , 27.0034058012136  , -72.3349480525163 , NA                , -Inf              , -1.43859586388513 , 0.208659647290484 , Inf               , -1.43859586388513 , 0.208659647290484 , Inf               , Missing           , 0.267709641329294 , 0.267709641329294 , 0.267709641329294 , 0.267709641329294 , 189               , 1126              , 357               , 0                 , 244               , 2739              , 2345              , 0                 , 0.113038277511962 , 0.673444976076555 , 0.213516746411483 , 0                 , 0.0457957957957958, 0.514076576576577 , 0.440127627627628 , 0                 , 0.0607558824843686, 0.0430348956358784, 0.163918863209047 , NA                </td><td>0.2677096                                                                                                                                                                                                                                                                                                                                                                                                                                                                                                                                                                                                                                                                                                                                     </td></tr>\n",
       "\t<tr><td>Business_channel                                                                                                                                                                                                                                                                                                                                     </td><td>3.00000000, 1.00000000, 2.00000000, 3.00000000, 1.00000000, 2.00000000, -103.15123763, -16.74588149, 75.57997803, 0.23084809, 0.23084809, 0.23084809, 66.00000000, 1028.00000000, 578.00000000, 590.00000000, 3873.00000000, 865.00000000, 0.03947368, 0.61483254, 0.34569378, 0.11073574, 0.72691441, 0.16234985, 0.07350769, 0.01876910, 0.13857130</td><td>0.2308481                                                                                                                                                                                                                                                                                                                                            </td></tr>\n",
       "\t<tr><td>V6                                                                                                                                                                                                                                                                                                                                                                                                                                                                                                                                                                                                                                                                                                                                                                                </td><td>-11.3675753136515  , 42.8354742381246   , -88.7598256259423  , NA                 , -Inf               , 4                  , 5                  , Inf                , 4                  , 5                  , Inf                , Missing            , 0.214575982280682  , 0.214575982280682  , 0.214575982280682  , 0.214575982280682  , 598                , 904                , 170                , 0                  , 2135               , 1877               , 1316               , 0                  , 0.357655502392345  , 0.54066985645933   , 0.101674641148325  , 0                  , 0.400713213213213  , 0.35228978978979   , 0.246996996996997  , 0                  , 0.00489461770589653, 0.0806934949279929 , 0.128987869646792  , NA                 </td><td>0.214576                                                                                                                                                                                                                                                                                                                                                                                                                                                                                                                                                                                                                                                                                                                                                                          </td></tr>\n",
       "\t<tr><td>V1                                                                                                                                                                                                                                                                                                                                                                                                                                                                                                                                                                                                                                                                                                                                                                                </td><td>-33.8906917797262  , 58.6790446345658   , 3.0073065604712    , NA                 , -Inf               , 2                  , 3                  , Inf                , 2                  , 3                  , Inf                , Missing            , 0.178851090063942  , 0.178851090063942  , 0.178851090063942  , 0.178851090063942  , 807                , 724                , 141                , 0                  , 3609               , 1283               , 436                , 0                  , 0.482655502392345  , 0.433014354066986  , 0.0843301435406699 , 0                  , 0.677364864864865  , 0.240803303303303  , 0.0818318318318318 , 0                  , 0.0659883499018317 , 0.112787608270189  , 7.5131891920906e-05, NA                 </td><td>0.1788511                                                                                                                                                                                                                                                                                                                                                                                                                                                                                                                                                                                                                                                                                                                                                                         </td></tr>\n",
       "\t<tr><td>V4                                                                                                                                                                                                                                                                                                                                                                                                                                                                                                                                                        </td><td>17.5801741472297  , -89.3335134038307 , NA                , -Inf              , 4                 , Inf               , 4                 , Inf               , Missing           , 0.155043050710658 , 0.155043050710658 , 0.155043050710658 , 1504              , 168               , 0                 , 4020              , 1308              , 0                 , 0.899521531100478 , 0.100478468899522 , 0                 , 0.754504504504504 , 0.245495495495495 , 0                 , 0.0254942458187066, 0.129548804891951 , NA                </td><td>0.1550431                                                                                                                                                                                                                                                                                                                                                                                                                                                                                                                                                 </td></tr>\n",
       "\t<tr><td>V7                                                                                                                                                                                                                                                                                                                                                                                                                                                                                                                                                        </td><td>-28.0045751594282 , 36.5115175405302  , NA                , -Inf              , 1                 , Inf               , 1                 , Inf               , Missing           , 0.101386635971526 , 0.101386635971526 , 0.101386635971526 , 813               , 859               , 0                 , 3428              , 1900              , 0                 , 0.486244019138756 , 0.513755980861244 , 0                 , 0.643393393393393 , 0.356606606606607 , 0                 , 0.044009014625711 , 0.0573776213458153, NA                </td><td>0.1013866                                                                                                                                                                                                                                                                                                                                                                                                                                                                                                                                                 </td></tr>\n",
       "\t<tr><td>V8                                                                                                                                                                                                                                                                                                                                                                                                                                                                                                                                                                                                                                                     </td><td>3.000000e+00, 3.000000e+00, 3.000000e+00, 1.000000e+00, 2.000000e+00, 3.000000e+00, 4.000000e+00, 5.000000e+00, 1.000000e+00, 2.000000e+00, -2.454311e+01, -2.454311e+01, -2.454311e+01, 7.231932e+00, 3.490040e+01, 8.364004e-02, 8.364004e-02, 8.364004e-02, 8.364004e-02, 8.364004e-02, 8.490000e+02, 8.490000e+02, 8.490000e+02, 2.800000e+01, 7.950000e+02, 3.458000e+03, 3.458000e+03, 3.458000e+03, 8.300000e+01, 1.787000e+03, 5.077751e-01, 5.077751e-01, 5.077751e-01, 1.674641e-02, 4.754785e-01, 6.490240e-01, 6.490240e-01, 6.490240e-01, 1.557808e-02, 3.353979e-01, 3.466687e-02, 3.466687e-02, 3.466687e-02, 8.449308e-05, 4.888868e-02</td><td>0.08364004                                                                                                                                                                                                                                                                                                                                                                                                                                                                                                                                                                                                                                             </td></tr>\n",
       "\t<tr><td>V3                                                                                                                                                                                                                                                                                                                                                                                                                                                                                                                                                                                                                                                                                                                                                                                                                    </td><td>18.9588307881449    , -37.6635243906773   , 4.87150919123495    , NA                  , -Inf                , 10                  , 11                  , Inf                 , 10                  , 11                  , Inf                 , Missing             , 0.0630559534623157  , 0.0630559534623157  , 0.0630559534623157  , 0.0630559534623157  , 1031                , 413                 , 228                 , 0                   , 2718                , 1918                , 692                 , 0                   , 0.616626794258373   , 0.24700956937799    , 0.136363636363636   , 0                   , 0.510135135135135   , 0.359984984984985   , 0.12987987987988    , 0                   , 0.0201895734566628  , 0.0425505232126094  , 0.000315856793043489, NA                  </td><td>0.06305595                                                                                                                                                                                                                                                                                                                                                                                                                                                                                                                                                                                                                                                                                                                                                                                                            </td></tr>\n",
       "\t<tr><td>V2                                                                                                                                                                                                                                                                                                                                                                                                                                                                                                                                                                                                                                                                                                                                                                                                                                                                                                                                                                             </td><td>-42.4121824167454  , 5.98815559320454   , -27.5973476801361  , 26.2436604296406   , NA                 , -Inf               , 1                  , 3                  , 4                  , Inf                , 1                  , 3                  , 4                  , Inf                , Missing            , 0.0529122253570577 , 0.0529122253570577 , 0.0529122253570577 , 0.0529122253570577 , 0.0529122253570577 , 123                , 722                , 306                , 521                , 0                  , 599                , 2167               , 1285               , 1277               , 0                  , 0.0735645933014354 , 0.431818181818182  , 0.183014354066986  , 0.311602870813397  , 0                  , 0.112424924924925  , 0.406719219219219  , 0.241178678678679  , 0.239677177177177  , 0                  , 0.0164815147359066 , 0.00150296493270609, 0.0160518108888919 , 0.0188759347995531 , NA                 </td><td>0.05291223                                                                                                                                                                                                                                                                                                                                                                                                                                                                                                                                                                                                                                                                                                                                                                                                                                                                                                                                                                     </td></tr>\n",
       "\t<tr><td>Monthly_income                                                                                                                                                                                                                                                                                                                                                                                                                                                                                                                                                                                                                                                                                                                                                                                                                                                                                                                                                                                                                                                                                                                                                              </td><td>-40.6556513400676  , -6.77779699888064  , 11.6121662198262   , 30.6178092423749   , -15.7380353937402  , NA                 , -Inf               , -0.689715781000712 , -0.417993311712671 , 0.166925649550263  , 0.637002140384117  , Inf                , -0.689715781000712 , -0.417993311712671 , 0.166925649550263  , 0.637002140384117  , Inf                , Missing            , 0.0336252878204326 , 0.0336252878204326 , 0.0336252878204326 , 0.0336252878204326 , 0.0336252878204326 , 0.0336252878204326 , 121                , 556                , 639                , 208                , 148                , 0                  , 579                , 1896               , 1813               , 488                , 552                , 0                  , 0.0723684210526316 , 0.332535885167464  , 0.382177033492823  , 0.124401913875598  , 0.0885167464114833 , 0                  , 0.108671171171171  , 0.355855855855856  , 0.340277777777778  , 0.0915915915915916 , 0.103603603603604  , 0                  , 0.0147591195150494 , 0.00158058027345766, 0.00486541121850106, 0.0100458018887255 , 0.00237437492469894, NA                 </td><td>0.03362529                                                                                                                                                                                                                                                                                                                                                                                                                                                                                                                                                                                                                                                                                                                                                                                                                                                                                                                                                                                                                                                                                                                                                                  </td></tr>\n",
       "\t<tr><td>Loan_amount                                                                                                                                                                                                                                                                                                                                                                                                                                                                                                                                                                                                                                                                                                                                                                                                           </td><td>-47.7108968973844   , -0.59433799817402   , 17.8126165563852    , NA                  , -Inf                , -0.852651103836189  , 0.204811411745561   , Inf                 , -0.852651103836189  , 0.204811411745561   , Inf                 , Missing             , 0.0308698894066506  , 0.0308698894066506  , 0.0308698894066506  , 0.0308698894066506  , 126                 , 1036                , 510                 , 0                   , 647                 , 3321                , 1360                , 0                   , 0.0753588516746412  , 0.619617224880383   , 0.305023923444976   , 0                   , 0.121433933933934   , 0.623310810810811   , 0.255255255255255   , 0                   , 0.0219828349921163  , 2.19523846797438e-05, 0.00886510202985462 , NA                  </td><td>0.03086989                                                                                                                                                                                                                                                                                                                                                                                                                                                                                                                                                                                                                                                                                                                                                                                                            </td></tr>\n",
       "\t<tr><td>ID                                                                                                                                                                                                                                                                                                                                                                                                                                                                                                                                                                                                                                                                                                                                                                                                                                                                                                                                                                             </td><td>7.30015267793919   , -41.6580942182841  , 17.5177760479554   , -18.0381959456542  , NA                 , -Inf               , 282087.45          , 284952.5           , 293917.3           , Inf                , 282087.45          , 284952.5           , 293917.3           , Inf                , Missing            , 0.0258814370798461 , 0.0258814370798461 , 0.0258814370798461 , 0.0258814370798461 , 0.0258814370798461 , 795                , 60                 , 381                , 436                , 0                  , 2355               , 290                , 1019               , 1664               , 0                  , 0.475478468899522  , 0.0358851674641148 , 0.227870813397129  , 0.260765550239234  , 0                  , 0.442004504504505  , 0.0544294294294294 , 0.191253753753754  , 0.312312312312312  , 0                  , 0.00244365050819525, 0.00772518612159618, 0.00641449450367278, 0.00929810594638193, NA                 </td><td>0.02588144                                                                                                                                                                                                                                                                                                                                                                                                                                                                                                                                                                                                                                                                                                                                                                                                                                                                                                                                                                     </td></tr>\n",
       "\t<tr><td>Has_FICO                                                                                                                                                                                                                                                                                                                                                                                                                                                                                                                                                                             </td><td>12.0587190772475   , -10.3995529481093  , NA                 , -Inf               , 0                  , Inf                , 0                  , Inf                , Missing            , 0.0125274398218946 , 0.0125274398218946 , 0.0125274398218946 , 821                , 851                , 0                  , 2319               , 3009               , 0                  , 0.491028708133971  , 0.508971291866029  , 0                  , 0.435247747747748  , 0.564752252252252  , 0                  , 0.00672646931156539, 0.00580097051032918, NA                 </td><td>0.01252744                                                                                                                                                                                                                                                                                                                                                                                                                                                                                                                                                                           </td></tr>\n",
       "\t<tr><td>Gearing_coefficient                                                                                                                                                                                                                                                                                                                                                                                                                                                                                                                                                                                                                                                                                                                                                                                                                                                                                                                                                                                                                                                                                                                                                                                                               </td><td>-5.20465649922585   , -24.5292746160908   , 14.2478826833614    , -6.02138326316402   , 15.0669319330813    , NA                  , -Inf                , 0.213568266582451   , 0.401890006044784   , 0.560412317957272   , 0.960097139969588   , Inf                 , 0.213568266582451   , 0.401890006044784   , 0.560412317957272   , 0.960097139969588   , Inf                 , Missing             , 0.011670102663446   , 0.011670102663446   , 0.011670102663446   , 0.011670102663446   , 0.011670102663446   , 0.011670102663446   , 723                 , 69                  , 93                  , 320                 , 467                 , 0                   , 2427                , 281                 , 257                 , 1083                , 1280                , 0                   , 0.432416267942584   , 0.0412679425837321  , 0.055622009569378   , 0.191387559808612   , 0.279306220095694   , 0                   , 0.455518018018018   , 0.0527402402402402  , 0.0482357357357357  , 0.203265765765766   , 0.24024024024024    , 0                   , 0.001202366736736   , 0.00281407139694024 , 0.00105238763048917 , 0.000715232305468183, 0.00588604459381243 , NA                  </td><td>0.0116701                                                                                                                                                                                                                                                                                                                                                                                                                                                                                                                                                                                                                                                                                                                                                                                                                                                                                                                                                                                                                                                                                                                                                                                                                         </td></tr>\n",
       "\t<tr><td>Max_gearing_ratio                                                                                                                                                                                                                                                                                                                                                                                                                                                                                                                                                                                                                                                                                                                                                                                                     </td><td>-5.47339749295088   , 15.2866498804614    , -2.71161754211176   , NA                  , -Inf                , -0.768630652376078  , 0.513979798500615   , Inf                 , -0.768630652376078  , 0.513979798500615   , Inf                 , Missing             , 0.00742759908787405 , 0.00742759908787405 , 0.00742759908787405 , 0.00742759908787405 , 932                 , 430                 , 310                 , 0                   , 3137                , 1176                , 1015                , 0                   , 0.557416267942584   , 0.257177033492823   , 0.185406698564593   , 0                   , 0.588776276276276   , 0.220720720720721   , 0.190503003003003   , 0                   , 0.00171645790992552 , 0.0055729488927972  , 0.000138192285151337, NA                  </td><td>0.007427599                                                                                                                                                                                                                                                                                                                                                                                                                                                                                                                                                                                                                                                                                                                                                                                                           </td></tr>\n",
       "</tbody>\n",
       "</table>\n"
      ],
      "text/latex": [
       "\\begin{tabular}{lll}\n",
       "\t FICO\\_Score                                                                                                                                                                                                                                                                                                                                                                                                                                                                                                                                                                                                                                                                                                                                                                                                           & 111.767375960227    , 0.883598732077406   , -196.243837820688   , NA                  , -Inf                , -0.813416415348776  , 0.292671282103493   , Inf                 , -0.813416415348776  , 0.292671282103493   , Inf                 , Missing             , 0.658443522222339   , 0.658443522222339   , 0.658443522222339   , 0.658443522222339   , 522                 , 1091                , 59                  , 0                   , 544                 , 3446                , 1338                , 0                   , 0.312200956937799   , 0.652511961722488   , 0.0352870813397129  , 0                   , 0.102102102102102   , 0.646771771771772   , 0.251126126126126   , 0                   , 0.234821976972346   , 5.07202456233633e-05, 0.42357082500437    , NA                   & 0.6584435                                                                                                                                                                                                                                                                                                                                                                                                                                                                                                                                                                                                                                                                                                                                                                                                             \\\\\n",
       "\t V5                                                                                                                                                                                                                                                                                                                                                                                                                                                                                                                                                                                                                                                                                                                                                                                 & 66.0182578767961   , -12.3321610432954  , -85.0806202466268  , NA                 , -Inf               , 2                  , 5                  , Inf                , 2                  , 5                  , Inf                , Missing            , 0.321821014219708  , 0.321821014219708  , 0.321821014219708  , 0.321821014219708  , 818                , 620                , 234                , 0                  , 1347               , 2235               , 1746               , 0                  , 0.489234449760766  , 0.370813397129187  , 0.139952153110048  , 0                  , 0.252815315315315  , 0.419481981981982  , 0.327702702702703  , 0                  , 0.156079793848287  , 0.00600188826153959, 0.159739332109881  , NA                  & 0.321821                                                                                                                                                                                                                                                                                                                                                                                                                                                                                                                                                                                                                                                                                                                                                                          \\\\\n",
       "\t Age                                                                                                                                                                                                                                                                                                                                                                                                                                                                                                                                                                                                                                                                                                                                            & 90.3534208342019  , 27.0034058012136  , -72.3349480525163 , NA                , -Inf              , -1.43859586388513 , 0.208659647290484 , Inf               , -1.43859586388513 , 0.208659647290484 , Inf               , Missing           , 0.267709641329294 , 0.267709641329294 , 0.267709641329294 , 0.267709641329294 , 189               , 1126              , 357               , 0                 , 244               , 2739              , 2345              , 0                 , 0.113038277511962 , 0.673444976076555 , 0.213516746411483 , 0                 , 0.0457957957957958, 0.514076576576577 , 0.440127627627628 , 0                 , 0.0607558824843686, 0.0430348956358784, 0.163918863209047 , NA                 & 0.2677096                                                                                                                                                                                                                                                                                                                                                                                                                                                                                                                                                                                                                                                                                                                                     \\\\\n",
       "\t Business\\_channel                                                                                                                                                                                                                                                                                                                                    & 3.00000000, 1.00000000, 2.00000000, 3.00000000, 1.00000000, 2.00000000, -103.15123763, -16.74588149, 75.57997803, 0.23084809, 0.23084809, 0.23084809, 66.00000000, 1028.00000000, 578.00000000, 590.00000000, 3873.00000000, 865.00000000, 0.03947368, 0.61483254, 0.34569378, 0.11073574, 0.72691441, 0.16234985, 0.07350769, 0.01876910, 0.13857130 & 0.2308481                                                                                                                                                                                                                                                                                                                                            \\\\\n",
       "\t V6                                                                                                                                                                                                                                                                                                                                                                                                                                                                                                                                                                                                                                                                                                                                                                                 & -11.3675753136515  , 42.8354742381246   , -88.7598256259423  , NA                 , -Inf               , 4                  , 5                  , Inf                , 4                  , 5                  , Inf                , Missing            , 0.214575982280682  , 0.214575982280682  , 0.214575982280682  , 0.214575982280682  , 598                , 904                , 170                , 0                  , 2135               , 1877               , 1316               , 0                  , 0.357655502392345  , 0.54066985645933   , 0.101674641148325  , 0                  , 0.400713213213213  , 0.35228978978979   , 0.246996996996997  , 0                  , 0.00489461770589653, 0.0806934949279929 , 0.128987869646792  , NA                  & 0.214576                                                                                                                                                                                                                                                                                                                                                                                                                                                                                                                                                                                                                                                                                                                                                                          \\\\\n",
       "\t V1                                                                                                                                                                                                                                                                                                                                                                                                                                                                                                                                                                                                                                                                                                                                                                                 & -33.8906917797262  , 58.6790446345658   , 3.0073065604712    , NA                 , -Inf               , 2                  , 3                  , Inf                , 2                  , 3                  , Inf                , Missing            , 0.178851090063942  , 0.178851090063942  , 0.178851090063942  , 0.178851090063942  , 807                , 724                , 141                , 0                  , 3609               , 1283               , 436                , 0                  , 0.482655502392345  , 0.433014354066986  , 0.0843301435406699 , 0                  , 0.677364864864865  , 0.240803303303303  , 0.0818318318318318 , 0                  , 0.0659883499018317 , 0.112787608270189  , 7.5131891920906e-05, NA                  & 0.1788511                                                                                                                                                                                                                                                                                                                                                                                                                                                                                                                                                                                                                                                                                                                                                                         \\\\\n",
       "\t V4                                                                                                                                                                                                                                                                                                                                                                                                                                                                                                                                                         & 17.5801741472297  , -89.3335134038307 , NA                , -Inf              , 4                 , Inf               , 4                 , Inf               , Missing           , 0.155043050710658 , 0.155043050710658 , 0.155043050710658 , 1504              , 168               , 0                 , 4020              , 1308              , 0                 , 0.899521531100478 , 0.100478468899522 , 0                 , 0.754504504504504 , 0.245495495495495 , 0                 , 0.0254942458187066, 0.129548804891951 , NA                 & 0.1550431                                                                                                                                                                                                                                                                                                                                                                                                                                                                                                                                                 \\\\\n",
       "\t V7                                                                                                                                                                                                                                                                                                                                                                                                                                                                                                                                                         & -28.0045751594282 , 36.5115175405302  , NA                , -Inf              , 1                 , Inf               , 1                 , Inf               , Missing           , 0.101386635971526 , 0.101386635971526 , 0.101386635971526 , 813               , 859               , 0                 , 3428              , 1900              , 0                 , 0.486244019138756 , 0.513755980861244 , 0                 , 0.643393393393393 , 0.356606606606607 , 0                 , 0.044009014625711 , 0.0573776213458153, NA                 & 0.1013866                                                                                                                                                                                                                                                                                                                                                                                                                                                                                                                                                 \\\\\n",
       "\t V8                                                                                                                                                                                                                                                                                                                                                                                                                                                                                                                                                                                                                                                      & 3.000000e+00, 3.000000e+00, 3.000000e+00, 1.000000e+00, 2.000000e+00, 3.000000e+00, 4.000000e+00, 5.000000e+00, 1.000000e+00, 2.000000e+00, -2.454311e+01, -2.454311e+01, -2.454311e+01, 7.231932e+00, 3.490040e+01, 8.364004e-02, 8.364004e-02, 8.364004e-02, 8.364004e-02, 8.364004e-02, 8.490000e+02, 8.490000e+02, 8.490000e+02, 2.800000e+01, 7.950000e+02, 3.458000e+03, 3.458000e+03, 3.458000e+03, 8.300000e+01, 1.787000e+03, 5.077751e-01, 5.077751e-01, 5.077751e-01, 1.674641e-02, 4.754785e-01, 6.490240e-01, 6.490240e-01, 6.490240e-01, 1.557808e-02, 3.353979e-01, 3.466687e-02, 3.466687e-02, 3.466687e-02, 8.449308e-05, 4.888868e-02 & 0.08364004                                                                                                                                                                                                                                                                                                                                                                                                                                                                                                                                                                                                                                             \\\\\n",
       "\t V3                                                                                                                                                                                                                                                                                                                                                                                                                                                                                                                                                                                                                                                                                                                                                                                                                     & 18.9588307881449    , -37.6635243906773   , 4.87150919123495    , NA                  , -Inf                , 10                  , 11                  , Inf                 , 10                  , 11                  , Inf                 , Missing             , 0.0630559534623157  , 0.0630559534623157  , 0.0630559534623157  , 0.0630559534623157  , 1031                , 413                 , 228                 , 0                   , 2718                , 1918                , 692                 , 0                   , 0.616626794258373   , 0.24700956937799    , 0.136363636363636   , 0                   , 0.510135135135135   , 0.359984984984985   , 0.12987987987988    , 0                   , 0.0201895734566628  , 0.0425505232126094  , 0.000315856793043489, NA                   & 0.06305595                                                                                                                                                                                                                                                                                                                                                                                                                                                                                                                                                                                                                                                                                                                                                                                                            \\\\\n",
       "\t V2                                                                                                                                                                                                                                                                                                                                                                                                                                                                                                                                                                                                                                                                                                                                                                                                                                                                                                                                                                              & -42.4121824167454  , 5.98815559320454   , -27.5973476801361  , 26.2436604296406   , NA                 , -Inf               , 1                  , 3                  , 4                  , Inf                , 1                  , 3                  , 4                  , Inf                , Missing            , 0.0529122253570577 , 0.0529122253570577 , 0.0529122253570577 , 0.0529122253570577 , 0.0529122253570577 , 123                , 722                , 306                , 521                , 0                  , 599                , 2167               , 1285               , 1277               , 0                  , 0.0735645933014354 , 0.431818181818182  , 0.183014354066986  , 0.311602870813397  , 0                  , 0.112424924924925  , 0.406719219219219  , 0.241178678678679  , 0.239677177177177  , 0                  , 0.0164815147359066 , 0.00150296493270609, 0.0160518108888919 , 0.0188759347995531 , NA                  & 0.05291223                                                                                                                                                                                                                                                                                                                                                                                                                                                                                                                                                                                                                                                                                                                                                                                                                                                                                                                                                                     \\\\\n",
       "\t Monthly\\_income                                                                                                                                                                                                                                                                                                                                                                                                                                                                                                                                                                                                                                                                                                                                                                                                                                                                                                                                                                                                                                                                                                                                                             & -40.6556513400676  , -6.77779699888064  , 11.6121662198262   , 30.6178092423749   , -15.7380353937402  , NA                 , -Inf               , -0.689715781000712 , -0.417993311712671 , 0.166925649550263  , 0.637002140384117  , Inf                , -0.689715781000712 , -0.417993311712671 , 0.166925649550263  , 0.637002140384117  , Inf                , Missing            , 0.0336252878204326 , 0.0336252878204326 , 0.0336252878204326 , 0.0336252878204326 , 0.0336252878204326 , 0.0336252878204326 , 121                , 556                , 639                , 208                , 148                , 0                  , 579                , 1896               , 1813               , 488                , 552                , 0                  , 0.0723684210526316 , 0.332535885167464  , 0.382177033492823  , 0.124401913875598  , 0.0885167464114833 , 0                  , 0.108671171171171  , 0.355855855855856  , 0.340277777777778  , 0.0915915915915916 , 0.103603603603604  , 0                  , 0.0147591195150494 , 0.00158058027345766, 0.00486541121850106, 0.0100458018887255 , 0.00237437492469894, NA                  & 0.03362529                                                                                                                                                                                                                                                                                                                                                                                                                                                                                                                                                                                                                                                                                                                                                                                                                                                                                                                                                                                                                                                                                                                                                                  \\\\\n",
       "\t Loan\\_amount                                                                                                                                                                                                                                                                                                                                                                                                                                                                                                                                                                                                                                                                                                                                                                                                          & -47.7108968973844   , -0.59433799817402   , 17.8126165563852    , NA                  , -Inf                , -0.852651103836189  , 0.204811411745561   , Inf                 , -0.852651103836189  , 0.204811411745561   , Inf                 , Missing             , 0.0308698894066506  , 0.0308698894066506  , 0.0308698894066506  , 0.0308698894066506  , 126                 , 1036                , 510                 , 0                   , 647                 , 3321                , 1360                , 0                   , 0.0753588516746412  , 0.619617224880383   , 0.305023923444976   , 0                   , 0.121433933933934   , 0.623310810810811   , 0.255255255255255   , 0                   , 0.0219828349921163  , 2.19523846797438e-05, 0.00886510202985462 , NA                   & 0.03086989                                                                                                                                                                                                                                                                                                                                                                                                                                                                                                                                                                                                                                                                                                                                                                                                            \\\\\n",
       "\t ID                                                                                                                                                                                                                                                                                                                                                                                                                                                                                                                                                                                                                                                                                                                                                                                                                                                                                                                                                                              & 7.30015267793919   , -41.6580942182841  , 17.5177760479554   , -18.0381959456542  , NA                 , -Inf               , 282087.45          , 284952.5           , 293917.3           , Inf                , 282087.45          , 284952.5           , 293917.3           , Inf                , Missing            , 0.0258814370798461 , 0.0258814370798461 , 0.0258814370798461 , 0.0258814370798461 , 0.0258814370798461 , 795                , 60                 , 381                , 436                , 0                  , 2355               , 290                , 1019               , 1664               , 0                  , 0.475478468899522  , 0.0358851674641148 , 0.227870813397129  , 0.260765550239234  , 0                  , 0.442004504504505  , 0.0544294294294294 , 0.191253753753754  , 0.312312312312312  , 0                  , 0.00244365050819525, 0.00772518612159618, 0.00641449450367278, 0.00929810594638193, NA                  & 0.02588144                                                                                                                                                                                                                                                                                                                                                                                                                                                                                                                                                                                                                                                                                                                                                                                                                                                                                                                                                                     \\\\\n",
       "\t Has\\_FICO                                                                                                                                                                                                                                                                                                                                                                                                                                                                                                                                                                            & 12.0587190772475   , -10.3995529481093  , NA                 , -Inf               , 0                  , Inf                , 0                  , Inf                , Missing            , 0.0125274398218946 , 0.0125274398218946 , 0.0125274398218946 , 821                , 851                , 0                  , 2319               , 3009               , 0                  , 0.491028708133971  , 0.508971291866029  , 0                  , 0.435247747747748  , 0.564752252252252  , 0                  , 0.00672646931156539, 0.00580097051032918, NA                  & 0.01252744                                                                                                                                                                                                                                                                                                                                                                                                                                                                                                                                                                           \\\\\n",
       "\t Gearing\\_coefficient                                                                                                                                                                                                                                                                                                                                                                                                                                                                                                                                                                                                                                                                                                                                                                                                                                                                                                                                                                                                                                                                                                                                                                                                              & -5.20465649922585   , -24.5292746160908   , 14.2478826833614    , -6.02138326316402   , 15.0669319330813    , NA                  , -Inf                , 0.213568266582451   , 0.401890006044784   , 0.560412317957272   , 0.960097139969588   , Inf                 , 0.213568266582451   , 0.401890006044784   , 0.560412317957272   , 0.960097139969588   , Inf                 , Missing             , 0.011670102663446   , 0.011670102663446   , 0.011670102663446   , 0.011670102663446   , 0.011670102663446   , 0.011670102663446   , 723                 , 69                  , 93                  , 320                 , 467                 , 0                   , 2427                , 281                 , 257                 , 1083                , 1280                , 0                   , 0.432416267942584   , 0.0412679425837321  , 0.055622009569378   , 0.191387559808612   , 0.279306220095694   , 0                   , 0.455518018018018   , 0.0527402402402402  , 0.0482357357357357  , 0.203265765765766   , 0.24024024024024    , 0                   , 0.001202366736736   , 0.00281407139694024 , 0.00105238763048917 , 0.000715232305468183, 0.00588604459381243 , NA                   & 0.0116701                                                                                                                                                                                                                                                                                                                                                                                                                                                                                                                                                                                                                                                                                                                                                                                                                                                                                                                                                                                                                                                                                                                                                                                                                         \\\\\n",
       "\t Max\\_gearing\\_ratio                                                                                                                                                                                                                                                                                                                                                                                                                                                                                                                                                                                                                                                                                                                                                                                                  & -5.47339749295088   , 15.2866498804614    , -2.71161754211176   , NA                  , -Inf                , -0.768630652376078  , 0.513979798500615   , Inf                 , -0.768630652376078  , 0.513979798500615   , Inf                 , Missing             , 0.00742759908787405 , 0.00742759908787405 , 0.00742759908787405 , 0.00742759908787405 , 932                 , 430                 , 310                 , 0                   , 3137                , 1176                , 1015                , 0                   , 0.557416267942584   , 0.257177033492823   , 0.185406698564593   , 0                   , 0.588776276276276   , 0.220720720720721   , 0.190503003003003   , 0                   , 0.00171645790992552 , 0.0055729488927972  , 0.000138192285151337, NA                   & 0.007427599                                                                                                                                                                                                                                                                                                                                                                                                                                                                                                                                                                                                                                                                                                                                                                                                           \\\\\n",
       "\\end{tabular}\n"
      ],
      "text/markdown": [
       "\n",
       "| FICO_Score                                                                                                                                                                                                                                                                                                                                                                                                                                                                                                                                                                                                                                                                                                                                                                                                             | 111.767375960227    , 0.883598732077406   , -196.243837820688   , NA                  , -Inf                , -0.813416415348776  , 0.292671282103493   , Inf                 , -0.813416415348776  , 0.292671282103493   , Inf                 , Missing             , 0.658443522222339   , 0.658443522222339   , 0.658443522222339   , 0.658443522222339   , 522                 , 1091                , 59                  , 0                   , 544                 , 3446                , 1338                , 0                   , 0.312200956937799   , 0.652511961722488   , 0.0352870813397129  , 0                   , 0.102102102102102   , 0.646771771771772   , 0.251126126126126   , 0                   , 0.234821976972346   , 5.07202456233633e-05, 0.42357082500437    , NA                   | 0.6584435                                                                                                                                                                                                                                                                                                                                                                                                                                                                                                                                                                                                                                                                                                                                                                                                              |\n",
       "| V5                                                                                                                                                                                                                                                                                                                                                                                                                                                                                                                                                                                                                                                                                                                                                                                 | 66.0182578767961   , -12.3321610432954  , -85.0806202466268  , NA                 , -Inf               , 2                  , 5                  , Inf                , 2                  , 5                  , Inf                , Missing            , 0.321821014219708  , 0.321821014219708  , 0.321821014219708  , 0.321821014219708  , 818                , 620                , 234                , 0                  , 1347               , 2235               , 1746               , 0                  , 0.489234449760766  , 0.370813397129187  , 0.139952153110048  , 0                  , 0.252815315315315  , 0.419481981981982  , 0.327702702702703  , 0                  , 0.156079793848287  , 0.00600188826153959, 0.159739332109881  , NA                  | 0.321821                                                                                                                                                                                                                                                                                                                                                                                                                                                                                                                                                                                                                                                                                                                                                                           |\n",
       "| Age                                                                                                                                                                                                                                                                                                                                                                                                                                                                                                                                                                                                                                                                                                                                            | 90.3534208342019  , 27.0034058012136  , -72.3349480525163 , NA                , -Inf              , -1.43859586388513 , 0.208659647290484 , Inf               , -1.43859586388513 , 0.208659647290484 , Inf               , Missing           , 0.267709641329294 , 0.267709641329294 , 0.267709641329294 , 0.267709641329294 , 189               , 1126              , 357               , 0                 , 244               , 2739              , 2345              , 0                 , 0.113038277511962 , 0.673444976076555 , 0.213516746411483 , 0                 , 0.0457957957957958, 0.514076576576577 , 0.440127627627628 , 0                 , 0.0607558824843686, 0.0430348956358784, 0.163918863209047 , NA                 | 0.2677096                                                                                                                                                                                                                                                                                                                                                                                                                                                                                                                                                                                                                                                                                                                                      |\n",
       "| Business_channel                                                                                                                                                                                                                                                                                                                                      | 3.00000000, 1.00000000, 2.00000000, 3.00000000, 1.00000000, 2.00000000, -103.15123763, -16.74588149, 75.57997803, 0.23084809, 0.23084809, 0.23084809, 66.00000000, 1028.00000000, 578.00000000, 590.00000000, 3873.00000000, 865.00000000, 0.03947368, 0.61483254, 0.34569378, 0.11073574, 0.72691441, 0.16234985, 0.07350769, 0.01876910, 0.13857130 | 0.2308481                                                                                                                                                                                                                                                                                                                                             |\n",
       "| V6                                                                                                                                                                                                                                                                                                                                                                                                                                                                                                                                                                                                                                                                                                                                                                                 | -11.3675753136515  , 42.8354742381246   , -88.7598256259423  , NA                 , -Inf               , 4                  , 5                  , Inf                , 4                  , 5                  , Inf                , Missing            , 0.214575982280682  , 0.214575982280682  , 0.214575982280682  , 0.214575982280682  , 598                , 904                , 170                , 0                  , 2135               , 1877               , 1316               , 0                  , 0.357655502392345  , 0.54066985645933   , 0.101674641148325  , 0                  , 0.400713213213213  , 0.35228978978979   , 0.246996996996997  , 0                  , 0.00489461770589653, 0.0806934949279929 , 0.128987869646792  , NA                  | 0.214576                                                                                                                                                                                                                                                                                                                                                                                                                                                                                                                                                                                                                                                                                                                                                                           |\n",
       "| V1                                                                                                                                                                                                                                                                                                                                                                                                                                                                                                                                                                                                                                                                                                                                                                                 | -33.8906917797262  , 58.6790446345658   , 3.0073065604712    , NA                 , -Inf               , 2                  , 3                  , Inf                , 2                  , 3                  , Inf                , Missing            , 0.178851090063942  , 0.178851090063942  , 0.178851090063942  , 0.178851090063942  , 807                , 724                , 141                , 0                  , 3609               , 1283               , 436                , 0                  , 0.482655502392345  , 0.433014354066986  , 0.0843301435406699 , 0                  , 0.677364864864865  , 0.240803303303303  , 0.0818318318318318 , 0                  , 0.0659883499018317 , 0.112787608270189  , 7.5131891920906e-05, NA                  | 0.1788511                                                                                                                                                                                                                                                                                                                                                                                                                                                                                                                                                                                                                                                                                                                                                                          |\n",
       "| V4                                                                                                                                                                                                                                                                                                                                                                                                                                                                                                                                                         | 17.5801741472297  , -89.3335134038307 , NA                , -Inf              , 4                 , Inf               , 4                 , Inf               , Missing           , 0.155043050710658 , 0.155043050710658 , 0.155043050710658 , 1504              , 168               , 0                 , 4020              , 1308              , 0                 , 0.899521531100478 , 0.100478468899522 , 0                 , 0.754504504504504 , 0.245495495495495 , 0                 , 0.0254942458187066, 0.129548804891951 , NA                 | 0.1550431                                                                                                                                                                                                                                                                                                                                                                                                                                                                                                                                                  |\n",
       "| V7                                                                                                                                                                                                                                                                                                                                                                                                                                                                                                                                                         | -28.0045751594282 , 36.5115175405302  , NA                , -Inf              , 1                 , Inf               , 1                 , Inf               , Missing           , 0.101386635971526 , 0.101386635971526 , 0.101386635971526 , 813               , 859               , 0                 , 3428              , 1900              , 0                 , 0.486244019138756 , 0.513755980861244 , 0                 , 0.643393393393393 , 0.356606606606607 , 0                 , 0.044009014625711 , 0.0573776213458153, NA                 | 0.1013866                                                                                                                                                                                                                                                                                                                                                                                                                                                                                                                                                  |\n",
       "| V8                                                                                                                                                                                                                                                                                                                                                                                                                                                                                                                                                                                                                                                      | 3.000000e+00, 3.000000e+00, 3.000000e+00, 1.000000e+00, 2.000000e+00, 3.000000e+00, 4.000000e+00, 5.000000e+00, 1.000000e+00, 2.000000e+00, -2.454311e+01, -2.454311e+01, -2.454311e+01, 7.231932e+00, 3.490040e+01, 8.364004e-02, 8.364004e-02, 8.364004e-02, 8.364004e-02, 8.364004e-02, 8.490000e+02, 8.490000e+02, 8.490000e+02, 2.800000e+01, 7.950000e+02, 3.458000e+03, 3.458000e+03, 3.458000e+03, 8.300000e+01, 1.787000e+03, 5.077751e-01, 5.077751e-01, 5.077751e-01, 1.674641e-02, 4.754785e-01, 6.490240e-01, 6.490240e-01, 6.490240e-01, 1.557808e-02, 3.353979e-01, 3.466687e-02, 3.466687e-02, 3.466687e-02, 8.449308e-05, 4.888868e-02 | 0.08364004                                                                                                                                                                                                                                                                                                                                                                                                                                                                                                                                                                                                                                              |\n",
       "| V3                                                                                                                                                                                                                                                                                                                                                                                                                                                                                                                                                                                                                                                                                                                                                                                                                     | 18.9588307881449    , -37.6635243906773   , 4.87150919123495    , NA                  , -Inf                , 10                  , 11                  , Inf                 , 10                  , 11                  , Inf                 , Missing             , 0.0630559534623157  , 0.0630559534623157  , 0.0630559534623157  , 0.0630559534623157  , 1031                , 413                 , 228                 , 0                   , 2718                , 1918                , 692                 , 0                   , 0.616626794258373   , 0.24700956937799    , 0.136363636363636   , 0                   , 0.510135135135135   , 0.359984984984985   , 0.12987987987988    , 0                   , 0.0201895734566628  , 0.0425505232126094  , 0.000315856793043489, NA                   | 0.06305595                                                                                                                                                                                                                                                                                                                                                                                                                                                                                                                                                                                                                                                                                                                                                                                                             |\n",
       "| V2                                                                                                                                                                                                                                                                                                                                                                                                                                                                                                                                                                                                                                                                                                                                                                                                                                                                                                                                                                              | -42.4121824167454  , 5.98815559320454   , -27.5973476801361  , 26.2436604296406   , NA                 , -Inf               , 1                  , 3                  , 4                  , Inf                , 1                  , 3                  , 4                  , Inf                , Missing            , 0.0529122253570577 , 0.0529122253570577 , 0.0529122253570577 , 0.0529122253570577 , 0.0529122253570577 , 123                , 722                , 306                , 521                , 0                  , 599                , 2167               , 1285               , 1277               , 0                  , 0.0735645933014354 , 0.431818181818182  , 0.183014354066986  , 0.311602870813397  , 0                  , 0.112424924924925  , 0.406719219219219  , 0.241178678678679  , 0.239677177177177  , 0                  , 0.0164815147359066 , 0.00150296493270609, 0.0160518108888919 , 0.0188759347995531 , NA                  | 0.05291223                                                                                                                                                                                                                                                                                                                                                                                                                                                                                                                                                                                                                                                                                                                                                                                                                                                                                                                                                                      |\n",
       "| Monthly_income                                                                                                                                                                                                                                                                                                                                                                                                                                                                                                                                                                                                                                                                                                                                                                                                                                                                                                                                                                                                                                                                                                                                                               | -40.6556513400676  , -6.77779699888064  , 11.6121662198262   , 30.6178092423749   , -15.7380353937402  , NA                 , -Inf               , -0.689715781000712 , -0.417993311712671 , 0.166925649550263  , 0.637002140384117  , Inf                , -0.689715781000712 , -0.417993311712671 , 0.166925649550263  , 0.637002140384117  , Inf                , Missing            , 0.0336252878204326 , 0.0336252878204326 , 0.0336252878204326 , 0.0336252878204326 , 0.0336252878204326 , 0.0336252878204326 , 121                , 556                , 639                , 208                , 148                , 0                  , 579                , 1896               , 1813               , 488                , 552                , 0                  , 0.0723684210526316 , 0.332535885167464  , 0.382177033492823  , 0.124401913875598  , 0.0885167464114833 , 0                  , 0.108671171171171  , 0.355855855855856  , 0.340277777777778  , 0.0915915915915916 , 0.103603603603604  , 0                  , 0.0147591195150494 , 0.00158058027345766, 0.00486541121850106, 0.0100458018887255 , 0.00237437492469894, NA                  | 0.03362529                                                                                                                                                                                                                                                                                                                                                                                                                                                                                                                                                                                                                                                                                                                                                                                                                                                                                                                                                                                                                                                                                                                                                                   |\n",
       "| Loan_amount                                                                                                                                                                                                                                                                                                                                                                                                                                                                                                                                                                                                                                                                                                                                                                                                            | -47.7108968973844   , -0.59433799817402   , 17.8126165563852    , NA                  , -Inf                , -0.852651103836189  , 0.204811411745561   , Inf                 , -0.852651103836189  , 0.204811411745561   , Inf                 , Missing             , 0.0308698894066506  , 0.0308698894066506  , 0.0308698894066506  , 0.0308698894066506  , 126                 , 1036                , 510                 , 0                   , 647                 , 3321                , 1360                , 0                   , 0.0753588516746412  , 0.619617224880383   , 0.305023923444976   , 0                   , 0.121433933933934   , 0.623310810810811   , 0.255255255255255   , 0                   , 0.0219828349921163  , 2.19523846797438e-05, 0.00886510202985462 , NA                   | 0.03086989                                                                                                                                                                                                                                                                                                                                                                                                                                                                                                                                                                                                                                                                                                                                                                                                             |\n",
       "| ID                                                                                                                                                                                                                                                                                                                                                                                                                                                                                                                                                                                                                                                                                                                                                                                                                                                                                                                                                                              | 7.30015267793919   , -41.6580942182841  , 17.5177760479554   , -18.0381959456542  , NA                 , -Inf               , 282087.45          , 284952.5           , 293917.3           , Inf                , 282087.45          , 284952.5           , 293917.3           , Inf                , Missing            , 0.0258814370798461 , 0.0258814370798461 , 0.0258814370798461 , 0.0258814370798461 , 0.0258814370798461 , 795                , 60                 , 381                , 436                , 0                  , 2355               , 290                , 1019               , 1664               , 0                  , 0.475478468899522  , 0.0358851674641148 , 0.227870813397129  , 0.260765550239234  , 0                  , 0.442004504504505  , 0.0544294294294294 , 0.191253753753754  , 0.312312312312312  , 0                  , 0.00244365050819525, 0.00772518612159618, 0.00641449450367278, 0.00929810594638193, NA                  | 0.02588144                                                                                                                                                                                                                                                                                                                                                                                                                                                                                                                                                                                                                                                                                                                                                                                                                                                                                                                                                                      |\n",
       "| Has_FICO                                                                                                                                                                                                                                                                                                                                                                                                                                                                                                                                                                              | 12.0587190772475   , -10.3995529481093  , NA                 , -Inf               , 0                  , Inf                , 0                  , Inf                , Missing            , 0.0125274398218946 , 0.0125274398218946 , 0.0125274398218946 , 821                , 851                , 0                  , 2319               , 3009               , 0                  , 0.491028708133971  , 0.508971291866029  , 0                  , 0.435247747747748  , 0.564752252252252  , 0                  , 0.00672646931156539, 0.00580097051032918, NA                  | 0.01252744                                                                                                                                                                                                                                                                                                                                                                                                                                                                                                                                                                            |\n",
       "| Gearing_coefficient                                                                                                                                                                                                                                                                                                                                                                                                                                                                                                                                                                                                                                                                                                                                                                                                                                                                                                                                                                                                                                                                                                                                                                                                                | -5.20465649922585   , -24.5292746160908   , 14.2478826833614    , -6.02138326316402   , 15.0669319330813    , NA                  , -Inf                , 0.213568266582451   , 0.401890006044784   , 0.560412317957272   , 0.960097139969588   , Inf                 , 0.213568266582451   , 0.401890006044784   , 0.560412317957272   , 0.960097139969588   , Inf                 , Missing             , 0.011670102663446   , 0.011670102663446   , 0.011670102663446   , 0.011670102663446   , 0.011670102663446   , 0.011670102663446   , 723                 , 69                  , 93                  , 320                 , 467                 , 0                   , 2427                , 281                 , 257                 , 1083                , 1280                , 0                   , 0.432416267942584   , 0.0412679425837321  , 0.055622009569378   , 0.191387559808612   , 0.279306220095694   , 0                   , 0.455518018018018   , 0.0527402402402402  , 0.0482357357357357  , 0.203265765765766   , 0.24024024024024    , 0                   , 0.001202366736736   , 0.00281407139694024 , 0.00105238763048917 , 0.000715232305468183, 0.00588604459381243 , NA                   | 0.0116701                                                                                                                                                                                                                                                                                                                                                                                                                                                                                                                                                                                                                                                                                                                                                                                                                                                                                                                                                                                                                                                                                                                                                                                                                          |\n",
       "| Max_gearing_ratio                                                                                                                                                                                                                                                                                                                                                                                                                                                                                                                                                                                                                                                                                                                                                                                                      | -5.47339749295088   , 15.2866498804614    , -2.71161754211176   , NA                  , -Inf                , -0.768630652376078  , 0.513979798500615   , Inf                 , -0.768630652376078  , 0.513979798500615   , Inf                 , Missing             , 0.00742759908787405 , 0.00742759908787405 , 0.00742759908787405 , 0.00742759908787405 , 932                 , 430                 , 310                 , 0                   , 3137                , 1176                , 1015                , 0                   , 0.557416267942584   , 0.257177033492823   , 0.185406698564593   , 0                   , 0.588776276276276   , 0.220720720720721   , 0.190503003003003   , 0                   , 0.00171645790992552 , 0.0055729488927972  , 0.000138192285151337, NA                   | 0.007427599                                                                                                                                                                                                                                                                                                                                                                                                                                                                                                                                                                                                                                                                                                                                                                                                            |\n",
       "\n"
      ],
      "text/plain": [
       "      [,1]               \n",
       " [1,] FICO_Score         \n",
       " [2,] V5                 \n",
       " [3,] Age                \n",
       " [4,] Business_channel   \n",
       " [5,] V6                 \n",
       " [6,] V1                 \n",
       " [7,] V4                 \n",
       " [8,] V7                 \n",
       " [9,] V8                 \n",
       "[10,] V3                 \n",
       "[11,] V2                 \n",
       "[12,] Monthly_income     \n",
       "[13,] Loan_amount        \n",
       "[14,] ID                 \n",
       "[15,] Has_FICO           \n",
       "[16,] Gearing_coefficient\n",
       "[17,] Max_gearing_ratio  \n",
       "      [,2]                                                                                                                                                                                                                                                                                                                                                                                                                                                                                                                                                                                                                                                                                                                                                                                                                                                                                                                                                                                                                                                                                                                                                                                                                              \n",
       " [1,] 111.767375960227    , 0.883598732077406   , -196.243837820688   , NA                  , -Inf                , -0.813416415348776  , 0.292671282103493   , Inf                 , -0.813416415348776  , 0.292671282103493   , Inf                 , Missing             , 0.658443522222339   , 0.658443522222339   , 0.658443522222339   , 0.658443522222339   , 522                 , 1091                , 59                  , 0                   , 544                 , 3446                , 1338                , 0                   , 0.312200956937799   , 0.652511961722488   , 0.0352870813397129  , 0                   , 0.102102102102102   , 0.646771771771772   , 0.251126126126126   , 0                   , 0.234821976972346   , 5.07202456233633e-05, 0.42357082500437    , NA                                                                                                                                                                                                                                                                                                                                                                                                                              \n",
       " [2,] 66.0182578767961   , -12.3321610432954  , -85.0806202466268  , NA                 , -Inf               , 2                  , 5                  , Inf                , 2                  , 5                  , Inf                , Missing            , 0.321821014219708  , 0.321821014219708  , 0.321821014219708  , 0.321821014219708  , 818                , 620                , 234                , 0                  , 1347               , 2235               , 1746               , 0                  , 0.489234449760766  , 0.370813397129187  , 0.139952153110048  , 0                  , 0.252815315315315  , 0.419481981981982  , 0.327702702702703  , 0                  , 0.156079793848287  , 0.00600188826153959, 0.159739332109881  , NA                                                                                                                                                                                                                                                                                                                                                                                                                                                                 \n",
       " [3,] 90.3534208342019  , 27.0034058012136  , -72.3349480525163 , NA                , -Inf              , -1.43859586388513 , 0.208659647290484 , Inf               , -1.43859586388513 , 0.208659647290484 , Inf               , Missing           , 0.267709641329294 , 0.267709641329294 , 0.267709641329294 , 0.267709641329294 , 189               , 1126              , 357               , 0                 , 244               , 2739              , 2345              , 0                 , 0.113038277511962 , 0.673444976076555 , 0.213516746411483 , 0                 , 0.0457957957957958, 0.514076576576577 , 0.440127627627628 , 0                 , 0.0607558824843686, 0.0430348956358784, 0.163918863209047 , NA                                                                                                                                                                                                                                                                                                                                                                                                                                                                                                    \n",
       " [4,] 3.00000000, 1.00000000, 2.00000000, 3.00000000, 1.00000000, 2.00000000, -103.15123763, -16.74588149, 75.57997803, 0.23084809, 0.23084809, 0.23084809, 66.00000000, 1028.00000000, 578.00000000, 590.00000000, 3873.00000000, 865.00000000, 0.03947368, 0.61483254, 0.34569378, 0.11073574, 0.72691441, 0.16234985, 0.07350769, 0.01876910, 0.13857130                                                                                                                                                                                                                                                                                                                                                                                                                                                                                                                                                                                                                                                                                                                                                                                                                                                                             \n",
       " [5,] -11.3675753136515  , 42.8354742381246   , -88.7598256259423  , NA                 , -Inf               , 4                  , 5                  , Inf                , 4                  , 5                  , Inf                , Missing            , 0.214575982280682  , 0.214575982280682  , 0.214575982280682  , 0.214575982280682  , 598                , 904                , 170                , 0                  , 2135               , 1877               , 1316               , 0                  , 0.357655502392345  , 0.54066985645933   , 0.101674641148325  , 0                  , 0.400713213213213  , 0.35228978978979   , 0.246996996996997  , 0                  , 0.00489461770589653, 0.0806934949279929 , 0.128987869646792  , NA                                                                                                                                                                                                                                                                                                                                                                                                                                                                 \n",
       " [6,] -33.8906917797262  , 58.6790446345658   , 3.0073065604712    , NA                 , -Inf               , 2                  , 3                  , Inf                , 2                  , 3                  , Inf                , Missing            , 0.178851090063942  , 0.178851090063942  , 0.178851090063942  , 0.178851090063942  , 807                , 724                , 141                , 0                  , 3609               , 1283               , 436                , 0                  , 0.482655502392345  , 0.433014354066986  , 0.0843301435406699 , 0                  , 0.677364864864865  , 0.240803303303303  , 0.0818318318318318 , 0                  , 0.0659883499018317 , 0.112787608270189  , 7.5131891920906e-05, NA                                                                                                                                                                                                                                                                                                                                                                                                                                                                 \n",
       " [7,] 17.5801741472297  , -89.3335134038307 , NA                , -Inf              , 4                 , Inf               , 4                 , Inf               , Missing           , 0.155043050710658 , 0.155043050710658 , 0.155043050710658 , 1504              , 168               , 0                 , 4020              , 1308              , 0                 , 0.899521531100478 , 0.100478468899522 , 0                 , 0.754504504504504 , 0.245495495495495 , 0                 , 0.0254942458187066, 0.129548804891951 , NA                                                                                                                                                                                                                                                                                                                                                                                                                                                                                                                                                                                                                                                                                        \n",
       " [8,] -28.0045751594282 , 36.5115175405302  , NA                , -Inf              , 1                 , Inf               , 1                 , Inf               , Missing           , 0.101386635971526 , 0.101386635971526 , 0.101386635971526 , 813               , 859               , 0                 , 3428              , 1900              , 0                 , 0.486244019138756 , 0.513755980861244 , 0                 , 0.643393393393393 , 0.356606606606607 , 0                 , 0.044009014625711 , 0.0573776213458153, NA                                                                                                                                                                                                                                                                                                                                                                                                                                                                                                                                                                                                                                                                                        \n",
       " [9,] 3.000000e+00, 3.000000e+00, 3.000000e+00, 1.000000e+00, 2.000000e+00, 3.000000e+00, 4.000000e+00, 5.000000e+00, 1.000000e+00, 2.000000e+00, -2.454311e+01, -2.454311e+01, -2.454311e+01, 7.231932e+00, 3.490040e+01, 8.364004e-02, 8.364004e-02, 8.364004e-02, 8.364004e-02, 8.364004e-02, 8.490000e+02, 8.490000e+02, 8.490000e+02, 2.800000e+01, 7.950000e+02, 3.458000e+03, 3.458000e+03, 3.458000e+03, 8.300000e+01, 1.787000e+03, 5.077751e-01, 5.077751e-01, 5.077751e-01, 1.674641e-02, 4.754785e-01, 6.490240e-01, 6.490240e-01, 6.490240e-01, 1.557808e-02, 3.353979e-01, 3.466687e-02, 3.466687e-02, 3.466687e-02, 8.449308e-05, 4.888868e-02                                                                                                                                                                                                                                                                                                                                                                                                                                                                                                                                                                           \n",
       "[10,] 18.9588307881449    , -37.6635243906773   , 4.87150919123495    , NA                  , -Inf                , 10                  , 11                  , Inf                 , 10                  , 11                  , Inf                 , Missing             , 0.0630559534623157  , 0.0630559534623157  , 0.0630559534623157  , 0.0630559534623157  , 1031                , 413                 , 228                 , 0                   , 2718                , 1918                , 692                 , 0                   , 0.616626794258373   , 0.24700956937799    , 0.136363636363636   , 0                   , 0.510135135135135   , 0.359984984984985   , 0.12987987987988    , 0                   , 0.0201895734566628  , 0.0425505232126094  , 0.000315856793043489, NA                                                                                                                                                                                                                                                                                                                                                                                                                              \n",
       "[11,] -42.4121824167454  , 5.98815559320454   , -27.5973476801361  , 26.2436604296406   , NA                 , -Inf               , 1                  , 3                  , 4                  , Inf                , 1                  , 3                  , 4                  , Inf                , Missing            , 0.0529122253570577 , 0.0529122253570577 , 0.0529122253570577 , 0.0529122253570577 , 0.0529122253570577 , 123                , 722                , 306                , 521                , 0                  , 599                , 2167               , 1285               , 1277               , 0                  , 0.0735645933014354 , 0.431818181818182  , 0.183014354066986  , 0.311602870813397  , 0                  , 0.112424924924925  , 0.406719219219219  , 0.241178678678679  , 0.239677177177177  , 0                  , 0.0164815147359066 , 0.00150296493270609, 0.0160518108888919 , 0.0188759347995531 , NA                                                                                                                                                                                                                                                                    \n",
       "[12,] -40.6556513400676  , -6.77779699888064  , 11.6121662198262   , 30.6178092423749   , -15.7380353937402  , NA                 , -Inf               , -0.689715781000712 , -0.417993311712671 , 0.166925649550263  , 0.637002140384117  , Inf                , -0.689715781000712 , -0.417993311712671 , 0.166925649550263  , 0.637002140384117  , Inf                , Missing            , 0.0336252878204326 , 0.0336252878204326 , 0.0336252878204326 , 0.0336252878204326 , 0.0336252878204326 , 0.0336252878204326 , 121                , 556                , 639                , 208                , 148                , 0                  , 579                , 1896               , 1813               , 488                , 552                , 0                  , 0.0723684210526316 , 0.332535885167464  , 0.382177033492823  , 0.124401913875598  , 0.0885167464114833 , 0                  , 0.108671171171171  , 0.355855855855856  , 0.340277777777778  , 0.0915915915915916 , 0.103603603603604  , 0                  , 0.0147591195150494 , 0.00158058027345766, 0.00486541121850106, 0.0100458018887255 , 0.00237437492469894, NA                                                                       \n",
       "[13,] -47.7108968973844   , -0.59433799817402   , 17.8126165563852    , NA                  , -Inf                , -0.852651103836189  , 0.204811411745561   , Inf                 , -0.852651103836189  , 0.204811411745561   , Inf                 , Missing             , 0.0308698894066506  , 0.0308698894066506  , 0.0308698894066506  , 0.0308698894066506  , 126                 , 1036                , 510                 , 0                   , 647                 , 3321                , 1360                , 0                   , 0.0753588516746412  , 0.619617224880383   , 0.305023923444976   , 0                   , 0.121433933933934   , 0.623310810810811   , 0.255255255255255   , 0                   , 0.0219828349921163  , 2.19523846797438e-05, 0.00886510202985462 , NA                                                                                                                                                                                                                                                                                                                                                                                                                              \n",
       "[14,] 7.30015267793919   , -41.6580942182841  , 17.5177760479554   , -18.0381959456542  , NA                 , -Inf               , 282087.45          , 284952.5           , 293917.3           , Inf                , 282087.45          , 284952.5           , 293917.3           , Inf                , Missing            , 0.0258814370798461 , 0.0258814370798461 , 0.0258814370798461 , 0.0258814370798461 , 0.0258814370798461 , 795                , 60                 , 381                , 436                , 0                  , 2355               , 290                , 1019               , 1664               , 0                  , 0.475478468899522  , 0.0358851674641148 , 0.227870813397129  , 0.260765550239234  , 0                  , 0.442004504504505  , 0.0544294294294294 , 0.191253753753754  , 0.312312312312312  , 0                  , 0.00244365050819525, 0.00772518612159618, 0.00641449450367278, 0.00929810594638193, NA                                                                                                                                                                                                                                                                    \n",
       "[15,] 12.0587190772475   , -10.3995529481093  , NA                 , -Inf               , 0                  , Inf                , 0                  , Inf                , Missing            , 0.0125274398218946 , 0.0125274398218946 , 0.0125274398218946 , 821                , 851                , 0                  , 2319               , 3009               , 0                  , 0.491028708133971  , 0.508971291866029  , 0                  , 0.435247747747748  , 0.564752252252252  , 0                  , 0.00672646931156539, 0.00580097051032918, NA                                                                                                                                                                                                                                                                                                                                                                                                                                                                                                                                                                                                                                                              \n",
       "[16,] -5.20465649922585   , -24.5292746160908   , 14.2478826833614    , -6.02138326316402   , 15.0669319330813    , NA                  , -Inf                , 0.213568266582451   , 0.401890006044784   , 0.560412317957272   , 0.960097139969588   , Inf                 , 0.213568266582451   , 0.401890006044784   , 0.560412317957272   , 0.960097139969588   , Inf                 , Missing             , 0.011670102663446   , 0.011670102663446   , 0.011670102663446   , 0.011670102663446   , 0.011670102663446   , 0.011670102663446   , 723                 , 69                  , 93                  , 320                 , 467                 , 0                   , 2427                , 281                 , 257                 , 1083                , 1280                , 0                   , 0.432416267942584   , 0.0412679425837321  , 0.055622009569378   , 0.191387559808612   , 0.279306220095694   , 0                   , 0.455518018018018   , 0.0527402402402402  , 0.0482357357357357  , 0.203265765765766   , 0.24024024024024    , 0                   , 0.001202366736736   , 0.00281407139694024 , 0.00105238763048917 , 0.000715232305468183, 0.00588604459381243 , NA                  \n",
       "[17,] -5.47339749295088   , 15.2866498804614    , -2.71161754211176   , NA                  , -Inf                , -0.768630652376078  , 0.513979798500615   , Inf                 , -0.768630652376078  , 0.513979798500615   , Inf                 , Missing             , 0.00742759908787405 , 0.00742759908787405 , 0.00742759908787405 , 0.00742759908787405 , 932                 , 430                 , 310                 , 0                   , 3137                , 1176                , 1015                , 0                   , 0.557416267942584   , 0.257177033492823   , 0.185406698564593   , 0                   , 0.588776276276276   , 0.220720720720721   , 0.190503003003003   , 0                   , 0.00171645790992552 , 0.0055729488927972  , 0.000138192285151337, NA                                                                                                                                                                                                                                                                                                                                                                                                                              \n",
       "      [,3]       \n",
       " [1,] 0.6584435  \n",
       " [2,] 0.321821   \n",
       " [3,] 0.2677096  \n",
       " [4,] 0.2308481  \n",
       " [5,] 0.214576   \n",
       " [6,] 0.1788511  \n",
       " [7,] 0.1550431  \n",
       " [8,] 0.1013866  \n",
       " [9,] 0.08364004 \n",
       "[10,] 0.06305595 \n",
       "[11,] 0.05291223 \n",
       "[12,] 0.03362529 \n",
       "[13,] 0.03086989 \n",
       "[14,] 0.02588144 \n",
       "[15,] 0.01252744 \n",
       "[16,] 0.0116701  \n",
       "[17,] 0.007427599"
      ]
     },
     "metadata": {},
     "output_type": "display_data"
    }
   ],
   "source": [
    "tempbin"
   ]
  },
  {
   "cell_type": "code",
   "execution_count": 248,
   "metadata": {},
   "outputs": [],
   "source": [
    "# Plot the binned variables\n",
    "woe.binning.plot(tempbin)\n"
   ]
  },
  {
   "cell_type": "code",
   "execution_count": 249,
   "metadata": {},
   "outputs": [
    {
     "data": {
      "text/html": [
       "<dl>\n",
       "\t<dt>$`WOE Table for FICO_Score`</dt>\n",
       "\t\t<dd><table>\n",
       "<thead><tr><th></th><th scope=col>Final.Bin</th><th scope=col>Total.Count</th><th scope=col>Total.Distr.</th><th scope=col>1.Count</th><th scope=col>0.Count</th><th scope=col>1.Distr.</th><th scope=col>0.Distr.</th><th scope=col>0.Rate</th><th scope=col>WOE</th><th scope=col>IV</th></tr></thead>\n",
       "<tbody>\n",
       "\t<tr><th scope=row>1</th><td>&lt;= -0.8134164153</td><td>1066               </td><td> 15.2%             </td><td> 522               </td><td> 544               </td><td> 31.2%             </td><td> 10.2%             </td><td>51.0%              </td><td> 111.8             </td><td>0.235              </td></tr>\n",
       "\t<tr><th scope=row>2</th><td>&lt;= 0.2926712821                            </td><td>4537                                          </td><td> 64.8%                                        </td><td>1091                                          </td><td>3446                                          </td><td> 65.3%                                        </td><td> 64.7%                                        </td><td>76.0%                                         </td><td><span style=white-space:pre-wrap>   0.9</span></td><td>0.000                                         </td></tr>\n",
       "\t<tr><th scope=row>3</th><td><span style=white-space:pre-wrap>&lt;= Inf          </span></td><td>1397                                                       </td><td> 20.0%                                                     </td><td><span style=white-space:pre-wrap>  59</span>               </td><td>1338                                                       </td><td><span style=white-space:pre-wrap>  3.5%</span>             </td><td> 25.1%                                                     </td><td>95.8%                                                      </td><td>-196.2                                                     </td><td>0.424                                                      </td></tr>\n",
       "\t<tr><th scope=row>5</th><td>Total           </td><td>7000            </td><td>100.0%          </td><td>1672            </td><td>5328            </td><td>100.0%          </td><td>100.0%          </td><td>76.1%           </td><td>    NA          </td><td>0.658           </td></tr>\n",
       "</tbody>\n",
       "</table>\n",
       "</dd>\n",
       "\t<dt>$`WOE Table for V5`</dt>\n",
       "\t\t<dd><table>\n",
       "<thead><tr><th></th><th scope=col>Final.Bin</th><th scope=col>Total.Count</th><th scope=col>Total.Distr.</th><th scope=col>1.Count</th><th scope=col>0.Count</th><th scope=col>1.Distr.</th><th scope=col>0.Distr.</th><th scope=col>0.Rate</th><th scope=col>WOE</th><th scope=col>IV</th></tr></thead>\n",
       "<tbody>\n",
       "\t<tr><th scope=row>1</th><td><span style=white-space:pre-wrap>&lt;= 2  </span></td><td>2165                                             </td><td> 30.9%                                           </td><td> 818                                             </td><td>1347                                             </td><td> 48.9%                                           </td><td> 25.3%                                           </td><td>62.2%                                            </td><td> 66.0                                            </td><td>0.156                                            </td></tr>\n",
       "\t<tr><th scope=row>2</th><td><span style=white-space:pre-wrap>&lt;= 5  </span></td><td>2855                                             </td><td> 40.8%                                           </td><td> 620                                             </td><td>2235                                             </td><td> 37.1%                                           </td><td> 41.9%                                           </td><td>78.3%                                            </td><td>-12.3                                            </td><td>0.006                                            </td></tr>\n",
       "\t<tr><th scope=row>3</th><td>&lt;= Inf</td><td>1980     </td><td> 28.3%   </td><td> 234     </td><td>1746     </td><td> 14.0%   </td><td> 32.8%   </td><td>88.2%    </td><td>-85.1    </td><td>0.160    </td></tr>\n",
       "\t<tr><th scope=row>5</th><td>Total </td><td>7000  </td><td>100.0%</td><td>1672  </td><td>5328  </td><td>100.0%</td><td>100.0%</td><td>76.1% </td><td>   NA </td><td>0.322 </td></tr>\n",
       "</tbody>\n",
       "</table>\n",
       "</dd>\n",
       "\t<dt>$`WOE Table for Age`</dt>\n",
       "\t\t<dd><table>\n",
       "<thead><tr><th></th><th scope=col>Final.Bin</th><th scope=col>Total.Count</th><th scope=col>Total.Distr.</th><th scope=col>1.Count</th><th scope=col>0.Count</th><th scope=col>1.Distr.</th><th scope=col>0.Distr.</th><th scope=col>0.Rate</th><th scope=col>WOE</th><th scope=col>IV</th></tr></thead>\n",
       "<tbody>\n",
       "\t<tr><th scope=row>1</th><td>&lt;= -1.438595864                            </td><td> 433                                          </td><td><span style=white-space:pre-wrap>  6.2%</span></td><td> 189                                          </td><td> 244                                          </td><td> 11.3%                                        </td><td><span style=white-space:pre-wrap>  4.6%</span></td><td>56.4%                                         </td><td> 90.4                                         </td><td>0.061                                         </td></tr>\n",
       "\t<tr><th scope=row>2</th><td>&lt;= 0.2086596473</td><td>3865              </td><td> 55.2%            </td><td>1126              </td><td>2739              </td><td> 67.3%            </td><td> 51.4%            </td><td>70.9%             </td><td> 27.0             </td><td>0.043             </td></tr>\n",
       "\t<tr><th scope=row>3</th><td><span style=white-space:pre-wrap>&lt;= Inf         </span></td><td>2702                                                      </td><td> 38.6%                                                    </td><td> 357                                                      </td><td>2345                                                      </td><td> 21.4%                                                    </td><td> 44.0%                                                    </td><td>86.8%                                                     </td><td>-72.3                                                     </td><td>0.164                                                     </td></tr>\n",
       "\t<tr><th scope=row>5</th><td>Total          </td><td>7000           </td><td>100.0%         </td><td>1672           </td><td>5328           </td><td>100.0%         </td><td>100.0%         </td><td>76.1%          </td><td>   NA          </td><td>0.268          </td></tr>\n",
       "</tbody>\n",
       "</table>\n",
       "</dd>\n",
       "\t<dt>$`WOE Table for Business_channel`</dt>\n",
       "\t\t<dd><table>\n",
       "<thead><tr><th scope=col>Final.Bin</th><th scope=col>Total.Count</th><th scope=col>Total.Distr.</th><th scope=col>1.Count</th><th scope=col>0.Count</th><th scope=col>1.Distr.</th><th scope=col>0.Distr.</th><th scope=col>0.Rate</th><th scope=col>WOE</th><th scope=col>IV</th></tr></thead>\n",
       "<tbody>\n",
       "\t<tr><td>3     </td><td> 656  </td><td>  9.4%</td><td>  66  </td><td> 590  </td><td>  3.9%</td><td> 11.1%</td><td>89.9% </td><td>-103.2</td><td>0.074 </td></tr>\n",
       "\t<tr><td>1     </td><td>4901  </td><td> 70.0%</td><td>1028  </td><td>3873  </td><td> 61.5%</td><td> 72.7%</td><td>79.0% </td><td> -16.7</td><td>0.019 </td></tr>\n",
       "\t<tr><td>2     </td><td>1443  </td><td> 20.6%</td><td> 578  </td><td> 865  </td><td> 34.6%</td><td> 16.2%</td><td>59.9% </td><td>  75.6</td><td>0.139 </td></tr>\n",
       "\t<tr><td>Total </td><td>7000  </td><td>100.0%</td><td>1672  </td><td>5328  </td><td>100.0%</td><td>100.0%</td><td>76.1% </td><td>    NA</td><td>0.231 </td></tr>\n",
       "</tbody>\n",
       "</table>\n",
       "</dd>\n",
       "\t<dt>$`WOE Table for V6`</dt>\n",
       "\t\t<dd><table>\n",
       "<thead><tr><th></th><th scope=col>Final.Bin</th><th scope=col>Total.Count</th><th scope=col>Total.Distr.</th><th scope=col>1.Count</th><th scope=col>0.Count</th><th scope=col>1.Distr.</th><th scope=col>0.Distr.</th><th scope=col>0.Rate</th><th scope=col>WOE</th><th scope=col>IV</th></tr></thead>\n",
       "<tbody>\n",
       "\t<tr><th scope=row>1</th><td><span style=white-space:pre-wrap>&lt;= 4  </span></td><td>2733                                             </td><td> 39.0%                                           </td><td> 598                                             </td><td>2135                                             </td><td> 35.8%                                           </td><td> 40.1%                                           </td><td>78.1%                                            </td><td>-11.4                                            </td><td>0.005                                            </td></tr>\n",
       "\t<tr><th scope=row>2</th><td><span style=white-space:pre-wrap>&lt;= 5  </span></td><td>2781                                             </td><td> 39.7%                                           </td><td> 904                                             </td><td>1877                                             </td><td> 54.1%                                           </td><td> 35.2%                                           </td><td>67.5%                                            </td><td> 42.8                                            </td><td>0.081                                            </td></tr>\n",
       "\t<tr><th scope=row>3</th><td>&lt;= Inf</td><td>1486     </td><td> 21.2%   </td><td> 170     </td><td>1316     </td><td> 10.2%   </td><td> 24.7%   </td><td>88.6%    </td><td>-88.8    </td><td>0.129    </td></tr>\n",
       "\t<tr><th scope=row>5</th><td>Total </td><td>7000  </td><td>100.0%</td><td>1672  </td><td>5328  </td><td>100.0%</td><td>100.0%</td><td>76.1% </td><td>   NA </td><td>0.215 </td></tr>\n",
       "</tbody>\n",
       "</table>\n",
       "</dd>\n",
       "\t<dt>$`WOE Table for V1`</dt>\n",
       "\t\t<dd><table>\n",
       "<thead><tr><th></th><th scope=col>Final.Bin</th><th scope=col>Total.Count</th><th scope=col>Total.Distr.</th><th scope=col>1.Count</th><th scope=col>0.Count</th><th scope=col>1.Distr.</th><th scope=col>0.Distr.</th><th scope=col>0.Rate</th><th scope=col>WOE</th><th scope=col>IV</th></tr></thead>\n",
       "<tbody>\n",
       "\t<tr><th scope=row>1</th><td><span style=white-space:pre-wrap>&lt;= 2  </span></td><td>4416                                             </td><td> 63.1%                                           </td><td> 807                                             </td><td>3609                                             </td><td> 48.3%                                           </td><td> 67.7%                                           </td><td>81.7%                                            </td><td>-33.9                                            </td><td>0.066                                            </td></tr>\n",
       "\t<tr><th scope=row>2</th><td><span style=white-space:pre-wrap>&lt;= 3  </span></td><td>2007                                             </td><td> 28.7%                                           </td><td> 724                                             </td><td>1283                                             </td><td> 43.3%                                           </td><td> 24.1%                                           </td><td>63.9%                                            </td><td> 58.7                                            </td><td>0.113                                            </td></tr>\n",
       "\t<tr><th scope=row>3</th><td>&lt;= Inf                                     </td><td> 577                                          </td><td><span style=white-space:pre-wrap>  8.2%</span></td><td> 141                                          </td><td> 436                                          </td><td><span style=white-space:pre-wrap>  8.4%</span></td><td><span style=white-space:pre-wrap>  8.2%</span></td><td>75.6%                                         </td><td><span style=white-space:pre-wrap>  3.0</span> </td><td>0.000                                         </td></tr>\n",
       "\t<tr><th scope=row>5</th><td>Total </td><td>7000  </td><td>100.0%</td><td>1672  </td><td>5328  </td><td>100.0%</td><td>100.0%</td><td>76.1% </td><td>   NA </td><td>0.179 </td></tr>\n",
       "</tbody>\n",
       "</table>\n",
       "</dd>\n",
       "\t<dt>$`WOE Table for V4`</dt>\n",
       "\t\t<dd><table>\n",
       "<thead><tr><th></th><th scope=col>Final.Bin</th><th scope=col>Total.Count</th><th scope=col>Total.Distr.</th><th scope=col>1.Count</th><th scope=col>0.Count</th><th scope=col>1.Distr.</th><th scope=col>0.Distr.</th><th scope=col>0.Rate</th><th scope=col>WOE</th><th scope=col>IV</th></tr></thead>\n",
       "<tbody>\n",
       "\t<tr><th scope=row>1</th><td><span style=white-space:pre-wrap>&lt;= 4  </span></td><td>5524                                             </td><td> 78.9%                                           </td><td>1504                                             </td><td>4020                                             </td><td> 90.0%                                           </td><td> 75.5%                                           </td><td>72.8%                                            </td><td> 17.6                                            </td><td>0.025                                            </td></tr>\n",
       "\t<tr><th scope=row>2</th><td>&lt;= Inf</td><td>1476     </td><td> 21.1%   </td><td> 168     </td><td>1308     </td><td> 10.0%   </td><td> 24.5%   </td><td>88.6%    </td><td>-89.3    </td><td>0.130    </td></tr>\n",
       "\t<tr><th scope=row>4</th><td>Total </td><td>7000  </td><td>100.0%</td><td>1672  </td><td>5328  </td><td>100.0%</td><td>100.0%</td><td>76.1% </td><td>   NA </td><td>0.155 </td></tr>\n",
       "</tbody>\n",
       "</table>\n",
       "</dd>\n",
       "\t<dt>$`WOE Table for V7`</dt>\n",
       "\t\t<dd><table>\n",
       "<thead><tr><th></th><th scope=col>Final.Bin</th><th scope=col>Total.Count</th><th scope=col>Total.Distr.</th><th scope=col>1.Count</th><th scope=col>0.Count</th><th scope=col>1.Distr.</th><th scope=col>0.Distr.</th><th scope=col>0.Rate</th><th scope=col>WOE</th><th scope=col>IV</th></tr></thead>\n",
       "<tbody>\n",
       "\t<tr><th scope=row>1</th><td><span style=white-space:pre-wrap>&lt;= 1  </span></td><td>4241                                             </td><td> 60.6%                                           </td><td> 813                                             </td><td>3428                                             </td><td> 48.6%                                           </td><td> 64.3%                                           </td><td>80.8%                                            </td><td>-28.0                                            </td><td>0.044                                            </td></tr>\n",
       "\t<tr><th scope=row>2</th><td>&lt;= Inf</td><td>2759     </td><td> 39.4%   </td><td> 859     </td><td>1900     </td><td> 51.4%   </td><td> 35.7%   </td><td>68.9%    </td><td> 36.5    </td><td>0.057    </td></tr>\n",
       "\t<tr><th scope=row>4</th><td>Total </td><td>7000  </td><td>100.0%</td><td>1672  </td><td>5328  </td><td>100.0%</td><td>100.0%</td><td>76.1% </td><td>   NA </td><td>0.101 </td></tr>\n",
       "</tbody>\n",
       "</table>\n",
       "</dd>\n",
       "\t<dt>$`WOE Table for V8`</dt>\n",
       "\t\t<dd><table>\n",
       "<thead><tr><th scope=col>Final.Bin</th><th scope=col>Total.Count</th><th scope=col>Total.Distr.</th><th scope=col>1.Count</th><th scope=col>0.Count</th><th scope=col>1.Distr.</th><th scope=col>0.Distr.</th><th scope=col>0.Rate</th><th scope=col>WOE</th><th scope=col>IV</th></tr></thead>\n",
       "<tbody>\n",
       "\t<tr><td>4 + 3 + 2       </td><td>4307            </td><td> 61.5%          </td><td> 849            </td><td>3458            </td><td> 50.8%          </td><td> 64.9%          </td><td>80.3%           </td><td>-24.5           </td><td>0.035           </td></tr>\n",
       "\t<tr><td>misc. level pos.</td><td> 111            </td><td>  1.6%          </td><td>  28            </td><td>  83            </td><td>  1.7%          </td><td>  1.6%          </td><td>74.8%           </td><td>  7.2           </td><td>0.000           </td></tr>\n",
       "\t<tr><td>1               </td><td>2582            </td><td> 36.9%          </td><td> 795            </td><td>1787            </td><td> 47.5%          </td><td> 33.5%          </td><td>69.2%           </td><td> 34.9           </td><td>0.049           </td></tr>\n",
       "\t<tr><td>Total           </td><td>7000            </td><td>100.0%          </td><td>1672            </td><td>5328            </td><td>100.0%          </td><td>100.0%          </td><td>76.1%           </td><td>   NA           </td><td>0.084           </td></tr>\n",
       "</tbody>\n",
       "</table>\n",
       "</dd>\n",
       "\t<dt>$`WOE Table for V3`</dt>\n",
       "\t\t<dd><table>\n",
       "<thead><tr><th></th><th scope=col>Final.Bin</th><th scope=col>Total.Count</th><th scope=col>Total.Distr.</th><th scope=col>1.Count</th><th scope=col>0.Count</th><th scope=col>1.Distr.</th><th scope=col>0.Distr.</th><th scope=col>0.Rate</th><th scope=col>WOE</th><th scope=col>IV</th></tr></thead>\n",
       "<tbody>\n",
       "\t<tr><th scope=row>1</th><td>&lt;= 10 </td><td>3749     </td><td> 53.6%   </td><td>1031     </td><td>2718     </td><td> 61.7%   </td><td> 51.0%   </td><td>72.5%    </td><td> 19.0    </td><td>0.020    </td></tr>\n",
       "\t<tr><th scope=row>2</th><td>&lt;= 11 </td><td>2331     </td><td> 33.3%   </td><td> 413     </td><td>1918     </td><td> 24.7%   </td><td> 36.0%   </td><td>82.3%    </td><td>-37.7    </td><td>0.043    </td></tr>\n",
       "\t<tr><th scope=row>3</th><td>&lt;= Inf                                    </td><td> 920                                         </td><td> 13.1%                                       </td><td> 228                                         </td><td> 692                                         </td><td> 13.6%                                       </td><td> 13.0%                                       </td><td>75.2%                                        </td><td><span style=white-space:pre-wrap>  4.9</span></td><td>0.000                                        </td></tr>\n",
       "\t<tr><th scope=row>5</th><td>Total </td><td>7000  </td><td>100.0%</td><td>1672  </td><td>5328  </td><td>100.0%</td><td>100.0%</td><td>76.1% </td><td>   NA </td><td>0.063 </td></tr>\n",
       "</tbody>\n",
       "</table>\n",
       "</dd>\n",
       "\t<dt>$`WOE Table for V2`</dt>\n",
       "\t\t<dd><table>\n",
       "<thead><tr><th></th><th scope=col>Final.Bin</th><th scope=col>Total.Count</th><th scope=col>Total.Distr.</th><th scope=col>1.Count</th><th scope=col>0.Count</th><th scope=col>1.Distr.</th><th scope=col>0.Distr.</th><th scope=col>0.Rate</th><th scope=col>WOE</th><th scope=col>IV</th></tr></thead>\n",
       "<tbody>\n",
       "\t<tr><th scope=row>1</th><td><span style=white-space:pre-wrap>&lt;= 1  </span></td><td> 722                                             </td><td> 10.3%                                           </td><td> 123                                             </td><td> 599                                             </td><td><span style=white-space:pre-wrap>  7.4%</span>   </td><td> 11.2%                                           </td><td>83.0%                                            </td><td>-42.4                                            </td><td>0.016                                            </td></tr>\n",
       "\t<tr><th scope=row>2</th><td><span style=white-space:pre-wrap>&lt;= 3  </span></td><td>2889                                             </td><td> 41.3%                                           </td><td> 722                                             </td><td>2167                                             </td><td> 43.2%                                           </td><td> 40.7%                                           </td><td>75.0%                                            </td><td><span style=white-space:pre-wrap>  6.0</span>    </td><td>0.002                                            </td></tr>\n",
       "\t<tr><th scope=row>3</th><td><span style=white-space:pre-wrap>&lt;= 4  </span></td><td>1591                                             </td><td> 22.7%                                           </td><td> 306                                             </td><td>1285                                             </td><td> 18.3%                                           </td><td> 24.1%                                           </td><td>80.8%                                            </td><td>-27.6                                            </td><td>0.016                                            </td></tr>\n",
       "\t<tr><th scope=row>4</th><td>&lt;= Inf</td><td>1798     </td><td> 25.7%   </td><td> 521     </td><td>1277     </td><td> 31.2%   </td><td> 24.0%   </td><td>71.0%    </td><td> 26.2    </td><td>0.019    </td></tr>\n",
       "\t<tr><th scope=row>6</th><td>Total </td><td>7000  </td><td>100.0%</td><td>1672  </td><td>5328  </td><td>100.0%</td><td>100.0%</td><td>76.1% </td><td>   NA </td><td>0.053 </td></tr>\n",
       "</tbody>\n",
       "</table>\n",
       "</dd>\n",
       "\t<dt>$`WOE Table for Monthly_income`</dt>\n",
       "\t\t<dd><table>\n",
       "<thead><tr><th></th><th scope=col>Final.Bin</th><th scope=col>Total.Count</th><th scope=col>Total.Distr.</th><th scope=col>1.Count</th><th scope=col>0.Count</th><th scope=col>1.Distr.</th><th scope=col>0.Distr.</th><th scope=col>0.Rate</th><th scope=col>WOE</th><th scope=col>IV</th></tr></thead>\n",
       "<tbody>\n",
       "\t<tr><th scope=row>1</th><td>&lt;= -0.689715781                            </td><td> 700                                          </td><td> 10.0%                                        </td><td> 121                                          </td><td> 579                                          </td><td><span style=white-space:pre-wrap>  7.2%</span></td><td> 10.9%                                        </td><td>82.7%                                         </td><td>-40.7                                         </td><td>0.015                                         </td></tr>\n",
       "\t<tr><th scope=row>2</th><td>&lt;= -0.4179933117</td><td>2452               </td><td> 35.0%             </td><td> 556               </td><td>1896               </td><td> 33.3%             </td><td> 35.6%             </td><td>77.3%              </td><td> -6.8              </td><td>0.002              </td></tr>\n",
       "\t<tr><th scope=row>3</th><td>&lt;= 0.1669256496 </td><td>2452               </td><td> 35.0%             </td><td> 639               </td><td>1813               </td><td> 38.2%             </td><td> 34.0%             </td><td>73.9%              </td><td> 11.6              </td><td>0.005              </td></tr>\n",
       "\t<tr><th scope=row>4</th><td>&lt;= 0.6370021404                            </td><td> 696                                          </td><td><span style=white-space:pre-wrap>  9.9%</span></td><td> 208                                          </td><td> 488                                          </td><td> 12.4%                                        </td><td><span style=white-space:pre-wrap>  9.2%</span></td><td>70.1%                                         </td><td> 30.6                                         </td><td>0.010                                         </td></tr>\n",
       "\t<tr><th scope=row>5</th><td><span style=white-space:pre-wrap>&lt;= Inf          </span></td><td> 700                                                       </td><td> 10.0%                                                     </td><td> 148                                                       </td><td> 552                                                       </td><td><span style=white-space:pre-wrap>  8.9%</span>             </td><td> 10.4%                                                     </td><td>78.9%                                                      </td><td>-15.7                                                      </td><td>0.002                                                      </td></tr>\n",
       "\t<tr><th scope=row>7</th><td>Total           </td><td>7000            </td><td>100.0%          </td><td>1672            </td><td>5328            </td><td>100.0%          </td><td>100.0%          </td><td>76.1%           </td><td>   NA           </td><td>0.034           </td></tr>\n",
       "</tbody>\n",
       "</table>\n",
       "</dd>\n",
       "\t<dt>$`WOE Table for Loan_amount`</dt>\n",
       "\t\t<dd><table>\n",
       "<thead><tr><th></th><th scope=col>Final.Bin</th><th scope=col>Total.Count</th><th scope=col>Total.Distr.</th><th scope=col>1.Count</th><th scope=col>0.Count</th><th scope=col>1.Distr.</th><th scope=col>0.Distr.</th><th scope=col>0.Rate</th><th scope=col>WOE</th><th scope=col>IV</th></tr></thead>\n",
       "<tbody>\n",
       "\t<tr><th scope=row>1</th><td>&lt;= -0.8526511038                           </td><td> 773                                          </td><td> 11.0%                                        </td><td> 126                                          </td><td> 647                                          </td><td><span style=white-space:pre-wrap>  7.5%</span></td><td> 12.1%                                        </td><td>83.7%                                         </td><td>-47.7                                         </td><td>0.022                                         </td></tr>\n",
       "\t<tr><th scope=row>2</th><td>&lt;= 0.2048114117 </td><td>4357               </td><td> 62.2%             </td><td>1036               </td><td>3321               </td><td> 62.0%             </td><td> 62.3%             </td><td>76.2%              </td><td> -0.6              </td><td>0.000              </td></tr>\n",
       "\t<tr><th scope=row>3</th><td><span style=white-space:pre-wrap>&lt;= Inf          </span></td><td>1870                                                       </td><td> 26.7%                                                     </td><td> 510                                                       </td><td>1360                                                       </td><td> 30.5%                                                     </td><td> 25.5%                                                     </td><td>72.7%                                                      </td><td> 17.8                                                      </td><td>0.009                                                      </td></tr>\n",
       "\t<tr><th scope=row>5</th><td>Total           </td><td>7000            </td><td>100.0%          </td><td>1672            </td><td>5328            </td><td>100.0%          </td><td>100.0%          </td><td>76.1%           </td><td>   NA           </td><td>0.031           </td></tr>\n",
       "</tbody>\n",
       "</table>\n",
       "</dd>\n",
       "\t<dt>$`WOE Table for ID`</dt>\n",
       "\t\t<dd><table>\n",
       "<thead><tr><th></th><th scope=col>Final.Bin</th><th scope=col>Total.Count</th><th scope=col>Total.Distr.</th><th scope=col>1.Count</th><th scope=col>0.Count</th><th scope=col>1.Distr.</th><th scope=col>0.Distr.</th><th scope=col>0.Rate</th><th scope=col>WOE</th><th scope=col>IV</th></tr></thead>\n",
       "<tbody>\n",
       "\t<tr><th scope=row>1</th><td>&lt;= 282087.45                              </td><td>3150                                         </td><td> 45.0%                                       </td><td> 795                                         </td><td>2355                                         </td><td> 47.5%                                       </td><td> 44.2%                                       </td><td>74.8%                                        </td><td><span style=white-space:pre-wrap>  7.3</span></td><td>0.002                                        </td></tr>\n",
       "\t<tr><th scope=row>2</th><td>&lt;= 284952.5                                </td><td> 350                                          </td><td><span style=white-space:pre-wrap>  5.0%</span></td><td><span style=white-space:pre-wrap>  60</span>  </td><td> 290                                          </td><td><span style=white-space:pre-wrap>  3.6%</span></td><td><span style=white-space:pre-wrap>  5.4%</span></td><td>82.9%                                         </td><td>-41.7                                         </td><td>0.008                                         </td></tr>\n",
       "\t<tr><th scope=row>3</th><td>&lt;= 293917.3 </td><td>1400           </td><td> 20.0%         </td><td> 381           </td><td>1019           </td><td> 22.8%         </td><td> 19.1%         </td><td>72.8%          </td><td> 17.5          </td><td>0.006          </td></tr>\n",
       "\t<tr><th scope=row>4</th><td><span style=white-space:pre-wrap>&lt;= Inf      </span></td><td>2100                                                   </td><td> 30.0%                                                 </td><td> 436                                                   </td><td>1664                                                   </td><td> 26.1%                                                 </td><td> 31.2%                                                 </td><td>79.2%                                                  </td><td>-18.0                                                  </td><td>0.009                                                  </td></tr>\n",
       "\t<tr><th scope=row>6</th><td>Total       </td><td>7000        </td><td>100.0%      </td><td>1672        </td><td>5328        </td><td>100.0%      </td><td>100.0%      </td><td>76.1%       </td><td>   NA       </td><td>0.026       </td></tr>\n",
       "</tbody>\n",
       "</table>\n",
       "</dd>\n",
       "\t<dt>$`WOE Table for Has_FICO`</dt>\n",
       "\t\t<dd><table>\n",
       "<thead><tr><th></th><th scope=col>Final.Bin</th><th scope=col>Total.Count</th><th scope=col>Total.Distr.</th><th scope=col>1.Count</th><th scope=col>0.Count</th><th scope=col>1.Distr.</th><th scope=col>0.Distr.</th><th scope=col>0.Rate</th><th scope=col>WOE</th><th scope=col>IV</th></tr></thead>\n",
       "<tbody>\n",
       "\t<tr><th scope=row>1</th><td><span style=white-space:pre-wrap>&lt;= 0  </span></td><td>3140                                             </td><td> 44.9%                                           </td><td> 821                                             </td><td>2319                                             </td><td> 49.1%                                           </td><td> 43.5%                                           </td><td>73.9%                                            </td><td> 12.1                                            </td><td>0.007                                            </td></tr>\n",
       "\t<tr><th scope=row>2</th><td>&lt;= Inf</td><td>3860     </td><td> 55.1%   </td><td> 851     </td><td>3009     </td><td> 50.9%   </td><td> 56.5%   </td><td>78.0%    </td><td>-10.4    </td><td>0.006    </td></tr>\n",
       "\t<tr><th scope=row>4</th><td>Total </td><td>7000  </td><td>100.0%</td><td>1672  </td><td>5328  </td><td>100.0%</td><td>100.0%</td><td>76.1% </td><td>   NA </td><td>0.013 </td></tr>\n",
       "</tbody>\n",
       "</table>\n",
       "</dd>\n",
       "\t<dt>$`WOE Table for Gearing_coefficient`</dt>\n",
       "\t\t<dd><table>\n",
       "<thead><tr><th></th><th scope=col>Final.Bin</th><th scope=col>Total.Count</th><th scope=col>Total.Distr.</th><th scope=col>1.Count</th><th scope=col>0.Count</th><th scope=col>1.Distr.</th><th scope=col>0.Distr.</th><th scope=col>0.Rate</th><th scope=col>WOE</th><th scope=col>IV</th></tr></thead>\n",
       "<tbody>\n",
       "\t<tr><th scope=row>1</th><td>&lt;= 0.2135682666</td><td>3150              </td><td> 45.0%            </td><td> 723              </td><td>2427              </td><td> 43.2%            </td><td> 45.6%            </td><td>77.0%             </td><td> -5.2             </td><td>0.001             </td></tr>\n",
       "\t<tr><th scope=row>2</th><td>&lt;= 0.401890006                             </td><td> 350                                          </td><td><span style=white-space:pre-wrap>  5.0%</span></td><td><span style=white-space:pre-wrap>  69</span>  </td><td> 281                                          </td><td><span style=white-space:pre-wrap>  4.1%</span></td><td><span style=white-space:pre-wrap>  5.3%</span></td><td>80.3%                                         </td><td>-24.5                                         </td><td>0.003                                         </td></tr>\n",
       "\t<tr><th scope=row>3</th><td>&lt;= 0.560412318                             </td><td> 350                                          </td><td><span style=white-space:pre-wrap>  5.0%</span></td><td><span style=white-space:pre-wrap>  93</span>  </td><td> 257                                          </td><td><span style=white-space:pre-wrap>  5.6%</span></td><td><span style=white-space:pre-wrap>  4.8%</span></td><td>73.4%                                         </td><td> 14.2                                         </td><td>0.001                                         </td></tr>\n",
       "\t<tr><th scope=row>4</th><td><span style=white-space:pre-wrap>&lt;= 0.96009714  </span></td><td>1403                                                      </td><td> 20.0%                                                    </td><td> 320                                                      </td><td>1083                                                      </td><td> 19.1%                                                    </td><td> 20.3%                                                    </td><td>77.2%                                                     </td><td> -6.0                                                     </td><td>0.001                                                     </td></tr>\n",
       "\t<tr><th scope=row>5</th><td><span style=white-space:pre-wrap>&lt;= Inf         </span></td><td>1747                                                      </td><td> 25.0%                                                    </td><td> 467                                                      </td><td>1280                                                      </td><td> 27.9%                                                    </td><td> 24.0%                                                    </td><td>73.3%                                                     </td><td> 15.1                                                     </td><td>0.006                                                     </td></tr>\n",
       "\t<tr><th scope=row>7</th><td>Total          </td><td>7000           </td><td>100.0%         </td><td>1672           </td><td>5328           </td><td>100.0%         </td><td>100.0%         </td><td>76.1%          </td><td>   NA          </td><td>0.012          </td></tr>\n",
       "</tbody>\n",
       "</table>\n",
       "</dd>\n",
       "\t<dt>$`WOE Table for Max_gearing_ratio`</dt>\n",
       "\t\t<dd><table>\n",
       "<thead><tr><th></th><th scope=col>Final.Bin</th><th scope=col>Total.Count</th><th scope=col>Total.Distr.</th><th scope=col>1.Count</th><th scope=col>0.Count</th><th scope=col>1.Distr.</th><th scope=col>0.Distr.</th><th scope=col>0.Rate</th><th scope=col>WOE</th><th scope=col>IV</th></tr></thead>\n",
       "<tbody>\n",
       "\t<tr><th scope=row>1</th><td>&lt;= -0.7686306524</td><td>4069               </td><td> 58.1%             </td><td> 932               </td><td>3137               </td><td> 55.7%             </td><td> 58.9%             </td><td>77.1%              </td><td>-5.5               </td><td>0.002              </td></tr>\n",
       "\t<tr><th scope=row>2</th><td>&lt;= 0.5139797985 </td><td>1606               </td><td> 22.9%             </td><td> 430               </td><td>1176               </td><td> 25.7%             </td><td> 22.1%             </td><td>73.2%              </td><td>15.3               </td><td>0.006              </td></tr>\n",
       "\t<tr><th scope=row>3</th><td><span style=white-space:pre-wrap>&lt;= Inf          </span></td><td>1325                                                       </td><td> 18.9%                                                     </td><td> 310                                                       </td><td>1015                                                       </td><td> 18.5%                                                     </td><td> 19.1%                                                     </td><td>76.6%                                                      </td><td>-2.7                                                       </td><td>0.000                                                      </td></tr>\n",
       "\t<tr><th scope=row>5</th><td>Total           </td><td>7000            </td><td>100.0%          </td><td>1672            </td><td>5328            </td><td>100.0%          </td><td>100.0%          </td><td>76.1%           </td><td>  NA            </td><td>0.007           </td></tr>\n",
       "</tbody>\n",
       "</table>\n",
       "</dd>\n",
       "</dl>\n"
      ],
      "text/latex": [
       "\\begin{description}\n",
       "\\item[\\$`WOE Table for FICO\\_Score`] \\begin{tabular}{r|llllllllll}\n",
       "  & Final.Bin & Total.Count & Total.Distr. & 1.Count & 0.Count & 1.Distr. & 0.Distr. & 0.Rate & WOE & IV\\\\\n",
       "\\hline\n",
       "\t1 & <= -0.8134164153 & 1066             &  15.2\\%         &  522             &  544             &  31.2\\%         &  10.2\\%         & 51.0\\%          &  111.8           & 0.235           \\\\\n",
       "\t2 & <= 0.2926712821  & 4537             &  64.8\\%         & 1091             & 3446             &  65.3\\%         &  64.7\\%         & 76.0\\%          &    0.9           & 0.000           \\\\\n",
       "\t3 & <= Inf           & 1397             &  20.0\\%         &   59             & 1338             &   3.5\\%         &  25.1\\%         & 95.8\\%          & -196.2           & 0.424           \\\\\n",
       "\t5 & Total            & 7000             & 100.0\\%         & 1672             & 5328             & 100.0\\%         & 100.0\\%         & 76.1\\%          &     NA           & 0.658           \\\\\n",
       "\\end{tabular}\n",
       "\n",
       "\\item[\\$`WOE Table for V5`] \\begin{tabular}{r|llllllllll}\n",
       "  & Final.Bin & Total.Count & Total.Distr. & 1.Count & 0.Count & 1.Distr. & 0.Distr. & 0.Rate & WOE & IV\\\\\n",
       "\\hline\n",
       "\t1 & <= 2     & 2165     &  30.9\\% &  818     & 1347     &  48.9\\% &  25.3\\% & 62.2\\%  &  66.0    & 0.156   \\\\\n",
       "\t2 & <= 5     & 2855     &  40.8\\% &  620     & 2235     &  37.1\\% &  41.9\\% & 78.3\\%  & -12.3    & 0.006   \\\\\n",
       "\t3 & <= Inf   & 1980     &  28.3\\% &  234     & 1746     &  14.0\\% &  32.8\\% & 88.2\\%  & -85.1    & 0.160   \\\\\n",
       "\t5 & Total    & 7000     & 100.0\\% & 1672     & 5328     & 100.0\\% & 100.0\\% & 76.1\\%  &    NA    & 0.322   \\\\\n",
       "\\end{tabular}\n",
       "\n",
       "\\item[\\$`WOE Table for Age`] \\begin{tabular}{r|llllllllll}\n",
       "  & Final.Bin & Total.Count & Total.Distr. & 1.Count & 0.Count & 1.Distr. & 0.Distr. & 0.Rate & WOE & IV\\\\\n",
       "\\hline\n",
       "\t1 & <= -1.438595864 &  433            &   6.2\\%        &  189            &  244            &  11.3\\%        &   4.6\\%        & 56.4\\%         &  90.4           & 0.061          \\\\\n",
       "\t2 & <= 0.2086596473 & 3865            &  55.2\\%        & 1126            & 2739            &  67.3\\%        &  51.4\\%        & 70.9\\%         &  27.0           & 0.043          \\\\\n",
       "\t3 & <= Inf          & 2702            &  38.6\\%        &  357            & 2345            &  21.4\\%        &  44.0\\%        & 86.8\\%         & -72.3           & 0.164          \\\\\n",
       "\t5 & Total           & 7000            & 100.0\\%        & 1672            & 5328            & 100.0\\%        & 100.0\\%        & 76.1\\%         &    NA           & 0.268          \\\\\n",
       "\\end{tabular}\n",
       "\n",
       "\\item[\\$`WOE Table for Business\\_channel`] \\begin{tabular}{r|llllllllll}\n",
       " Final.Bin & Total.Count & Total.Distr. & 1.Count & 0.Count & 1.Distr. & 0.Distr. & 0.Rate & WOE & IV\\\\\n",
       "\\hline\n",
       "\t 3        &  656     &   9.4\\% &   66     &  590     &   3.9\\% &  11.1\\% & 89.9\\%  & -103.2   & 0.074   \\\\\n",
       "\t 1        & 4901     &  70.0\\% & 1028     & 3873     &  61.5\\% &  72.7\\% & 79.0\\%  &  -16.7   & 0.019   \\\\\n",
       "\t 2        & 1443     &  20.6\\% &  578     &  865     &  34.6\\% &  16.2\\% & 59.9\\%  &   75.6   & 0.139   \\\\\n",
       "\t Total    & 7000     & 100.0\\% & 1672     & 5328     & 100.0\\% & 100.0\\% & 76.1\\%  &     NA   & 0.231   \\\\\n",
       "\\end{tabular}\n",
       "\n",
       "\\item[\\$`WOE Table for V6`] \\begin{tabular}{r|llllllllll}\n",
       "  & Final.Bin & Total.Count & Total.Distr. & 1.Count & 0.Count & 1.Distr. & 0.Distr. & 0.Rate & WOE & IV\\\\\n",
       "\\hline\n",
       "\t1 & <= 4     & 2733     &  39.0\\% &  598     & 2135     &  35.8\\% &  40.1\\% & 78.1\\%  & -11.4    & 0.005   \\\\\n",
       "\t2 & <= 5     & 2781     &  39.7\\% &  904     & 1877     &  54.1\\% &  35.2\\% & 67.5\\%  &  42.8    & 0.081   \\\\\n",
       "\t3 & <= Inf   & 1486     &  21.2\\% &  170     & 1316     &  10.2\\% &  24.7\\% & 88.6\\%  & -88.8    & 0.129   \\\\\n",
       "\t5 & Total    & 7000     & 100.0\\% & 1672     & 5328     & 100.0\\% & 100.0\\% & 76.1\\%  &    NA    & 0.215   \\\\\n",
       "\\end{tabular}\n",
       "\n",
       "\\item[\\$`WOE Table for V1`] \\begin{tabular}{r|llllllllll}\n",
       "  & Final.Bin & Total.Count & Total.Distr. & 1.Count & 0.Count & 1.Distr. & 0.Distr. & 0.Rate & WOE & IV\\\\\n",
       "\\hline\n",
       "\t1 & <= 2     & 4416     &  63.1\\% &  807     & 3609     &  48.3\\% &  67.7\\% & 81.7\\%  & -33.9    & 0.066   \\\\\n",
       "\t2 & <= 3     & 2007     &  28.7\\% &  724     & 1283     &  43.3\\% &  24.1\\% & 63.9\\%  &  58.7    & 0.113   \\\\\n",
       "\t3 & <= Inf   &  577     &   8.2\\% &  141     &  436     &   8.4\\% &   8.2\\% & 75.6\\%  &   3.0    & 0.000   \\\\\n",
       "\t5 & Total    & 7000     & 100.0\\% & 1672     & 5328     & 100.0\\% & 100.0\\% & 76.1\\%  &    NA    & 0.179   \\\\\n",
       "\\end{tabular}\n",
       "\n",
       "\\item[\\$`WOE Table for V4`] \\begin{tabular}{r|llllllllll}\n",
       "  & Final.Bin & Total.Count & Total.Distr. & 1.Count & 0.Count & 1.Distr. & 0.Distr. & 0.Rate & WOE & IV\\\\\n",
       "\\hline\n",
       "\t1 & <= 4     & 5524     &  78.9\\% & 1504     & 4020     &  90.0\\% &  75.5\\% & 72.8\\%  &  17.6    & 0.025   \\\\\n",
       "\t2 & <= Inf   & 1476     &  21.1\\% &  168     & 1308     &  10.0\\% &  24.5\\% & 88.6\\%  & -89.3    & 0.130   \\\\\n",
       "\t4 & Total    & 7000     & 100.0\\% & 1672     & 5328     & 100.0\\% & 100.0\\% & 76.1\\%  &    NA    & 0.155   \\\\\n",
       "\\end{tabular}\n",
       "\n",
       "\\item[\\$`WOE Table for V7`] \\begin{tabular}{r|llllllllll}\n",
       "  & Final.Bin & Total.Count & Total.Distr. & 1.Count & 0.Count & 1.Distr. & 0.Distr. & 0.Rate & WOE & IV\\\\\n",
       "\\hline\n",
       "\t1 & <= 1     & 4241     &  60.6\\% &  813     & 3428     &  48.6\\% &  64.3\\% & 80.8\\%  & -28.0    & 0.044   \\\\\n",
       "\t2 & <= Inf   & 2759     &  39.4\\% &  859     & 1900     &  51.4\\% &  35.7\\% & 68.9\\%  &  36.5    & 0.057   \\\\\n",
       "\t4 & Total    & 7000     & 100.0\\% & 1672     & 5328     & 100.0\\% & 100.0\\% & 76.1\\%  &    NA    & 0.101   \\\\\n",
       "\\end{tabular}\n",
       "\n",
       "\\item[\\$`WOE Table for V8`] \\begin{tabular}{r|llllllllll}\n",
       " Final.Bin & Total.Count & Total.Distr. & 1.Count & 0.Count & 1.Distr. & 0.Distr. & 0.Rate & WOE & IV\\\\\n",
       "\\hline\n",
       "\t 4 + 3 + 2        & 4307             &  61.5\\%         &  849             & 3458             &  50.8\\%         &  64.9\\%         & 80.3\\%          & -24.5            & 0.035           \\\\\n",
       "\t misc. level pos. &  111             &   1.6\\%         &   28             &   83             &   1.7\\%         &   1.6\\%         & 74.8\\%          &   7.2            & 0.000           \\\\\n",
       "\t 1                & 2582             &  36.9\\%         &  795             & 1787             &  47.5\\%         &  33.5\\%         & 69.2\\%          &  34.9            & 0.049           \\\\\n",
       "\t Total            & 7000             & 100.0\\%         & 1672             & 5328             & 100.0\\%         & 100.0\\%         & 76.1\\%          &    NA            & 0.084           \\\\\n",
       "\\end{tabular}\n",
       "\n",
       "\\item[\\$`WOE Table for V3`] \\begin{tabular}{r|llllllllll}\n",
       "  & Final.Bin & Total.Count & Total.Distr. & 1.Count & 0.Count & 1.Distr. & 0.Distr. & 0.Rate & WOE & IV\\\\\n",
       "\\hline\n",
       "\t1 & <= 10    & 3749     &  53.6\\% & 1031     & 2718     &  61.7\\% &  51.0\\% & 72.5\\%  &  19.0    & 0.020   \\\\\n",
       "\t2 & <= 11    & 2331     &  33.3\\% &  413     & 1918     &  24.7\\% &  36.0\\% & 82.3\\%  & -37.7    & 0.043   \\\\\n",
       "\t3 & <= Inf   &  920     &  13.1\\% &  228     &  692     &  13.6\\% &  13.0\\% & 75.2\\%  &   4.9    & 0.000   \\\\\n",
       "\t5 & Total    & 7000     & 100.0\\% & 1672     & 5328     & 100.0\\% & 100.0\\% & 76.1\\%  &    NA    & 0.063   \\\\\n",
       "\\end{tabular}\n",
       "\n",
       "\\item[\\$`WOE Table for V2`] \\begin{tabular}{r|llllllllll}\n",
       "  & Final.Bin & Total.Count & Total.Distr. & 1.Count & 0.Count & 1.Distr. & 0.Distr. & 0.Rate & WOE & IV\\\\\n",
       "\\hline\n",
       "\t1 & <= 1     &  722     &  10.3\\% &  123     &  599     &   7.4\\% &  11.2\\% & 83.0\\%  & -42.4    & 0.016   \\\\\n",
       "\t2 & <= 3     & 2889     &  41.3\\% &  722     & 2167     &  43.2\\% &  40.7\\% & 75.0\\%  &   6.0    & 0.002   \\\\\n",
       "\t3 & <= 4     & 1591     &  22.7\\% &  306     & 1285     &  18.3\\% &  24.1\\% & 80.8\\%  & -27.6    & 0.016   \\\\\n",
       "\t4 & <= Inf   & 1798     &  25.7\\% &  521     & 1277     &  31.2\\% &  24.0\\% & 71.0\\%  &  26.2    & 0.019   \\\\\n",
       "\t6 & Total    & 7000     & 100.0\\% & 1672     & 5328     & 100.0\\% & 100.0\\% & 76.1\\%  &    NA    & 0.053   \\\\\n",
       "\\end{tabular}\n",
       "\n",
       "\\item[\\$`WOE Table for Monthly\\_income`] \\begin{tabular}{r|llllllllll}\n",
       "  & Final.Bin & Total.Count & Total.Distr. & 1.Count & 0.Count & 1.Distr. & 0.Distr. & 0.Rate & WOE & IV\\\\\n",
       "\\hline\n",
       "\t1 & <= -0.689715781  &  700             &  10.0\\%         &  121             &  579             &   7.2\\%         &  10.9\\%         & 82.7\\%          & -40.7            & 0.015           \\\\\n",
       "\t2 & <= -0.4179933117 & 2452             &  35.0\\%         &  556             & 1896             &  33.3\\%         &  35.6\\%         & 77.3\\%          &  -6.8            & 0.002           \\\\\n",
       "\t3 & <= 0.1669256496  & 2452             &  35.0\\%         &  639             & 1813             &  38.2\\%         &  34.0\\%         & 73.9\\%          &  11.6            & 0.005           \\\\\n",
       "\t4 & <= 0.6370021404  &  696             &   9.9\\%         &  208             &  488             &  12.4\\%         &   9.2\\%         & 70.1\\%          &  30.6            & 0.010           \\\\\n",
       "\t5 & <= Inf           &  700             &  10.0\\%         &  148             &  552             &   8.9\\%         &  10.4\\%         & 78.9\\%          & -15.7            & 0.002           \\\\\n",
       "\t7 & Total            & 7000             & 100.0\\%         & 1672             & 5328             & 100.0\\%         & 100.0\\%         & 76.1\\%          &    NA            & 0.034           \\\\\n",
       "\\end{tabular}\n",
       "\n",
       "\\item[\\$`WOE Table for Loan\\_amount`] \\begin{tabular}{r|llllllllll}\n",
       "  & Final.Bin & Total.Count & Total.Distr. & 1.Count & 0.Count & 1.Distr. & 0.Distr. & 0.Rate & WOE & IV\\\\\n",
       "\\hline\n",
       "\t1 & <= -0.8526511038 &  773             &  11.0\\%         &  126             &  647             &   7.5\\%         &  12.1\\%         & 83.7\\%          & -47.7            & 0.022           \\\\\n",
       "\t2 & <= 0.2048114117  & 4357             &  62.2\\%         & 1036             & 3321             &  62.0\\%         &  62.3\\%         & 76.2\\%          &  -0.6            & 0.000           \\\\\n",
       "\t3 & <= Inf           & 1870             &  26.7\\%         &  510             & 1360             &  30.5\\%         &  25.5\\%         & 72.7\\%          &  17.8            & 0.009           \\\\\n",
       "\t5 & Total            & 7000             & 100.0\\%         & 1672             & 5328             & 100.0\\%         & 100.0\\%         & 76.1\\%          &    NA            & 0.031           \\\\\n",
       "\\end{tabular}\n",
       "\n",
       "\\item[\\$`WOE Table for ID`] \\begin{tabular}{r|llllllllll}\n",
       "  & Final.Bin & Total.Count & Total.Distr. & 1.Count & 0.Count & 1.Distr. & 0.Distr. & 0.Rate & WOE & IV\\\\\n",
       "\\hline\n",
       "\t1 & <= 282087.45 & 3150         &  45.0\\%     &  795         & 2355         &  47.5\\%     &  44.2\\%     & 74.8\\%      &   7.3        & 0.002       \\\\\n",
       "\t2 & <= 284952.5  &  350         &   5.0\\%     &   60         &  290         &   3.6\\%     &   5.4\\%     & 82.9\\%      & -41.7        & 0.008       \\\\\n",
       "\t3 & <= 293917.3  & 1400         &  20.0\\%     &  381         & 1019         &  22.8\\%     &  19.1\\%     & 72.8\\%      &  17.5        & 0.006       \\\\\n",
       "\t4 & <= Inf       & 2100         &  30.0\\%     &  436         & 1664         &  26.1\\%     &  31.2\\%     & 79.2\\%      & -18.0        & 0.009       \\\\\n",
       "\t6 & Total        & 7000         & 100.0\\%     & 1672         & 5328         & 100.0\\%     & 100.0\\%     & 76.1\\%      &    NA        & 0.026       \\\\\n",
       "\\end{tabular}\n",
       "\n",
       "\\item[\\$`WOE Table for Has\\_FICO`] \\begin{tabular}{r|llllllllll}\n",
       "  & Final.Bin & Total.Count & Total.Distr. & 1.Count & 0.Count & 1.Distr. & 0.Distr. & 0.Rate & WOE & IV\\\\\n",
       "\\hline\n",
       "\t1 & <= 0     & 3140     &  44.9\\% &  821     & 2319     &  49.1\\% &  43.5\\% & 73.9\\%  &  12.1    & 0.007   \\\\\n",
       "\t2 & <= Inf   & 3860     &  55.1\\% &  851     & 3009     &  50.9\\% &  56.5\\% & 78.0\\%  & -10.4    & 0.006   \\\\\n",
       "\t4 & Total    & 7000     & 100.0\\% & 1672     & 5328     & 100.0\\% & 100.0\\% & 76.1\\%  &    NA    & 0.013   \\\\\n",
       "\\end{tabular}\n",
       "\n",
       "\\item[\\$`WOE Table for Gearing\\_coefficient`] \\begin{tabular}{r|llllllllll}\n",
       "  & Final.Bin & Total.Count & Total.Distr. & 1.Count & 0.Count & 1.Distr. & 0.Distr. & 0.Rate & WOE & IV\\\\\n",
       "\\hline\n",
       "\t1 & <= 0.2135682666 & 3150            &  45.0\\%        &  723            & 2427            &  43.2\\%        &  45.6\\%        & 77.0\\%         &  -5.2           & 0.001          \\\\\n",
       "\t2 & <= 0.401890006  &  350            &   5.0\\%        &   69            &  281            &   4.1\\%        &   5.3\\%        & 80.3\\%         & -24.5           & 0.003          \\\\\n",
       "\t3 & <= 0.560412318  &  350            &   5.0\\%        &   93            &  257            &   5.6\\%        &   4.8\\%        & 73.4\\%         &  14.2           & 0.001          \\\\\n",
       "\t4 & <= 0.96009714   & 1403            &  20.0\\%        &  320            & 1083            &  19.1\\%        &  20.3\\%        & 77.2\\%         &  -6.0           & 0.001          \\\\\n",
       "\t5 & <= Inf          & 1747            &  25.0\\%        &  467            & 1280            &  27.9\\%        &  24.0\\%        & 73.3\\%         &  15.1           & 0.006          \\\\\n",
       "\t7 & Total           & 7000            & 100.0\\%        & 1672            & 5328            & 100.0\\%        & 100.0\\%        & 76.1\\%         &    NA           & 0.012          \\\\\n",
       "\\end{tabular}\n",
       "\n",
       "\\item[\\$`WOE Table for Max\\_gearing\\_ratio`] \\begin{tabular}{r|llllllllll}\n",
       "  & Final.Bin & Total.Count & Total.Distr. & 1.Count & 0.Count & 1.Distr. & 0.Distr. & 0.Rate & WOE & IV\\\\\n",
       "\\hline\n",
       "\t1 & <= -0.7686306524 & 4069             &  58.1\\%         &  932             & 3137             &  55.7\\%         &  58.9\\%         & 77.1\\%          & -5.5             & 0.002           \\\\\n",
       "\t2 & <= 0.5139797985  & 1606             &  22.9\\%         &  430             & 1176             &  25.7\\%         &  22.1\\%         & 73.2\\%          & 15.3             & 0.006           \\\\\n",
       "\t3 & <= Inf           & 1325             &  18.9\\%         &  310             & 1015             &  18.5\\%         &  19.1\\%         & 76.6\\%          & -2.7             & 0.000           \\\\\n",
       "\t5 & Total            & 7000             & 100.0\\%         & 1672             & 5328             & 100.0\\%         & 100.0\\%         & 76.1\\%          &   NA             & 0.007           \\\\\n",
       "\\end{tabular}\n",
       "\n",
       "\\end{description}\n"
      ],
      "text/markdown": [
       "$`WOE Table for FICO_Score`\n",
       ":   \n",
       "| <!--/--> | Final.Bin | Total.Count | Total.Distr. | 1.Count | 0.Count | 1.Distr. | 0.Distr. | 0.Rate | WOE | IV |\n",
       "|---|---|---|---|---|---|---|---|---|---|---|\n",
       "| 1 | <= -0.8134164153 | 1066             |  15.2%           |  522             |  544             |  31.2%           |  10.2%           | 51.0%            |  111.8           | 0.235            |\n",
       "| 2 | <= 0.2926712821  | 4537             |  64.8%           | 1091             | 3446             |  65.3%           |  64.7%           | 76.0%            |    0.9           | 0.000            |\n",
       "| 3 | <= Inf           | 1397             |  20.0%           |   59             | 1338             |   3.5%           |  25.1%           | 95.8%            | -196.2           | 0.424            |\n",
       "| 5 | Total            | 7000             | 100.0%           | 1672             | 5328             | 100.0%           | 100.0%           | 76.1%            |     NA           | 0.658            |\n",
       "\n",
       "\n",
       "$`WOE Table for V5`\n",
       ":   \n",
       "| <!--/--> | Final.Bin | Total.Count | Total.Distr. | 1.Count | 0.Count | 1.Distr. | 0.Distr. | 0.Rate | WOE | IV |\n",
       "|---|---|---|---|---|---|---|---|---|---|---|\n",
       "| 1 | <= 2   | 2165   |  30.9% |  818   | 1347   |  48.9% |  25.3% | 62.2%  |  66.0  | 0.156  |\n",
       "| 2 | <= 5   | 2855   |  40.8% |  620   | 2235   |  37.1% |  41.9% | 78.3%  | -12.3  | 0.006  |\n",
       "| 3 | <= Inf | 1980   |  28.3% |  234   | 1746   |  14.0% |  32.8% | 88.2%  | -85.1  | 0.160  |\n",
       "| 5 | Total  | 7000   | 100.0% | 1672   | 5328   | 100.0% | 100.0% | 76.1%  |    NA  | 0.322  |\n",
       "\n",
       "\n",
       "$`WOE Table for Age`\n",
       ":   \n",
       "| <!--/--> | Final.Bin | Total.Count | Total.Distr. | 1.Count | 0.Count | 1.Distr. | 0.Distr. | 0.Rate | WOE | IV |\n",
       "|---|---|---|---|---|---|---|---|---|---|---|\n",
       "| 1 | <= -1.438595864 |  433            |   6.2%          |  189            |  244            |  11.3%          |   4.6%          | 56.4%           |  90.4           | 0.061           |\n",
       "| 2 | <= 0.2086596473 | 3865            |  55.2%          | 1126            | 2739            |  67.3%          |  51.4%          | 70.9%           |  27.0           | 0.043           |\n",
       "| 3 | <= Inf          | 2702            |  38.6%          |  357            | 2345            |  21.4%          |  44.0%          | 86.8%           | -72.3           | 0.164           |\n",
       "| 5 | Total           | 7000            | 100.0%          | 1672            | 5328            | 100.0%          | 100.0%          | 76.1%           |    NA           | 0.268           |\n",
       "\n",
       "\n",
       "$`WOE Table for Business_channel`\n",
       ":   \n",
       "| Final.Bin | Total.Count | Total.Distr. | 1.Count | 0.Count | 1.Distr. | 0.Distr. | 0.Rate | WOE | IV |\n",
       "|---|---|---|---|---|---|---|---|---|---|\n",
       "| 3      |  656   |   9.4% |   66   |  590   |   3.9% |  11.1% | 89.9%  | -103.2 | 0.074  |\n",
       "| 1      | 4901   |  70.0% | 1028   | 3873   |  61.5% |  72.7% | 79.0%  |  -16.7 | 0.019  |\n",
       "| 2      | 1443   |  20.6% |  578   |  865   |  34.6% |  16.2% | 59.9%  |   75.6 | 0.139  |\n",
       "| Total  | 7000   | 100.0% | 1672   | 5328   | 100.0% | 100.0% | 76.1%  |     NA | 0.231  |\n",
       "\n",
       "\n",
       "$`WOE Table for V6`\n",
       ":   \n",
       "| <!--/--> | Final.Bin | Total.Count | Total.Distr. | 1.Count | 0.Count | 1.Distr. | 0.Distr. | 0.Rate | WOE | IV |\n",
       "|---|---|---|---|---|---|---|---|---|---|---|\n",
       "| 1 | <= 4   | 2733   |  39.0% |  598   | 2135   |  35.8% |  40.1% | 78.1%  | -11.4  | 0.005  |\n",
       "| 2 | <= 5   | 2781   |  39.7% |  904   | 1877   |  54.1% |  35.2% | 67.5%  |  42.8  | 0.081  |\n",
       "| 3 | <= Inf | 1486   |  21.2% |  170   | 1316   |  10.2% |  24.7% | 88.6%  | -88.8  | 0.129  |\n",
       "| 5 | Total  | 7000   | 100.0% | 1672   | 5328   | 100.0% | 100.0% | 76.1%  |    NA  | 0.215  |\n",
       "\n",
       "\n",
       "$`WOE Table for V1`\n",
       ":   \n",
       "| <!--/--> | Final.Bin | Total.Count | Total.Distr. | 1.Count | 0.Count | 1.Distr. | 0.Distr. | 0.Rate | WOE | IV |\n",
       "|---|---|---|---|---|---|---|---|---|---|---|\n",
       "| 1 | <= 2   | 4416   |  63.1% |  807   | 3609   |  48.3% |  67.7% | 81.7%  | -33.9  | 0.066  |\n",
       "| 2 | <= 3   | 2007   |  28.7% |  724   | 1283   |  43.3% |  24.1% | 63.9%  |  58.7  | 0.113  |\n",
       "| 3 | <= Inf |  577   |   8.2% |  141   |  436   |   8.4% |   8.2% | 75.6%  |   3.0  | 0.000  |\n",
       "| 5 | Total  | 7000   | 100.0% | 1672   | 5328   | 100.0% | 100.0% | 76.1%  |    NA  | 0.179  |\n",
       "\n",
       "\n",
       "$`WOE Table for V4`\n",
       ":   \n",
       "| <!--/--> | Final.Bin | Total.Count | Total.Distr. | 1.Count | 0.Count | 1.Distr. | 0.Distr. | 0.Rate | WOE | IV |\n",
       "|---|---|---|---|---|---|---|---|---|---|---|\n",
       "| 1 | <= 4   | 5524   |  78.9% | 1504   | 4020   |  90.0% |  75.5% | 72.8%  |  17.6  | 0.025  |\n",
       "| 2 | <= Inf | 1476   |  21.1% |  168   | 1308   |  10.0% |  24.5% | 88.6%  | -89.3  | 0.130  |\n",
       "| 4 | Total  | 7000   | 100.0% | 1672   | 5328   | 100.0% | 100.0% | 76.1%  |    NA  | 0.155  |\n",
       "\n",
       "\n",
       "$`WOE Table for V7`\n",
       ":   \n",
       "| <!--/--> | Final.Bin | Total.Count | Total.Distr. | 1.Count | 0.Count | 1.Distr. | 0.Distr. | 0.Rate | WOE | IV |\n",
       "|---|---|---|---|---|---|---|---|---|---|---|\n",
       "| 1 | <= 1   | 4241   |  60.6% |  813   | 3428   |  48.6% |  64.3% | 80.8%  | -28.0  | 0.044  |\n",
       "| 2 | <= Inf | 2759   |  39.4% |  859   | 1900   |  51.4% |  35.7% | 68.9%  |  36.5  | 0.057  |\n",
       "| 4 | Total  | 7000   | 100.0% | 1672   | 5328   | 100.0% | 100.0% | 76.1%  |    NA  | 0.101  |\n",
       "\n",
       "\n",
       "$`WOE Table for V8`\n",
       ":   \n",
       "| Final.Bin | Total.Count | Total.Distr. | 1.Count | 0.Count | 1.Distr. | 0.Distr. | 0.Rate | WOE | IV |\n",
       "|---|---|---|---|---|---|---|---|---|---|\n",
       "| 4 + 3 + 2        | 4307             |  61.5%           |  849             | 3458             |  50.8%           |  64.9%           | 80.3%            | -24.5            | 0.035            |\n",
       "| misc. level pos. |  111             |   1.6%           |   28             |   83             |   1.7%           |   1.6%           | 74.8%            |   7.2            | 0.000            |\n",
       "| 1                | 2582             |  36.9%           |  795             | 1787             |  47.5%           |  33.5%           | 69.2%            |  34.9            | 0.049            |\n",
       "| Total            | 7000             | 100.0%           | 1672             | 5328             | 100.0%           | 100.0%           | 76.1%            |    NA            | 0.084            |\n",
       "\n",
       "\n",
       "$`WOE Table for V3`\n",
       ":   \n",
       "| <!--/--> | Final.Bin | Total.Count | Total.Distr. | 1.Count | 0.Count | 1.Distr. | 0.Distr. | 0.Rate | WOE | IV |\n",
       "|---|---|---|---|---|---|---|---|---|---|---|\n",
       "| 1 | <= 10  | 3749   |  53.6% | 1031   | 2718   |  61.7% |  51.0% | 72.5%  |  19.0  | 0.020  |\n",
       "| 2 | <= 11  | 2331   |  33.3% |  413   | 1918   |  24.7% |  36.0% | 82.3%  | -37.7  | 0.043  |\n",
       "| 3 | <= Inf |  920   |  13.1% |  228   |  692   |  13.6% |  13.0% | 75.2%  |   4.9  | 0.000  |\n",
       "| 5 | Total  | 7000   | 100.0% | 1672   | 5328   | 100.0% | 100.0% | 76.1%  |    NA  | 0.063  |\n",
       "\n",
       "\n",
       "$`WOE Table for V2`\n",
       ":   \n",
       "| <!--/--> | Final.Bin | Total.Count | Total.Distr. | 1.Count | 0.Count | 1.Distr. | 0.Distr. | 0.Rate | WOE | IV |\n",
       "|---|---|---|---|---|---|---|---|---|---|---|\n",
       "| 1 | <= 1   |  722   |  10.3% |  123   |  599   |   7.4% |  11.2% | 83.0%  | -42.4  | 0.016  |\n",
       "| 2 | <= 3   | 2889   |  41.3% |  722   | 2167   |  43.2% |  40.7% | 75.0%  |   6.0  | 0.002  |\n",
       "| 3 | <= 4   | 1591   |  22.7% |  306   | 1285   |  18.3% |  24.1% | 80.8%  | -27.6  | 0.016  |\n",
       "| 4 | <= Inf | 1798   |  25.7% |  521   | 1277   |  31.2% |  24.0% | 71.0%  |  26.2  | 0.019  |\n",
       "| 6 | Total  | 7000   | 100.0% | 1672   | 5328   | 100.0% | 100.0% | 76.1%  |    NA  | 0.053  |\n",
       "\n",
       "\n",
       "$`WOE Table for Monthly_income`\n",
       ":   \n",
       "| <!--/--> | Final.Bin | Total.Count | Total.Distr. | 1.Count | 0.Count | 1.Distr. | 0.Distr. | 0.Rate | WOE | IV |\n",
       "|---|---|---|---|---|---|---|---|---|---|---|\n",
       "| 1 | <= -0.689715781  |  700             |  10.0%           |  121             |  579             |   7.2%           |  10.9%           | 82.7%            | -40.7            | 0.015            |\n",
       "| 2 | <= -0.4179933117 | 2452             |  35.0%           |  556             | 1896             |  33.3%           |  35.6%           | 77.3%            |  -6.8            | 0.002            |\n",
       "| 3 | <= 0.1669256496  | 2452             |  35.0%           |  639             | 1813             |  38.2%           |  34.0%           | 73.9%            |  11.6            | 0.005            |\n",
       "| 4 | <= 0.6370021404  |  696             |   9.9%           |  208             |  488             |  12.4%           |   9.2%           | 70.1%            |  30.6            | 0.010            |\n",
       "| 5 | <= Inf           |  700             |  10.0%           |  148             |  552             |   8.9%           |  10.4%           | 78.9%            | -15.7            | 0.002            |\n",
       "| 7 | Total            | 7000             | 100.0%           | 1672             | 5328             | 100.0%           | 100.0%           | 76.1%            |    NA            | 0.034            |\n",
       "\n",
       "\n",
       "$`WOE Table for Loan_amount`\n",
       ":   \n",
       "| <!--/--> | Final.Bin | Total.Count | Total.Distr. | 1.Count | 0.Count | 1.Distr. | 0.Distr. | 0.Rate | WOE | IV |\n",
       "|---|---|---|---|---|---|---|---|---|---|---|\n",
       "| 1 | <= -0.8526511038 |  773             |  11.0%           |  126             |  647             |   7.5%           |  12.1%           | 83.7%            | -47.7            | 0.022            |\n",
       "| 2 | <= 0.2048114117  | 4357             |  62.2%           | 1036             | 3321             |  62.0%           |  62.3%           | 76.2%            |  -0.6            | 0.000            |\n",
       "| 3 | <= Inf           | 1870             |  26.7%           |  510             | 1360             |  30.5%           |  25.5%           | 72.7%            |  17.8            | 0.009            |\n",
       "| 5 | Total            | 7000             | 100.0%           | 1672             | 5328             | 100.0%           | 100.0%           | 76.1%            |    NA            | 0.031            |\n",
       "\n",
       "\n",
       "$`WOE Table for ID`\n",
       ":   \n",
       "| <!--/--> | Final.Bin | Total.Count | Total.Distr. | 1.Count | 0.Count | 1.Distr. | 0.Distr. | 0.Rate | WOE | IV |\n",
       "|---|---|---|---|---|---|---|---|---|---|---|\n",
       "| 1 | <= 282087.45 | 3150         |  45.0%       |  795         | 2355         |  47.5%       |  44.2%       | 74.8%        |   7.3        | 0.002        |\n",
       "| 2 | <= 284952.5  |  350         |   5.0%       |   60         |  290         |   3.6%       |   5.4%       | 82.9%        | -41.7        | 0.008        |\n",
       "| 3 | <= 293917.3  | 1400         |  20.0%       |  381         | 1019         |  22.8%       |  19.1%       | 72.8%        |  17.5        | 0.006        |\n",
       "| 4 | <= Inf       | 2100         |  30.0%       |  436         | 1664         |  26.1%       |  31.2%       | 79.2%        | -18.0        | 0.009        |\n",
       "| 6 | Total        | 7000         | 100.0%       | 1672         | 5328         | 100.0%       | 100.0%       | 76.1%        |    NA        | 0.026        |\n",
       "\n",
       "\n",
       "$`WOE Table for Has_FICO`\n",
       ":   \n",
       "| <!--/--> | Final.Bin | Total.Count | Total.Distr. | 1.Count | 0.Count | 1.Distr. | 0.Distr. | 0.Rate | WOE | IV |\n",
       "|---|---|---|---|---|---|---|---|---|---|---|\n",
       "| 1 | <= 0   | 3140   |  44.9% |  821   | 2319   |  49.1% |  43.5% | 73.9%  |  12.1  | 0.007  |\n",
       "| 2 | <= Inf | 3860   |  55.1% |  851   | 3009   |  50.9% |  56.5% | 78.0%  | -10.4  | 0.006  |\n",
       "| 4 | Total  | 7000   | 100.0% | 1672   | 5328   | 100.0% | 100.0% | 76.1%  |    NA  | 0.013  |\n",
       "\n",
       "\n",
       "$`WOE Table for Gearing_coefficient`\n",
       ":   \n",
       "| <!--/--> | Final.Bin | Total.Count | Total.Distr. | 1.Count | 0.Count | 1.Distr. | 0.Distr. | 0.Rate | WOE | IV |\n",
       "|---|---|---|---|---|---|---|---|---|---|---|\n",
       "| 1 | <= 0.2135682666 | 3150            |  45.0%          |  723            | 2427            |  43.2%          |  45.6%          | 77.0%           |  -5.2           | 0.001           |\n",
       "| 2 | <= 0.401890006  |  350            |   5.0%          |   69            |  281            |   4.1%          |   5.3%          | 80.3%           | -24.5           | 0.003           |\n",
       "| 3 | <= 0.560412318  |  350            |   5.0%          |   93            |  257            |   5.6%          |   4.8%          | 73.4%           |  14.2           | 0.001           |\n",
       "| 4 | <= 0.96009714   | 1403            |  20.0%          |  320            | 1083            |  19.1%          |  20.3%          | 77.2%           |  -6.0           | 0.001           |\n",
       "| 5 | <= Inf          | 1747            |  25.0%          |  467            | 1280            |  27.9%          |  24.0%          | 73.3%           |  15.1           | 0.006           |\n",
       "| 7 | Total           | 7000            | 100.0%          | 1672            | 5328            | 100.0%          | 100.0%          | 76.1%           |    NA           | 0.012           |\n",
       "\n",
       "\n",
       "$`WOE Table for Max_gearing_ratio`\n",
       ":   \n",
       "| <!--/--> | Final.Bin | Total.Count | Total.Distr. | 1.Count | 0.Count | 1.Distr. | 0.Distr. | 0.Rate | WOE | IV |\n",
       "|---|---|---|---|---|---|---|---|---|---|---|\n",
       "| 1 | <= -0.7686306524 | 4069             |  58.1%           |  932             | 3137             |  55.7%           |  58.9%           | 77.1%            | -5.5             | 0.002            |\n",
       "| 2 | <= 0.5139797985  | 1606             |  22.9%           |  430             | 1176             |  25.7%           |  22.1%           | 73.2%            | 15.3             | 0.006            |\n",
       "| 3 | <= Inf           | 1325             |  18.9%           |  310             | 1015             |  18.5%           |  19.1%           | 76.6%            | -2.7             | 0.000            |\n",
       "| 5 | Total            | 7000             | 100.0%           | 1672             | 5328             | 100.0%           | 100.0%           | 76.1%            |   NA             | 0.007            |\n",
       "\n",
       "\n",
       "\n",
       "\n"
      ],
      "text/plain": [
       "$`WOE Table for FICO_Score`\n",
       "         Final.Bin Total.Count Total.Distr. 1.Count 0.Count 1.Distr. 0.Distr.\n",
       "1 <= -0.8134164153        1066        15.2%     522     544    31.2%    10.2%\n",
       "2  <= 0.2926712821        4537        64.8%    1091    3446    65.3%    64.7%\n",
       "3           <= Inf        1397        20.0%      59    1338     3.5%    25.1%\n",
       "5            Total        7000       100.0%    1672    5328   100.0%   100.0%\n",
       "  0.Rate    WOE    IV\n",
       "1  51.0%  111.8 0.235\n",
       "2  76.0%    0.9 0.000\n",
       "3  95.8% -196.2 0.424\n",
       "5  76.1%     NA 0.658\n",
       "\n",
       "$`WOE Table for V5`\n",
       "  Final.Bin Total.Count Total.Distr. 1.Count 0.Count 1.Distr. 0.Distr. 0.Rate\n",
       "1      <= 2        2165        30.9%     818    1347    48.9%    25.3%  62.2%\n",
       "2      <= 5        2855        40.8%     620    2235    37.1%    41.9%  78.3%\n",
       "3    <= Inf        1980        28.3%     234    1746    14.0%    32.8%  88.2%\n",
       "5     Total        7000       100.0%    1672    5328   100.0%   100.0%  76.1%\n",
       "    WOE    IV\n",
       "1  66.0 0.156\n",
       "2 -12.3 0.006\n",
       "3 -85.1 0.160\n",
       "5    NA 0.322\n",
       "\n",
       "$`WOE Table for Age`\n",
       "        Final.Bin Total.Count Total.Distr. 1.Count 0.Count 1.Distr. 0.Distr.\n",
       "1 <= -1.438595864         433         6.2%     189     244    11.3%     4.6%\n",
       "2 <= 0.2086596473        3865        55.2%    1126    2739    67.3%    51.4%\n",
       "3          <= Inf        2702        38.6%     357    2345    21.4%    44.0%\n",
       "5           Total        7000       100.0%    1672    5328   100.0%   100.0%\n",
       "  0.Rate   WOE    IV\n",
       "1  56.4%  90.4 0.061\n",
       "2  70.9%  27.0 0.043\n",
       "3  86.8% -72.3 0.164\n",
       "5  76.1%    NA 0.268\n",
       "\n",
       "$`WOE Table for Business_channel`\n",
       "  Final.Bin Total.Count Total.Distr. 1.Count 0.Count 1.Distr. 0.Distr. 0.Rate\n",
       "1         3         656         9.4%      66     590     3.9%    11.1%  89.9%\n",
       "2         1        4901        70.0%    1028    3873    61.5%    72.7%  79.0%\n",
       "3         2        1443        20.6%     578     865    34.6%    16.2%  59.9%\n",
       "4     Total        7000       100.0%    1672    5328   100.0%   100.0%  76.1%\n",
       "     WOE    IV\n",
       "1 -103.2 0.074\n",
       "2  -16.7 0.019\n",
       "3   75.6 0.139\n",
       "4     NA 0.231\n",
       "\n",
       "$`WOE Table for V6`\n",
       "  Final.Bin Total.Count Total.Distr. 1.Count 0.Count 1.Distr. 0.Distr. 0.Rate\n",
       "1      <= 4        2733        39.0%     598    2135    35.8%    40.1%  78.1%\n",
       "2      <= 5        2781        39.7%     904    1877    54.1%    35.2%  67.5%\n",
       "3    <= Inf        1486        21.2%     170    1316    10.2%    24.7%  88.6%\n",
       "5     Total        7000       100.0%    1672    5328   100.0%   100.0%  76.1%\n",
       "    WOE    IV\n",
       "1 -11.4 0.005\n",
       "2  42.8 0.081\n",
       "3 -88.8 0.129\n",
       "5    NA 0.215\n",
       "\n",
       "$`WOE Table for V1`\n",
       "  Final.Bin Total.Count Total.Distr. 1.Count 0.Count 1.Distr. 0.Distr. 0.Rate\n",
       "1      <= 2        4416        63.1%     807    3609    48.3%    67.7%  81.7%\n",
       "2      <= 3        2007        28.7%     724    1283    43.3%    24.1%  63.9%\n",
       "3    <= Inf         577         8.2%     141     436     8.4%     8.2%  75.6%\n",
       "5     Total        7000       100.0%    1672    5328   100.0%   100.0%  76.1%\n",
       "    WOE    IV\n",
       "1 -33.9 0.066\n",
       "2  58.7 0.113\n",
       "3   3.0 0.000\n",
       "5    NA 0.179\n",
       "\n",
       "$`WOE Table for V4`\n",
       "  Final.Bin Total.Count Total.Distr. 1.Count 0.Count 1.Distr. 0.Distr. 0.Rate\n",
       "1      <= 4        5524        78.9%    1504    4020    90.0%    75.5%  72.8%\n",
       "2    <= Inf        1476        21.1%     168    1308    10.0%    24.5%  88.6%\n",
       "4     Total        7000       100.0%    1672    5328   100.0%   100.0%  76.1%\n",
       "    WOE    IV\n",
       "1  17.6 0.025\n",
       "2 -89.3 0.130\n",
       "4    NA 0.155\n",
       "\n",
       "$`WOE Table for V7`\n",
       "  Final.Bin Total.Count Total.Distr. 1.Count 0.Count 1.Distr. 0.Distr. 0.Rate\n",
       "1      <= 1        4241        60.6%     813    3428    48.6%    64.3%  80.8%\n",
       "2    <= Inf        2759        39.4%     859    1900    51.4%    35.7%  68.9%\n",
       "4     Total        7000       100.0%    1672    5328   100.0%   100.0%  76.1%\n",
       "    WOE    IV\n",
       "1 -28.0 0.044\n",
       "2  36.5 0.057\n",
       "4    NA 0.101\n",
       "\n",
       "$`WOE Table for V8`\n",
       "         Final.Bin Total.Count Total.Distr. 1.Count 0.Count 1.Distr. 0.Distr.\n",
       "1        4 + 3 + 2        4307        61.5%     849    3458    50.8%    64.9%\n",
       "2 misc. level pos.         111         1.6%      28      83     1.7%     1.6%\n",
       "3                1        2582        36.9%     795    1787    47.5%    33.5%\n",
       "4            Total        7000       100.0%    1672    5328   100.0%   100.0%\n",
       "  0.Rate   WOE    IV\n",
       "1  80.3% -24.5 0.035\n",
       "2  74.8%   7.2 0.000\n",
       "3  69.2%  34.9 0.049\n",
       "4  76.1%    NA 0.084\n",
       "\n",
       "$`WOE Table for V3`\n",
       "  Final.Bin Total.Count Total.Distr. 1.Count 0.Count 1.Distr. 0.Distr. 0.Rate\n",
       "1     <= 10        3749        53.6%    1031    2718    61.7%    51.0%  72.5%\n",
       "2     <= 11        2331        33.3%     413    1918    24.7%    36.0%  82.3%\n",
       "3    <= Inf         920        13.1%     228     692    13.6%    13.0%  75.2%\n",
       "5     Total        7000       100.0%    1672    5328   100.0%   100.0%  76.1%\n",
       "    WOE    IV\n",
       "1  19.0 0.020\n",
       "2 -37.7 0.043\n",
       "3   4.9 0.000\n",
       "5    NA 0.063\n",
       "\n",
       "$`WOE Table for V2`\n",
       "  Final.Bin Total.Count Total.Distr. 1.Count 0.Count 1.Distr. 0.Distr. 0.Rate\n",
       "1      <= 1         722        10.3%     123     599     7.4%    11.2%  83.0%\n",
       "2      <= 3        2889        41.3%     722    2167    43.2%    40.7%  75.0%\n",
       "3      <= 4        1591        22.7%     306    1285    18.3%    24.1%  80.8%\n",
       "4    <= Inf        1798        25.7%     521    1277    31.2%    24.0%  71.0%\n",
       "6     Total        7000       100.0%    1672    5328   100.0%   100.0%  76.1%\n",
       "    WOE    IV\n",
       "1 -42.4 0.016\n",
       "2   6.0 0.002\n",
       "3 -27.6 0.016\n",
       "4  26.2 0.019\n",
       "6    NA 0.053\n",
       "\n",
       "$`WOE Table for Monthly_income`\n",
       "         Final.Bin Total.Count Total.Distr. 1.Count 0.Count 1.Distr. 0.Distr.\n",
       "1  <= -0.689715781         700        10.0%     121     579     7.2%    10.9%\n",
       "2 <= -0.4179933117        2452        35.0%     556    1896    33.3%    35.6%\n",
       "3  <= 0.1669256496        2452        35.0%     639    1813    38.2%    34.0%\n",
       "4  <= 0.6370021404         696         9.9%     208     488    12.4%     9.2%\n",
       "5           <= Inf         700        10.0%     148     552     8.9%    10.4%\n",
       "7            Total        7000       100.0%    1672    5328   100.0%   100.0%\n",
       "  0.Rate   WOE    IV\n",
       "1  82.7% -40.7 0.015\n",
       "2  77.3%  -6.8 0.002\n",
       "3  73.9%  11.6 0.005\n",
       "4  70.1%  30.6 0.010\n",
       "5  78.9% -15.7 0.002\n",
       "7  76.1%    NA 0.034\n",
       "\n",
       "$`WOE Table for Loan_amount`\n",
       "         Final.Bin Total.Count Total.Distr. 1.Count 0.Count 1.Distr. 0.Distr.\n",
       "1 <= -0.8526511038         773        11.0%     126     647     7.5%    12.1%\n",
       "2  <= 0.2048114117        4357        62.2%    1036    3321    62.0%    62.3%\n",
       "3           <= Inf        1870        26.7%     510    1360    30.5%    25.5%\n",
       "5            Total        7000       100.0%    1672    5328   100.0%   100.0%\n",
       "  0.Rate   WOE    IV\n",
       "1  83.7% -47.7 0.022\n",
       "2  76.2%  -0.6 0.000\n",
       "3  72.7%  17.8 0.009\n",
       "5  76.1%    NA 0.031\n",
       "\n",
       "$`WOE Table for ID`\n",
       "     Final.Bin Total.Count Total.Distr. 1.Count 0.Count 1.Distr. 0.Distr.\n",
       "1 <= 282087.45        3150        45.0%     795    2355    47.5%    44.2%\n",
       "2  <= 284952.5         350         5.0%      60     290     3.6%     5.4%\n",
       "3  <= 293917.3        1400        20.0%     381    1019    22.8%    19.1%\n",
       "4       <= Inf        2100        30.0%     436    1664    26.1%    31.2%\n",
       "6        Total        7000       100.0%    1672    5328   100.0%   100.0%\n",
       "  0.Rate   WOE    IV\n",
       "1  74.8%   7.3 0.002\n",
       "2  82.9% -41.7 0.008\n",
       "3  72.8%  17.5 0.006\n",
       "4  79.2% -18.0 0.009\n",
       "6  76.1%    NA 0.026\n",
       "\n",
       "$`WOE Table for Has_FICO`\n",
       "  Final.Bin Total.Count Total.Distr. 1.Count 0.Count 1.Distr. 0.Distr. 0.Rate\n",
       "1      <= 0        3140        44.9%     821    2319    49.1%    43.5%  73.9%\n",
       "2    <= Inf        3860        55.1%     851    3009    50.9%    56.5%  78.0%\n",
       "4     Total        7000       100.0%    1672    5328   100.0%   100.0%  76.1%\n",
       "    WOE    IV\n",
       "1  12.1 0.007\n",
       "2 -10.4 0.006\n",
       "4    NA 0.013\n",
       "\n",
       "$`WOE Table for Gearing_coefficient`\n",
       "        Final.Bin Total.Count Total.Distr. 1.Count 0.Count 1.Distr. 0.Distr.\n",
       "1 <= 0.2135682666        3150        45.0%     723    2427    43.2%    45.6%\n",
       "2  <= 0.401890006         350         5.0%      69     281     4.1%     5.3%\n",
       "3  <= 0.560412318         350         5.0%      93     257     5.6%     4.8%\n",
       "4   <= 0.96009714        1403        20.0%     320    1083    19.1%    20.3%\n",
       "5          <= Inf        1747        25.0%     467    1280    27.9%    24.0%\n",
       "7           Total        7000       100.0%    1672    5328   100.0%   100.0%\n",
       "  0.Rate   WOE    IV\n",
       "1  77.0%  -5.2 0.001\n",
       "2  80.3% -24.5 0.003\n",
       "3  73.4%  14.2 0.001\n",
       "4  77.2%  -6.0 0.001\n",
       "5  73.3%  15.1 0.006\n",
       "7  76.1%    NA 0.012\n",
       "\n",
       "$`WOE Table for Max_gearing_ratio`\n",
       "         Final.Bin Total.Count Total.Distr. 1.Count 0.Count 1.Distr. 0.Distr.\n",
       "1 <= -0.7686306524        4069        58.1%     932    3137    55.7%    58.9%\n",
       "2  <= 0.5139797985        1606        22.9%     430    1176    25.7%    22.1%\n",
       "3           <= Inf        1325        18.9%     310    1015    18.5%    19.1%\n",
       "5            Total        7000       100.0%    1672    5328   100.0%   100.0%\n",
       "  0.Rate  WOE    IV\n",
       "1  77.1% -5.5 0.002\n",
       "2  73.2% 15.3 0.006\n",
       "3  76.6% -2.7 0.000\n",
       "5  76.1%   NA 0.007\n"
      ]
     },
     "metadata": {},
     "output_type": "display_data"
    }
   ],
   "source": [
    "# Tabulate the binned variables\n",
    "tabulate.binning <- woe.binning.table(tempbin)\n",
    "tabulate.binning\n"
   ]
  },
  {
   "cell_type": "code",
   "execution_count": 193,
   "metadata": {},
   "outputs": [],
   "source": [
    "subs<-train"
   ]
  },
  {
   "cell_type": "code",
   "execution_count": 327,
   "metadata": {},
   "outputs": [],
   "source": [
    "# Deploy the binning solution to the data frame\n",
    "# (i.e. add binned variables and corresponding WOE variables)\n",
    "train_woe <- woe.binning.deploy(subs, tempbin,\n",
    "                                               add.woe.or.dum.var='woe')\n",
    "# }"
   ]
  },
  {
   "cell_type": "code",
   "execution_count": 256,
   "metadata": {},
   "outputs": [],
   "source": [
    "# Apply binned values on valid\n",
    "valid_woe <- woe.binning.deploy(valid, tempbin,\n",
    "                                               add.woe.or.dum.var='woe')"
   ]
  },
  {
   "cell_type": "code",
   "execution_count": 305,
   "metadata": {},
   "outputs": [
    {
     "ename": "ERROR",
     "evalue": "Error in woe.get.clear.data(rejects_woe, default_flag = \"creditability\", : could not find function \"woe.get.clear.data\"\n",
     "output_type": "error",
     "traceback": [
      "Error in woe.get.clear.data(rejects_woe, default_flag = \"creditability\", : could not find function \"woe.get.clear.data\"\nTraceback:\n"
     ]
    }
   ],
   "source": [
    "# Apply binned values on rejects\n",
    "rejects_woe <- woe.binning.deploy(rejects, tempbin, add.woe.or.dum.var='woe')\n"
   ]
  },
  {
   "cell_type": "code",
   "execution_count": 328,
   "metadata": {},
   "outputs": [
    {
     "data": {
      "text/html": [
       "<ol class=list-inline>\n",
       "\t<li>'ID'</li>\n",
       "\t<li>'V1'</li>\n",
       "\t<li>'V2'</li>\n",
       "\t<li>'V3'</li>\n",
       "\t<li>'V4'</li>\n",
       "\t<li>'V5'</li>\n",
       "\t<li>'V6'</li>\n",
       "\t<li>'V7'</li>\n",
       "\t<li>'V8'</li>\n",
       "\t<li>'Has_FICO'</li>\n",
       "\t<li>'Business_channel'</li>\n",
       "\t<li>'FICO_Score'</li>\n",
       "\t<li>'Loan_amount'</li>\n",
       "\t<li>'Monthly_income'</li>\n",
       "\t<li>'Age'</li>\n",
       "\t<li>'Gearing_coefficient'</li>\n",
       "\t<li>'Max_gearing_ratio'</li>\n",
       "\t<li>'FICO_Score.binned'</li>\n",
       "\t<li>'woe.FICO_Score.binned'</li>\n",
       "\t<li>'V5.binned'</li>\n",
       "\t<li>'woe.V5.binned'</li>\n",
       "\t<li>'Age.binned'</li>\n",
       "\t<li>'woe.Age.binned'</li>\n",
       "\t<li>'Business_channel.binned'</li>\n",
       "\t<li>'woe.Business_channel.binned'</li>\n",
       "\t<li>'V6.binned'</li>\n",
       "\t<li>'woe.V6.binned'</li>\n",
       "\t<li>'V1.binned'</li>\n",
       "\t<li>'woe.V1.binned'</li>\n",
       "\t<li>'V4.binned'</li>\n",
       "\t<li>'woe.V4.binned'</li>\n",
       "\t<li>'V7.binned'</li>\n",
       "\t<li>'woe.V7.binned'</li>\n",
       "\t<li>'V8.binned'</li>\n",
       "\t<li>'woe.V8.binned'</li>\n",
       "\t<li>'V3.binned'</li>\n",
       "\t<li>'woe.V3.binned'</li>\n",
       "\t<li>'V2.binned'</li>\n",
       "\t<li>'woe.V2.binned'</li>\n",
       "\t<li>'Monthly_income.binned'</li>\n",
       "\t<li>'woe.Monthly_income.binned'</li>\n",
       "\t<li>'Loan_amount.binned'</li>\n",
       "\t<li>'woe.Loan_amount.binned'</li>\n",
       "\t<li>'ID.binned'</li>\n",
       "\t<li>'woe.ID.binned'</li>\n",
       "\t<li>'Has_FICO.binned'</li>\n",
       "\t<li>'woe.Has_FICO.binned'</li>\n",
       "\t<li>'Gearing_coefficient.binned'</li>\n",
       "\t<li>'woe.Gearing_coefficient.binned'</li>\n",
       "\t<li>'Max_gearing_ratio.binned'</li>\n",
       "\t<li>'woe.Max_gearing_ratio.binned'</li>\n",
       "</ol>\n"
      ],
      "text/latex": [
       "\\begin{enumerate*}\n",
       "\\item 'ID'\n",
       "\\item 'V1'\n",
       "\\item 'V2'\n",
       "\\item 'V3'\n",
       "\\item 'V4'\n",
       "\\item 'V5'\n",
       "\\item 'V6'\n",
       "\\item 'V7'\n",
       "\\item 'V8'\n",
       "\\item 'Has\\_FICO'\n",
       "\\item 'Business\\_channel'\n",
       "\\item 'FICO\\_Score'\n",
       "\\item 'Loan\\_amount'\n",
       "\\item 'Monthly\\_income'\n",
       "\\item 'Age'\n",
       "\\item 'Gearing\\_coefficient'\n",
       "\\item 'Max\\_gearing\\_ratio'\n",
       "\\item 'FICO\\_Score.binned'\n",
       "\\item 'woe.FICO\\_Score.binned'\n",
       "\\item 'V5.binned'\n",
       "\\item 'woe.V5.binned'\n",
       "\\item 'Age.binned'\n",
       "\\item 'woe.Age.binned'\n",
       "\\item 'Business\\_channel.binned'\n",
       "\\item 'woe.Business\\_channel.binned'\n",
       "\\item 'V6.binned'\n",
       "\\item 'woe.V6.binned'\n",
       "\\item 'V1.binned'\n",
       "\\item 'woe.V1.binned'\n",
       "\\item 'V4.binned'\n",
       "\\item 'woe.V4.binned'\n",
       "\\item 'V7.binned'\n",
       "\\item 'woe.V7.binned'\n",
       "\\item 'V8.binned'\n",
       "\\item 'woe.V8.binned'\n",
       "\\item 'V3.binned'\n",
       "\\item 'woe.V3.binned'\n",
       "\\item 'V2.binned'\n",
       "\\item 'woe.V2.binned'\n",
       "\\item 'Monthly\\_income.binned'\n",
       "\\item 'woe.Monthly\\_income.binned'\n",
       "\\item 'Loan\\_amount.binned'\n",
       "\\item 'woe.Loan\\_amount.binned'\n",
       "\\item 'ID.binned'\n",
       "\\item 'woe.ID.binned'\n",
       "\\item 'Has\\_FICO.binned'\n",
       "\\item 'woe.Has\\_FICO.binned'\n",
       "\\item 'Gearing\\_coefficient.binned'\n",
       "\\item 'woe.Gearing\\_coefficient.binned'\n",
       "\\item 'Max\\_gearing\\_ratio.binned'\n",
       "\\item 'woe.Max\\_gearing\\_ratio.binned'\n",
       "\\end{enumerate*}\n"
      ],
      "text/markdown": [
       "1. 'ID'\n",
       "2. 'V1'\n",
       "3. 'V2'\n",
       "4. 'V3'\n",
       "5. 'V4'\n",
       "6. 'V5'\n",
       "7. 'V6'\n",
       "8. 'V7'\n",
       "9. 'V8'\n",
       "10. 'Has_FICO'\n",
       "11. 'Business_channel'\n",
       "12. 'FICO_Score'\n",
       "13. 'Loan_amount'\n",
       "14. 'Monthly_income'\n",
       "15. 'Age'\n",
       "16. 'Gearing_coefficient'\n",
       "17. 'Max_gearing_ratio'\n",
       "18. 'FICO_Score.binned'\n",
       "19. 'woe.FICO_Score.binned'\n",
       "20. 'V5.binned'\n",
       "21. 'woe.V5.binned'\n",
       "22. 'Age.binned'\n",
       "23. 'woe.Age.binned'\n",
       "24. 'Business_channel.binned'\n",
       "25. 'woe.Business_channel.binned'\n",
       "26. 'V6.binned'\n",
       "27. 'woe.V6.binned'\n",
       "28. 'V1.binned'\n",
       "29. 'woe.V1.binned'\n",
       "30. 'V4.binned'\n",
       "31. 'woe.V4.binned'\n",
       "32. 'V7.binned'\n",
       "33. 'woe.V7.binned'\n",
       "34. 'V8.binned'\n",
       "35. 'woe.V8.binned'\n",
       "36. 'V3.binned'\n",
       "37. 'woe.V3.binned'\n",
       "38. 'V2.binned'\n",
       "39. 'woe.V2.binned'\n",
       "40. 'Monthly_income.binned'\n",
       "41. 'woe.Monthly_income.binned'\n",
       "42. 'Loan_amount.binned'\n",
       "43. 'woe.Loan_amount.binned'\n",
       "44. 'ID.binned'\n",
       "45. 'woe.ID.binned'\n",
       "46. 'Has_FICO.binned'\n",
       "47. 'woe.Has_FICO.binned'\n",
       "48. 'Gearing_coefficient.binned'\n",
       "49. 'woe.Gearing_coefficient.binned'\n",
       "50. 'Max_gearing_ratio.binned'\n",
       "51. 'woe.Max_gearing_ratio.binned'\n",
       "\n",
       "\n"
      ],
      "text/plain": [
       " [1] \"ID\"                             \"V1\"                            \n",
       " [3] \"V2\"                             \"V3\"                            \n",
       " [5] \"V4\"                             \"V5\"                            \n",
       " [7] \"V6\"                             \"V7\"                            \n",
       " [9] \"V8\"                             \"Has_FICO\"                      \n",
       "[11] \"Business_channel\"               \"FICO_Score\"                    \n",
       "[13] \"Loan_amount\"                    \"Monthly_income\"                \n",
       "[15] \"Age\"                            \"Gearing_coefficient\"           \n",
       "[17] \"Max_gearing_ratio\"              \"FICO_Score.binned\"             \n",
       "[19] \"woe.FICO_Score.binned\"          \"V5.binned\"                     \n",
       "[21] \"woe.V5.binned\"                  \"Age.binned\"                    \n",
       "[23] \"woe.Age.binned\"                 \"Business_channel.binned\"       \n",
       "[25] \"woe.Business_channel.binned\"    \"V6.binned\"                     \n",
       "[27] \"woe.V6.binned\"                  \"V1.binned\"                     \n",
       "[29] \"woe.V1.binned\"                  \"V4.binned\"                     \n",
       "[31] \"woe.V4.binned\"                  \"V7.binned\"                     \n",
       "[33] \"woe.V7.binned\"                  \"V8.binned\"                     \n",
       "[35] \"woe.V8.binned\"                  \"V3.binned\"                     \n",
       "[37] \"woe.V3.binned\"                  \"V2.binned\"                     \n",
       "[39] \"woe.V2.binned\"                  \"Monthly_income.binned\"         \n",
       "[41] \"woe.Monthly_income.binned\"      \"Loan_amount.binned\"            \n",
       "[43] \"woe.Loan_amount.binned\"         \"ID.binned\"                     \n",
       "[45] \"woe.ID.binned\"                  \"Has_FICO.binned\"               \n",
       "[47] \"woe.Has_FICO.binned\"            \"Gearing_coefficient.binned\"    \n",
       "[49] \"woe.Gearing_coefficient.binned\" \"Max_gearing_ratio.binned\"      \n",
       "[51] \"woe.Max_gearing_ratio.binned\"  "
      ]
     },
     "metadata": {},
     "output_type": "display_data"
    },
    {
     "data": {
      "text/html": [
       "<ol class=list-inline>\n",
       "\t<li>'ID'</li>\n",
       "\t<li>'V1'</li>\n",
       "\t<li>'V2'</li>\n",
       "\t<li>'V3'</li>\n",
       "\t<li>'V4'</li>\n",
       "\t<li>'V5'</li>\n",
       "\t<li>'V6'</li>\n",
       "\t<li>'V7'</li>\n",
       "\t<li>'V8'</li>\n",
       "\t<li>'Has_FICO'</li>\n",
       "\t<li>'Business_channel'</li>\n",
       "\t<li>'FICO_Score'</li>\n",
       "\t<li>'Loan_amount'</li>\n",
       "\t<li>'Monthly_income'</li>\n",
       "\t<li>'Age'</li>\n",
       "\t<li>'Gearing_coefficient'</li>\n",
       "\t<li>'Max_gearing_ratio'</li>\n",
       "\t<li>'Bad_creditability'</li>\n",
       "\t<li>'FICO_Score.binned'</li>\n",
       "\t<li>'woe.FICO_Score.binned'</li>\n",
       "\t<li>'V5.binned'</li>\n",
       "\t<li>'woe.V5.binned'</li>\n",
       "\t<li>'Age.binned'</li>\n",
       "\t<li>'woe.Age.binned'</li>\n",
       "\t<li>'Business_channel.binned'</li>\n",
       "\t<li>'woe.Business_channel.binned'</li>\n",
       "\t<li>'V6.binned'</li>\n",
       "\t<li>'woe.V6.binned'</li>\n",
       "\t<li>'V1.binned'</li>\n",
       "\t<li>'woe.V1.binned'</li>\n",
       "\t<li>'V4.binned'</li>\n",
       "\t<li>'woe.V4.binned'</li>\n",
       "\t<li>'V7.binned'</li>\n",
       "\t<li>'woe.V7.binned'</li>\n",
       "\t<li>'V8.binned'</li>\n",
       "\t<li>'woe.V8.binned'</li>\n",
       "\t<li>'V3.binned'</li>\n",
       "\t<li>'woe.V3.binned'</li>\n",
       "\t<li>'V2.binned'</li>\n",
       "\t<li>'woe.V2.binned'</li>\n",
       "\t<li>'Monthly_income.binned'</li>\n",
       "\t<li>'woe.Monthly_income.binned'</li>\n",
       "\t<li>'Loan_amount.binned'</li>\n",
       "\t<li>'woe.Loan_amount.binned'</li>\n",
       "\t<li>'ID.binned'</li>\n",
       "\t<li>'woe.ID.binned'</li>\n",
       "\t<li>'Has_FICO.binned'</li>\n",
       "\t<li>'woe.Has_FICO.binned'</li>\n",
       "\t<li>'Gearing_coefficient.binned'</li>\n",
       "\t<li>'woe.Gearing_coefficient.binned'</li>\n",
       "\t<li>'Max_gearing_ratio.binned'</li>\n",
       "\t<li>'woe.Max_gearing_ratio.binned'</li>\n",
       "</ol>\n"
      ],
      "text/latex": [
       "\\begin{enumerate*}\n",
       "\\item 'ID'\n",
       "\\item 'V1'\n",
       "\\item 'V2'\n",
       "\\item 'V3'\n",
       "\\item 'V4'\n",
       "\\item 'V5'\n",
       "\\item 'V6'\n",
       "\\item 'V7'\n",
       "\\item 'V8'\n",
       "\\item 'Has\\_FICO'\n",
       "\\item 'Business\\_channel'\n",
       "\\item 'FICO\\_Score'\n",
       "\\item 'Loan\\_amount'\n",
       "\\item 'Monthly\\_income'\n",
       "\\item 'Age'\n",
       "\\item 'Gearing\\_coefficient'\n",
       "\\item 'Max\\_gearing\\_ratio'\n",
       "\\item 'Bad\\_creditability'\n",
       "\\item 'FICO\\_Score.binned'\n",
       "\\item 'woe.FICO\\_Score.binned'\n",
       "\\item 'V5.binned'\n",
       "\\item 'woe.V5.binned'\n",
       "\\item 'Age.binned'\n",
       "\\item 'woe.Age.binned'\n",
       "\\item 'Business\\_channel.binned'\n",
       "\\item 'woe.Business\\_channel.binned'\n",
       "\\item 'V6.binned'\n",
       "\\item 'woe.V6.binned'\n",
       "\\item 'V1.binned'\n",
       "\\item 'woe.V1.binned'\n",
       "\\item 'V4.binned'\n",
       "\\item 'woe.V4.binned'\n",
       "\\item 'V7.binned'\n",
       "\\item 'woe.V7.binned'\n",
       "\\item 'V8.binned'\n",
       "\\item 'woe.V8.binned'\n",
       "\\item 'V3.binned'\n",
       "\\item 'woe.V3.binned'\n",
       "\\item 'V2.binned'\n",
       "\\item 'woe.V2.binned'\n",
       "\\item 'Monthly\\_income.binned'\n",
       "\\item 'woe.Monthly\\_income.binned'\n",
       "\\item 'Loan\\_amount.binned'\n",
       "\\item 'woe.Loan\\_amount.binned'\n",
       "\\item 'ID.binned'\n",
       "\\item 'woe.ID.binned'\n",
       "\\item 'Has\\_FICO.binned'\n",
       "\\item 'woe.Has\\_FICO.binned'\n",
       "\\item 'Gearing\\_coefficient.binned'\n",
       "\\item 'woe.Gearing\\_coefficient.binned'\n",
       "\\item 'Max\\_gearing\\_ratio.binned'\n",
       "\\item 'woe.Max\\_gearing\\_ratio.binned'\n",
       "\\end{enumerate*}\n"
      ],
      "text/markdown": [
       "1. 'ID'\n",
       "2. 'V1'\n",
       "3. 'V2'\n",
       "4. 'V3'\n",
       "5. 'V4'\n",
       "6. 'V5'\n",
       "7. 'V6'\n",
       "8. 'V7'\n",
       "9. 'V8'\n",
       "10. 'Has_FICO'\n",
       "11. 'Business_channel'\n",
       "12. 'FICO_Score'\n",
       "13. 'Loan_amount'\n",
       "14. 'Monthly_income'\n",
       "15. 'Age'\n",
       "16. 'Gearing_coefficient'\n",
       "17. 'Max_gearing_ratio'\n",
       "18. 'Bad_creditability'\n",
       "19. 'FICO_Score.binned'\n",
       "20. 'woe.FICO_Score.binned'\n",
       "21. 'V5.binned'\n",
       "22. 'woe.V5.binned'\n",
       "23. 'Age.binned'\n",
       "24. 'woe.Age.binned'\n",
       "25. 'Business_channel.binned'\n",
       "26. 'woe.Business_channel.binned'\n",
       "27. 'V6.binned'\n",
       "28. 'woe.V6.binned'\n",
       "29. 'V1.binned'\n",
       "30. 'woe.V1.binned'\n",
       "31. 'V4.binned'\n",
       "32. 'woe.V4.binned'\n",
       "33. 'V7.binned'\n",
       "34. 'woe.V7.binned'\n",
       "35. 'V8.binned'\n",
       "36. 'woe.V8.binned'\n",
       "37. 'V3.binned'\n",
       "38. 'woe.V3.binned'\n",
       "39. 'V2.binned'\n",
       "40. 'woe.V2.binned'\n",
       "41. 'Monthly_income.binned'\n",
       "42. 'woe.Monthly_income.binned'\n",
       "43. 'Loan_amount.binned'\n",
       "44. 'woe.Loan_amount.binned'\n",
       "45. 'ID.binned'\n",
       "46. 'woe.ID.binned'\n",
       "47. 'Has_FICO.binned'\n",
       "48. 'woe.Has_FICO.binned'\n",
       "49. 'Gearing_coefficient.binned'\n",
       "50. 'woe.Gearing_coefficient.binned'\n",
       "51. 'Max_gearing_ratio.binned'\n",
       "52. 'woe.Max_gearing_ratio.binned'\n",
       "\n",
       "\n"
      ],
      "text/plain": [
       " [1] \"ID\"                             \"V1\"                            \n",
       " [3] \"V2\"                             \"V3\"                            \n",
       " [5] \"V4\"                             \"V5\"                            \n",
       " [7] \"V6\"                             \"V7\"                            \n",
       " [9] \"V8\"                             \"Has_FICO\"                      \n",
       "[11] \"Business_channel\"               \"FICO_Score\"                    \n",
       "[13] \"Loan_amount\"                    \"Monthly_income\"                \n",
       "[15] \"Age\"                            \"Gearing_coefficient\"           \n",
       "[17] \"Max_gearing_ratio\"              \"Bad_creditability\"             \n",
       "[19] \"FICO_Score.binned\"              \"woe.FICO_Score.binned\"         \n",
       "[21] \"V5.binned\"                      \"woe.V5.binned\"                 \n",
       "[23] \"Age.binned\"                     \"woe.Age.binned\"                \n",
       "[25] \"Business_channel.binned\"        \"woe.Business_channel.binned\"   \n",
       "[27] \"V6.binned\"                      \"woe.V6.binned\"                 \n",
       "[29] \"V1.binned\"                      \"woe.V1.binned\"                 \n",
       "[31] \"V4.binned\"                      \"woe.V4.binned\"                 \n",
       "[33] \"V7.binned\"                      \"woe.V7.binned\"                 \n",
       "[35] \"V8.binned\"                      \"woe.V8.binned\"                 \n",
       "[37] \"V3.binned\"                      \"woe.V3.binned\"                 \n",
       "[39] \"V2.binned\"                      \"woe.V2.binned\"                 \n",
       "[41] \"Monthly_income.binned\"          \"woe.Monthly_income.binned\"     \n",
       "[43] \"Loan_amount.binned\"             \"woe.Loan_amount.binned\"        \n",
       "[45] \"ID.binned\"                      \"woe.ID.binned\"                 \n",
       "[47] \"Has_FICO.binned\"                \"woe.Has_FICO.binned\"           \n",
       "[49] \"Gearing_coefficient.binned\"     \"woe.Gearing_coefficient.binned\"\n",
       "[51] \"Max_gearing_ratio.binned\"       \"woe.Max_gearing_ratio.binned\"  "
      ]
     },
     "metadata": {},
     "output_type": "display_data"
    }
   ],
   "source": [
    "colnames(rejects_woe)\n",
    "colnames(train_woe)\n"
   ]
  },
  {
   "cell_type": "code",
   "execution_count": 329,
   "metadata": {},
   "outputs": [
    {
     "data": {
      "text/html": [
       "<table>\n",
       "<thead><tr><th scope=col>variable</th><th scope=col>info_value</th></tr></thead>\n",
       "<tbody>\n",
       "\t<tr><td>FICO_Score.binned    </td><td>0.6584435            </td></tr>\n",
       "\t<tr><td>woe.FICO_Score.binned</td><td>0.6584435            </td></tr>\n",
       "\t<tr><td>FICO_Score           </td><td>0.6027446            </td></tr>\n",
       "\t<tr><td>Monthly_income       </td><td>0.4705437            </td></tr>\n",
       "\t<tr><td>Age                  </td><td>0.3838196            </td></tr>\n",
       "\t<tr><td>Gearing_coefficient  </td><td>0.3527759            </td></tr>\n",
       "</tbody>\n",
       "</table>\n"
      ],
      "text/latex": [
       "\\begin{tabular}{r|ll}\n",
       " variable & info\\_value\\\\\n",
       "\\hline\n",
       "\t FICO\\_Score.binned     & 0.6584435              \\\\\n",
       "\t woe.FICO\\_Score.binned & 0.6584435              \\\\\n",
       "\t FICO\\_Score            & 0.6027446              \\\\\n",
       "\t Monthly\\_income        & 0.4705437              \\\\\n",
       "\t Age                   & 0.3838196            \\\\\n",
       "\t Gearing\\_coefficient   & 0.3527759              \\\\\n",
       "\\end{tabular}\n"
      ],
      "text/markdown": [
       "\n",
       "| variable | info_value |\n",
       "|---|---|\n",
       "| FICO_Score.binned     | 0.6584435             |\n",
       "| woe.FICO_Score.binned | 0.6584435             |\n",
       "| FICO_Score            | 0.6027446             |\n",
       "| Monthly_income        | 0.4705437             |\n",
       "| Age                   | 0.3838196             |\n",
       "| Gearing_coefficient   | 0.3527759             |\n",
       "\n"
      ],
      "text/plain": [
       "  variable              info_value\n",
       "1 FICO_Score.binned     0.6584435 \n",
       "2 woe.FICO_Score.binned 0.6584435 \n",
       "3 FICO_Score            0.6027446 \n",
       "4 Monthly_income        0.4705437 \n",
       "5 Age                   0.3838196 \n",
       "6 Gearing_coefficient   0.3527759 "
      ]
     },
     "metadata": {},
     "output_type": "display_data"
    }
   ],
   "source": [
    "head(iv(train_woe,\"Bad_creditability\",order=TRUE))"
   ]
  },
  {
   "cell_type": "markdown",
   "metadata": {},
   "source": [
    "### Fine tuning dataframe before application of the model"
   ]
  },
  {
   "cell_type": "code",
   "execution_count": null,
   "metadata": {},
   "outputs": [],
   "source": [
    "# Get the IV and DV list name\n",
    "# Dependent variable (DV)\n",
    "dv_list <- c('Bad_creditability')\n",
    "# Independent variable (IV)\n",
    "iv_list <- setdiff(colnames(train_woe), dv_list)  # Exclude the target variable\n",
    "iv_list <- setdiff(iv_list, 'ID')  # Exclude the client_id"
   ]
  },
  {
   "cell_type": "code",
   "execution_count": null,
   "metadata": {},
   "outputs": [],
   "source": [
    "# Pick out categorical, boolean and numerical variable\n",
    "iv_cat_list <- c()  # List to store categorical variable\n",
    "iv_bool_list <- c()  # List to store boolean variable\n",
    "iv_num_list <- c()  # List to store numerical variable\n",
    "for (v in iv_list) {\n",
    "    if (class(train_woe[, v]) == 'factor') {  # Factor == categorical variable\n",
    "        iv_cat_list <- c(iv_cat_list, v)\n",
    "    } else if (class(train_woe[, v]) == 'logical') {  # Logical == boolean variable\n",
    "        iv_bool_list <- c(iv_bool_list, v)\n",
    "    } else {  # Non-factor + Non-logical == numerical variable\n",
    "        iv_num_list <- c(iv_num_list, v)\n",
    "    }\n",
    "}"
   ]
  },
  {
   "cell_type": "code",
   "execution_count": null,
   "metadata": {},
   "outputs": [],
   "source": [
    "#Drop categorical data as all were processed\n",
    "\n",
    "for (v in iv_cat_list) {\n",
    "    # Train, valid, test\n",
    "    train_woe[, v] <- NULL\n",
    "    valid_woe[, v] <- NULL\n",
    "   \n",
    "    \n",
    "    # rejects \n",
    "    rejects_woe[, v] <- NULL\n",
    "}"
   ]
  },
  {
   "cell_type": "code",
   "execution_count": null,
   "metadata": {},
   "outputs": [],
   "source": [
    "# Convert boolean to numeric\n",
    "for (v in iv_bool_list) {\n",
    "    # Train, valid, test\n",
    "    train_woe[, v] <- as.numeric(train_woe[, v])\n",
    "    valid_woe[, v] <- as.numeric(valid_woe[, v])\n",
    "    \n",
    "    \n",
    "    # rejects\n",
    "    rejects_woe[, v] <- as.numeric(rejects_woe[, v])\n",
    "}"
   ]
  },
  {
   "cell_type": "code",
   "execution_count": null,
   "metadata": {},
   "outputs": [],
   "source": [
    "#Check infinite values and remove\n",
    "#Train, valid\n",
    "sum(apply(sapply(train_woe, is.infinite), 2, sum))\n",
    "sum(apply(sapply(valid_woe, is.infinite), 2, sum))\n",
    "\n",
    "# Rejects\n",
    "sum(apply(sapply(rejects_woe, is.infinite), 2, sum))"
   ]
  },
  {
   "cell_type": "code",
   "execution_count": null,
   "metadata": {},
   "outputs": [],
   "source": [
    "# Impute +/-Inf value by NA\n",
    "# Train, valid\n",
    "train_woe[sapply(train_woe, is.infinite)] <- NA\n",
    "valid_woe[sapply(valid_woe, is.infinite)] <- NA\n",
    "\n",
    "# Rejects\n",
    "rejects_woe[sapply(rejects_woe, is.infinite)] <- NA"
   ]
  },
  {
   "cell_type": "code",
   "execution_count": null,
   "metadata": {},
   "outputs": [],
   "source": [
    "# Check missing value\n",
    "# Train, valid\n",
    "sum(apply(is.na(train_woe), 2, sum))\n",
    "sum(apply(is.na(valid_woe), 2, sum))\n",
    "\n",
    "# Rejects (holdout)\n",
    "sum(apply(is.na(rejects_woe), 2, sum))"
   ]
  },
  {
   "cell_type": "code",
   "execution_count": null,
   "metadata": {},
   "outputs": [],
   "source": [
    "# Impute missing value in numerical variable by mean\n",
    "for (v in iv_num_list) {\n",
    "    # Train, valid, test\n",
    "    train_woe[is.na(train_woe[, v]), v] <- mean(train_woe[, v], na.rm=T)\n",
    "    valid_woe[is.na(valid_woe[, v]), v] <- mean(valid_woe[, v], na.rm=T)\n",
    "    \n",
    "    \n",
    "    # Rejects\n",
    "    rejects_woe[is.na(rejects_woe[, v]), v] <- mean(rejects_woe[, v], na.rm=T)\n",
    "}"
   ]
  },
  {
   "cell_type": "code",
   "execution_count": 292,
   "metadata": {},
   "outputs": [
    {
     "data": {
      "text/html": [
       "<ol class=list-inline>\n",
       "\t<li>3000</li>\n",
       "\t<li>52</li>\n",
       "</ol>\n"
      ],
      "text/latex": [
       "\\begin{enumerate*}\n",
       "\\item 3000\n",
       "\\item 52\n",
       "\\end{enumerate*}\n"
      ],
      "text/markdown": [
       "1. 3000\n",
       "2. 52\n",
       "\n",
       "\n"
      ],
      "text/plain": [
       "[1] 3000   52"
      ]
     },
     "metadata": {},
     "output_type": "display_data"
    },
    {
     "data": {
      "text/html": [
       "<ol class=list-inline>\n",
       "\t<li>3000</li>\n",
       "\t<li>52</li>\n",
       "</ol>\n"
      ],
      "text/latex": [
       "\\begin{enumerate*}\n",
       "\\item 3000\n",
       "\\item 52\n",
       "\\end{enumerate*}\n"
      ],
      "text/markdown": [
       "1. 3000\n",
       "2. 52\n",
       "\n",
       "\n"
      ],
      "text/plain": [
       "[1] 3000   52"
      ]
     },
     "metadata": {},
     "output_type": "display_data"
    },
    {
     "data": {
      "text/html": [
       "<ol class=list-inline>\n",
       "\t<li>5000</li>\n",
       "\t<li>17</li>\n",
       "</ol>\n"
      ],
      "text/latex": [
       "\\begin{enumerate*}\n",
       "\\item 5000\n",
       "\\item 17\n",
       "\\end{enumerate*}\n"
      ],
      "text/markdown": [
       "1. 5000\n",
       "2. 17\n",
       "\n",
       "\n"
      ],
      "text/plain": [
       "[1] 5000   17"
      ]
     },
     "metadata": {},
     "output_type": "display_data"
    }
   ],
   "source": [
    "# Check if train and test (holdout) have same variables\n",
    "# Train, valid, test\n",
    "dim(train_woe)\n",
    "dim(valid_woe)\n",
    "# Test (holdout) - This would have one less column than the above\n",
    "dim(rejects_woe)"
   ]
  },
  {
   "cell_type": "markdown",
   "metadata": {},
   "source": [
    "### Variable Selection"
   ]
  },
  {
   "cell_type": "code",
   "execution_count": null,
   "metadata": {},
   "outputs": [],
   "source": [
    "# For variable selection information value is used. This is executed via the Scorecard package\n",
    "#ls(\"package:scorecard\")\n",
    "#?var_filter\n",
    "\n",
    "iv(train_woe,\"Bad_creditability\",order=TRUE)"
   ]
  },
  {
   "cell_type": "code",
   "execution_count": null,
   "metadata": {},
   "outputs": [],
   "source": [
    "#Remove ID related variables\n",
    "\n",
    "best_iv_var = var_filter(train_woe, y = \"Bad_creditability\",var_rm =c(\"woe.ID.binned\",\"ID\"))\n",
    "dim(best_fs_var)\n"
   ]
  },
  {
   "cell_type": "code",
   "execution_count": null,
   "metadata": {},
   "outputs": [],
   "source": [
    "#Remove the target variable \n",
    "\n",
    "best_iv_var[[\"Bad_creditability\"]] <- NULL\n"
   ]
  },
  {
   "cell_type": "code",
   "execution_count": null,
   "metadata": {},
   "outputs": [],
   "source": [
    "# Apply variable selection to the data\n",
    "# Train\n",
    "var_select <- names(train_woe)[names(train_woe) %in% names(best_iv_var)]\n",
    "train_processed <- train_woe[, c('ID', var_select,'Bad_creditability')]\n",
    "# Valid\n",
    "var_select <- names(valid_woe)[names(valid_woe) %in% names(best_iv_var)]\n",
    "valid_processed <- valid_woe[, c('ID', var_select,'Bad_creditability')]\n",
    "\n",
    "# Reject\n",
    "var_select <- names(rejects_woe)[names(rejects_woe) %in% names(best_iv_var)]\n",
    "rejects_processed <- rejects_woe[, c('ID', var_select)]"
   ]
  },
  {
   "cell_type": "code",
   "execution_count": null,
   "metadata": {},
   "outputs": [],
   "source": [
    "# Final check if train and test (holdout) have same variables\n",
    "# Train, valid, test\n",
    "dim(train_processed)\n",
    "dim(valid_processed)\n",
    "\n",
    "# Test (holdout)\n",
    "dim(rejects_processed)"
   ]
  },
  {
   "cell_type": "code",
   "execution_count": null,
   "metadata": {},
   "outputs": [],
   "source": [
    "#Change type to numeric of woe.Business.binned in rejects as there was a difference when compared with training\n",
    "rejects_processed$woe.Business_channel.binned<-as.numeric(rejects_processed$woe.Business_channel.binned)\n"
   ]
  },
  {
   "cell_type": "markdown",
   "metadata": {},
   "source": [
    "### Model"
   ]
  },
  {
   "cell_type": "markdown",
   "metadata": {
    "collapsed": true
   },
   "source": [
    "### Gradient Boosted Tree"
   ]
  },
  {
   "cell_type": "code",
   "execution_count": null,
   "metadata": {},
   "outputs": [],
   "source": [
    "# Fit Gradient Boosted Tree Model\n",
    "# * Note I had to add mlr:: infront of modelling functions due to those functions being conflicted with other packages\n",
    "\n",
    "#load GBM\n",
    "getParamSet(\"classif.gbm\")\n",
    "\n",
    "#set 5 fold cross validation\n",
    "rdesc <- mlr::makeResampleDesc(\"CV\",iters = 5)\n",
    "\n",
    "# Define model - make a learner\n",
    "learner <- mlr::makeLearner(\"classif.gbm\", predict.type=\"prob\", fix.factors.prediction=T)\n",
    "\n",
    "# Define the task\n",
    "train_task <- mlr::makeClassifTask(id=\"bank_train\", data=train_processed[, -1], target=\"Bad_creditability\")\n",
    "\n",
    "\n",
    "# Set hyper parameter tuning\n",
    "tune_params <-makeParamSet(\n",
    "makeDiscreteParam(\"distribution\", values = \"bernoulli\"),\n",
    "makeIntegerParam(\"n.trees\", lower = 100, upper = 1000), #number of trees\n",
    "makeIntegerParam(\"interaction.depth\", lower = 2, upper = 10), #depth of tree\n",
    "makeNumericParam(\"shrinkage\",lower = 0.01, upper = 1)\n",
    ")\n",
    "ctrl = makeTuneControlGrid()\n",
    "\n",
    "# Run the hyper parameter tuning with k-fold CV\n",
    "if (length(tune_params$pars) > 0) {\n",
    "    # Run parameter tuning\n",
    "    res <- tuneParams(learner, task=train_task, resampling=rdesc,\n",
    "      par.set=tune_params, control=ctrl, measures=list(mlr::auc))\n",
    "    \n",
    "    # Extract best model\n",
    "    best_learner <- res$learner\n",
    "    \n",
    "} else {\n",
    "    # Simple cross-validation\n",
    "    res <- mlr::resample(learner, train_task, rdesc, measures=list(mlr::auc))\n",
    "    \n",
    "    # No parameter for tuning, only 1 best learner\n",
    "    best_learner <- learner\n",
    "}"
   ]
  },
  {
   "cell_type": "code",
   "execution_count": null,
   "metadata": {},
   "outputs": [],
   "source": [
    "# Retrain the model with tbe best hyper-parameters\n",
    "best_md <- mlr::train(best_learner, train_task)"
   ]
  },
  {
   "cell_type": "code",
   "execution_count": null,
   "metadata": {},
   "outputs": [],
   "source": [
    "# Make prediction on valid data\n",
    "pred <- predict(best_md, newdata=valid_processed[, -1])"
   ]
  },
  {
   "cell_type": "code",
   "execution_count": null,
   "metadata": {},
   "outputs": [],
   "source": [
    "#Check the accuracy\n",
    "\n",
    "mlr::performance(pred, measures = list(auc, acc, fpr, fnr, f1))\n",
    "\n",
    "##The accuracy of the model is good however it takes time and it would take more time when trying to predict to a larger dataset"
   ]
  },
  {
   "cell_type": "code",
   "execution_count": null,
   "metadata": {},
   "outputs": [],
   "source": [
    "#####################################################"
   ]
  },
  {
   "cell_type": "markdown",
   "metadata": {},
   "source": [
    "### Logistic Regression"
   ]
  },
  {
   "cell_type": "code",
   "execution_count": null,
   "metadata": {},
   "outputs": [],
   "source": [
    "# Next, I tried out a fairly simple however an effective model 'Logistic Regression', widely used in the industry.\n",
    "\n",
    "## * Note : I had to add the package name mlr:: infront due to functions being conflicted with other packages\n",
    "\n",
    "\n",
    "# Set up cross-validation\n",
    "# Cross validation is essential in order to make sure we do not overfit the data\n",
    "rdesc = mlr::makeResampleDesc(\"CV\", iters=5, predict=\"both\")\n",
    "\n",
    "# Define the model\n",
    "learner <- mlr::makeLearner(\"classif.logreg\", predict.type=\"prob\", fix.factors.prediction=T)\n",
    "\n",
    "# Define the task\n",
    "train_task <- mlr::makeClassifTask(id=\"bank_train\", data=train_processed[, -1], target=\"Bad_creditability\")\n",
    "\n",
    "# Set hyper parameter tuning\n",
    "tune_params <- mlr::makeParamSet(\n",
    ")\n",
    "ctrl = mlr::makeTuneControlGrid()\n",
    "\n",
    "# Run the hyper parameter tuning with k-fold CV\n",
    "if (length(tune_params$pars) > 0) {\n",
    "    # Run parameter tuning\n",
    "    res <- tuneParams(learner, task=train_task, resampling=rdesc,\n",
    "      par.set=tune_params, control=ctrl, measures=list(mlr::auc))\n",
    "    \n",
    "    # Extract best model or the one with best performance\n",
    "    best_learner <- res$learner\n",
    "    \n",
    "} else {\n",
    "    # Simple cross-validation\n",
    "    res <- # Make prediction on valid data\n",
    "pred <- predict(best_md, newdata=valid_processed[, -1])resample(learner, train_task, rdesc, measures=list(mlr::auc, setAggregation(mlr::auc, train.mean)))\n",
    "    \n",
    "    # No parameter for tuning, only 1 best learner\n",
    "    best_learner <- learner\n",
    "}"
   ]
  },
  {
   "cell_type": "code",
   "execution_count": null,
   "metadata": {},
   "outputs": [],
   "source": [
    "# Retrain the model with tbe best hyper-parameters\n",
    "best_md <- mlr::train(best_learner, train_task)"
   ]
  },
  {
   "cell_type": "code",
   "execution_count": null,
   "metadata": {},
   "outputs": [],
   "source": [
    "# Make prediction on valid data\n",
    "pred <- predict(best_md, newdata=valid_processed[, -1])\n"
   ]
  },
  {
   "cell_type": "code",
   "execution_count": null,
   "metadata": {},
   "outputs": [],
   "source": [
    "#Check the accuracy\n",
    "\n",
    "#mlr::performance(pred, measures=mlr::auc,acc,f1)\n",
    "\n",
    "mlr::performance(pred, measures = list(auc, acc, fpr, fnr, f1))"
   ]
  },
  {
   "cell_type": "markdown",
   "metadata": {},
   "source": [
    " The accuracy, acc and F1 values of the model is good although fpr and fnr is a slightly high\n",
    "However I pick the ' Logistic Regression' model due to ease of use and because it is less time consuming.\n",
    " Because, the time factor would be important in a real business setting.\n",
    "The GBM takes too much time though it may give better results, hence there is less value addition as time equals costs. \n"
   ]
  },
  {
   "cell_type": "markdown",
   "metadata": {},
   "source": [
    "### Generating predictions on the processed rejects data set"
   ]
  },
  {
   "cell_type": "code",
   "execution_count": null,
   "metadata": {},
   "outputs": [],
   "source": [
    "# Make prediction on reject data\n",
    "\n",
    "rejects_pred <- predict(best_md, newdata=rejects_processed[, -1])"
   ]
  },
  {
   "cell_type": "code",
   "execution_count": null,
   "metadata": {},
   "outputs": [],
   "source": [
    "\n",
    "# In rejects data we consider .10 above for default probability are defaulting while below may be good creditors\n",
    "# The reason why I considered the prob.1 rates was that I thought it would help the performance of the model better\n",
    "# for the reject inference to consider the probabilities derived from the model which used accepts dataset\n",
    "# However, it may be biased as the model was created using only the accepts data set.\n",
    "\n",
    "predicted.bad <- as.data.frame(ifelse(rejects_pred$data[['prob.1']]> 0.10, 1, 0))\n",
    "head(predicted.bad, 30)\n"
   ]
  },
  {
   "cell_type": "code",
   "execution_count": null,
   "metadata": {},
   "outputs": [],
   "source": [
    "#Assign the same name for the response\n",
    "\n",
    "names(predicted.bad)[1] <- \"Bad_creditability\""
   ]
  },
  {
   "cell_type": "code",
   "execution_count": null,
   "metadata": {},
   "outputs": [],
   "source": [
    "\n",
    "#Checking if the number of rows match the processed rejects data set\n",
    "dim(predicted.bad)"
   ]
  },
  {
   "cell_type": "code",
   "execution_count": null,
   "metadata": {},
   "outputs": [],
   "source": [
    "#Assigning type factor for bad creditability\n",
    "predicted.bad$Bad_creditability<-as.factor(predicted.bad$Bad_creditability)\n"
   ]
  },
  {
   "cell_type": "code",
   "execution_count": null,
   "metadata": {},
   "outputs": [],
   "source": [
    "\n",
    "# Checking if the bad_creditability rate is close to 75% of the dataset as it is the optimal value. \n",
    "# It is around 75% data, therefore we can proceed. \n",
    "\n",
    "length(predicted.bad$Bad_creditability[predicted.bad$Bad_creditability==1])\n"
   ]
  },
  {
   "cell_type": "code",
   "execution_count": null,
   "metadata": {},
   "outputs": [],
   "source": [
    "# Binding the values based on the probabilities with the rejects data set\n",
    "rejects_processed_pred<-cbind(rejects_processed,predicted.bad)\n",
    "\n",
    "head(rejects_processed_pred)\n"
   ]
  },
  {
   "cell_type": "markdown",
   "metadata": {},
   "source": [
    "### Final Training Data "
   ]
  },
  {
   "cell_type": "code",
   "execution_count": null,
   "metadata": {},
   "outputs": [],
   "source": [
    "######## Preparation of final training data ########"
   ]
  },
  {
   "cell_type": "code",
   "execution_count": null,
   "metadata": {},
   "outputs": [],
   "source": [
    "# Check if dimensions of both datasets are the same\n",
    "# This makes sure that both sets contains the same variables which is important when binding the two data sets.\n",
    "dim(rejects_processed_pred)\n",
    "dim(train_processed)"
   ]
  },
  {
   "cell_type": "code",
   "execution_count": null,
   "metadata": {},
   "outputs": [],
   "source": [
    "# Bind the two data set to create one large training set\n",
    "\n",
    "total_train<-rbind(train_processed,rejects_processed_pred)"
   ]
  },
  {
   "cell_type": "code",
   "execution_count": null,
   "metadata": {},
   "outputs": [],
   "source": [
    "#Check the final dimensions to see if the merge was a success.\n",
    "dim(total_train)"
   ]
  },
  {
   "cell_type": "markdown",
   "metadata": {},
   "source": [
    "## Training the model with both datasets"
   ]
  },
  {
   "cell_type": "code",
   "execution_count": null,
   "metadata": {},
   "outputs": [],
   "source": [
    "# Next I train the model with data set created combining both accepts and rejects data set \n",
    "# as this would provide a more realistic prediction,\n",
    "# when predicting the creditability of the customers\n",
    "\n",
    "# Set up cross-validation\n",
    "rdesc = mlr::makeResampleDesc(\"CV\", iters=5, predict=\"both\")\n",
    "\n",
    "# Define the model\n",
    "learner <- mlr::makeLearner(\"classif.logreg\", predict.type=\"prob\", fix.factors.prediction=T)\n",
    "\n",
    "# Define the task\n",
    "train_task <- mlr::makeClassifTask(id=\"bank_train\", data=total_train[, -1], target=\"Bad_creditability\")\n",
    "\n",
    "# Set hyper parameter tuning\n",
    "tune_params <- mlr::makeParamSet(\n",
    ")\n",
    "ctrl = mlr::makeTuneControlGrid()\n",
    "\n",
    "# Run the hyper parameter tuning with k-fold CV\n",
    "if (length(tune_params$pars) > 0) {\n",
    "  # Run parameter tuning\n",
    "  res <- tuneParams(learner, task=train_task, resampling=rdesc,\n",
    "                    par.set=tune_params, control=ctrl, measures=list(mlr::auc))\n",
    "  \n",
    "  # Extract best model\n",
    "  best_learner <- res$learner\n",
    "  \n",
    "} else {\n",
    "  # Simple cross-validation\n",
    "  res <- mlr::resample(learner, train_task, rdesc, measures=list(mlr::auc, setAggregation(mlr::auc, train.mean)))\n",
    "  \n",
    "  # No parameter for tuning, only 1 best learner\n",
    "  best_learner <- learner\n",
    "}\n"
   ]
  },
  {
   "cell_type": "code",
   "execution_count": null,
   "metadata": {},
   "outputs": [],
   "source": [
    "\n",
    "#train model with best parameters\n",
    "best_md <- mlr::train(best_learner, train_task)"
   ]
  },
  {
   "cell_type": "code",
   "execution_count": null,
   "metadata": {},
   "outputs": [],
   "source": [
    "\n",
    "# Make prediction on valid data\n",
    "pred_new <- predict(best_md, newdata=valid_processed[, -1])\n"
   ]
  },
  {
   "cell_type": "code",
   "execution_count": null,
   "metadata": {},
   "outputs": [],
   "source": [
    "\n",
    "#Check accuracy\n",
    "#performance(pred, measures=mlr::auc,acc,fpr, fnr, f1)\n",
    "\n",
    "mlr::performance(pred_new, measures = list(mlr::auc, mlr::acc, mlr::fpr, mlr::fnr, mlr::f1))"
   ]
  },
  {
   "cell_type": "markdown",
   "metadata": {},
   "source": [
    "\n",
    "#### The auc is 0.753 and has declined slightly with the new model but only by 0.1 however false positive\n",
    "####  and false negative rate have drastically declined. \n",
    "####  In other words, this means that falsely rejecting a null hypothesis has gone down.\n",
    "####  False positive rate means the number of negative items which are wrongly classified as positive,\n",
    "#####  in this case as individuals with 'Bad creditability' but are actually 'Good'.\n",
    "####  while false negative means number which is falsely classified as positive however when it is not,\n",
    "#####  and in this case individuals who are marked as 'Good' but are actually bad.\n",
    "####  False positive rate also provides an indication of the significance of the result. (Significance = 1-FPR) \n",
    "\n",
    "####  Hence you can see that significance is good with the results and also that it has improved with the latest results."
   ]
  },
  {
   "cell_type": "code",
   "execution_count": null,
   "metadata": {},
   "outputs": [],
   "source": [
    "\n",
    "\n",
    "#############################################################\n",
    "##############################################################\n",
    "################## Survival Analysis #########################\n",
    "##############################################################"
   ]
  },
  {
   "cell_type": "code",
   "execution_count": null,
   "metadata": {},
   "outputs": [],
   "source": [
    "\n",
    " #install.packages(\"survival\")\n",
    "# Loading the package\n",
    "library(\"survival\")"
   ]
  },
  {
   "cell_type": "code",
   "execution_count": null,
   "metadata": {},
   "outputs": [],
   "source": [
    "\n",
    "#Read in the two data files\n",
    "credit_s <- read.table(\"creditsurv.csv\", header = T) \n",
    "head(credit_s)"
   ]
  },
  {
   "cell_type": "code",
   "execution_count": null,
   "metadata": {},
   "outputs": [],
   "source": [
    "\n",
    "# Investigate the variables \n",
    "summary(credit_s)\n"
   ]
  },
  {
   "cell_type": "code",
   "execution_count": null,
   "metadata": {},
   "outputs": [],
   "source": [
    "\n",
    "#Identify time and status variable to incorporate survival analysis\n",
    "#Curradd: years at address\n",
    "#Curremp: years at current work place\n",
    "#Homephon:  Has home phone or not\n",
    "#Marstat : Marital status\n",
    "#Homeowns:  Has home or not\n"
   ]
  },
  {
   "cell_type": "code",
   "execution_count": null,
   "metadata": {},
   "outputs": [],
   "source": [
    "\n",
    "#Creating survival function for Censore - assuming it's early payment\n",
    "\n",
    "surv=survfit(Surv(credit_s$Curradd,credit_s$Curremp,credit_s$Homephon,credit_s$Marstat,credit_s$Homeowns,credit_s$Censore == 1)~1)\n",
    "surv"
   ]
  },
  {
   "cell_type": "code",
   "execution_count": null,
   "metadata": {},
   "outputs": [],
   "source": [
    "\n",
    "#Plot the model to view the probabilities for survival of early payments as time passes\n",
    "plot(surv)"
   ]
  },
  {
   "cell_type": "code",
   "execution_count": null,
   "metadata": {},
   "outputs": [],
   "source": []
  }
 ],
 "metadata": {
  "kernelspec": {
   "display_name": "R",
   "language": "R",
   "name": "ir"
  },
  "language_info": {
   "codemirror_mode": "r",
   "file_extension": ".r",
   "mimetype": "text/x-r-source",
   "name": "R",
   "pygments_lexer": "r",
   "version": "3.6.0"
  }
 },
 "nbformat": 4,
 "nbformat_minor": 2
}
